{
 "cells": [
  {
   "cell_type": "markdown",
   "id": "d96e9404",
   "metadata": {},
   "source": [
    "## importing my data"
   ]
  },
  {
   "cell_type": "code",
   "execution_count": 1,
   "id": "1081d248",
   "metadata": {},
   "outputs": [],
   "source": [
    "from sklearn.linear_model import LinearRegression"
   ]
  },
  {
   "cell_type": "code",
   "execution_count": 2,
   "id": "35e5653a",
   "metadata": {},
   "outputs": [],
   "source": [
    "import pandas as pd\n",
    "import numpy as np\n",
    "from sklearn import svm\n",
    "from sklearn.neural_network import MLPClassifier\n",
    "from sklearn.ensemble import RandomForestClassifier\n",
    "from sklearn.svm import SVC\n",
    "from sklearn.metrics import confusion_matrix, classification_report\n",
    "from sklearn.preprocessing import StandardScaler, LabelEncoder\n",
    "from sklearn.model_selection import train_test_split"
   ]
  },
  {
   "cell_type": "code",
   "execution_count": 3,
   "id": "8d2ea64d",
   "metadata": {},
   "outputs": [],
   "source": [
    "df_train = pd.read_csv('df_train.csv', index_col = 0)\n",
    "df_test = pd.read_csv('df_test.csv', index_col = 0)"
   ]
  },
  {
   "cell_type": "code",
   "execution_count": 4,
   "id": "fe7699d0",
   "metadata": {},
   "outputs": [
    {
     "data": {
      "text/html": [
       "<div>\n",
       "<style scoped>\n",
       "    .dataframe tbody tr th:only-of-type {\n",
       "        vertical-align: middle;\n",
       "    }\n",
       "\n",
       "    .dataframe tbody tr th {\n",
       "        vertical-align: top;\n",
       "    }\n",
       "\n",
       "    .dataframe thead th {\n",
       "        text-align: right;\n",
       "    }\n",
       "</style>\n",
       "<table border=\"1\" class=\"dataframe\">\n",
       "  <thead>\n",
       "    <tr style=\"text-align: right;\">\n",
       "      <th></th>\n",
       "      <th>time</th>\n",
       "      <th>Madrid_wind_speed</th>\n",
       "      <th>Valencia_wind_deg</th>\n",
       "      <th>Bilbao_rain_1h</th>\n",
       "      <th>Valencia_wind_speed</th>\n",
       "      <th>Seville_humidity</th>\n",
       "      <th>Madrid_humidity</th>\n",
       "      <th>Bilbao_clouds_all</th>\n",
       "      <th>Bilbao_wind_speed</th>\n",
       "      <th>Seville_clouds_all</th>\n",
       "      <th>...</th>\n",
       "      <th>Barcelona_temp_max</th>\n",
       "      <th>Madrid_temp_max</th>\n",
       "      <th>Barcelona_temp</th>\n",
       "      <th>Bilbao_temp_min</th>\n",
       "      <th>Bilbao_temp</th>\n",
       "      <th>Barcelona_temp_min</th>\n",
       "      <th>Bilbao_temp_max</th>\n",
       "      <th>Seville_temp_min</th>\n",
       "      <th>Madrid_temp</th>\n",
       "      <th>Madrid_temp_min</th>\n",
       "    </tr>\n",
       "  </thead>\n",
       "  <tbody>\n",
       "    <tr>\n",
       "      <th>8763</th>\n",
       "      <td>2018-01-01 00:00:00</td>\n",
       "      <td>5.000000</td>\n",
       "      <td>level_8</td>\n",
       "      <td>0.0</td>\n",
       "      <td>5.000000</td>\n",
       "      <td>87.000000</td>\n",
       "      <td>71.333333</td>\n",
       "      <td>20.000000</td>\n",
       "      <td>3.000000</td>\n",
       "      <td>0.000000</td>\n",
       "      <td>...</td>\n",
       "      <td>287.816667</td>\n",
       "      <td>280.816667</td>\n",
       "      <td>287.356667</td>\n",
       "      <td>276.150000</td>\n",
       "      <td>280.380000</td>\n",
       "      <td>286.816667</td>\n",
       "      <td>285.150000</td>\n",
       "      <td>283.150000</td>\n",
       "      <td>279.866667</td>\n",
       "      <td>279.150000</td>\n",
       "    </tr>\n",
       "    <tr>\n",
       "      <th>8764</th>\n",
       "      <td>2018-01-01 03:00:00</td>\n",
       "      <td>4.666667</td>\n",
       "      <td>level_8</td>\n",
       "      <td>0.0</td>\n",
       "      <td>5.333333</td>\n",
       "      <td>89.000000</td>\n",
       "      <td>78.000000</td>\n",
       "      <td>0.000000</td>\n",
       "      <td>3.666667</td>\n",
       "      <td>0.000000</td>\n",
       "      <td>...</td>\n",
       "      <td>284.816667</td>\n",
       "      <td>280.483333</td>\n",
       "      <td>284.190000</td>\n",
       "      <td>277.816667</td>\n",
       "      <td>281.010000</td>\n",
       "      <td>283.483333</td>\n",
       "      <td>284.150000</td>\n",
       "      <td>281.150000</td>\n",
       "      <td>279.193333</td>\n",
       "      <td>278.150000</td>\n",
       "    </tr>\n",
       "    <tr>\n",
       "      <th>8765</th>\n",
       "      <td>2018-01-01 06:00:00</td>\n",
       "      <td>2.333333</td>\n",
       "      <td>level_7</td>\n",
       "      <td>0.0</td>\n",
       "      <td>5.000000</td>\n",
       "      <td>89.000000</td>\n",
       "      <td>89.666667</td>\n",
       "      <td>0.000000</td>\n",
       "      <td>2.333333</td>\n",
       "      <td>6.666667</td>\n",
       "      <td>...</td>\n",
       "      <td>284.483333</td>\n",
       "      <td>276.483333</td>\n",
       "      <td>283.150000</td>\n",
       "      <td>276.816667</td>\n",
       "      <td>279.196667</td>\n",
       "      <td>281.816667</td>\n",
       "      <td>282.150000</td>\n",
       "      <td>280.483333</td>\n",
       "      <td>276.340000</td>\n",
       "      <td>276.150000</td>\n",
       "    </tr>\n",
       "    <tr>\n",
       "      <th>8766</th>\n",
       "      <td>2018-01-01 09:00:00</td>\n",
       "      <td>2.666667</td>\n",
       "      <td>level_7</td>\n",
       "      <td>0.0</td>\n",
       "      <td>5.333333</td>\n",
       "      <td>93.333333</td>\n",
       "      <td>82.666667</td>\n",
       "      <td>26.666667</td>\n",
       "      <td>5.666667</td>\n",
       "      <td>6.666667</td>\n",
       "      <td>...</td>\n",
       "      <td>284.150000</td>\n",
       "      <td>277.150000</td>\n",
       "      <td>283.190000</td>\n",
       "      <td>279.150000</td>\n",
       "      <td>281.740000</td>\n",
       "      <td>282.150000</td>\n",
       "      <td>284.483333</td>\n",
       "      <td>279.150000</td>\n",
       "      <td>275.953333</td>\n",
       "      <td>274.483333</td>\n",
       "    </tr>\n",
       "    <tr>\n",
       "      <th>8767</th>\n",
       "      <td>2018-01-01 12:00:00</td>\n",
       "      <td>4.000000</td>\n",
       "      <td>level_7</td>\n",
       "      <td>0.0</td>\n",
       "      <td>8.666667</td>\n",
       "      <td>65.333333</td>\n",
       "      <td>64.000000</td>\n",
       "      <td>26.666667</td>\n",
       "      <td>10.666667</td>\n",
       "      <td>0.000000</td>\n",
       "      <td>...</td>\n",
       "      <td>287.483333</td>\n",
       "      <td>281.150000</td>\n",
       "      <td>286.816667</td>\n",
       "      <td>281.816667</td>\n",
       "      <td>284.116667</td>\n",
       "      <td>286.150000</td>\n",
       "      <td>286.816667</td>\n",
       "      <td>284.483333</td>\n",
       "      <td>280.686667</td>\n",
       "      <td>280.150000</td>\n",
       "    </tr>\n",
       "  </tbody>\n",
       "</table>\n",
       "<p>5 rows × 47 columns</p>\n",
       "</div>"
      ],
      "text/plain": [
       "                     time  Madrid_wind_speed Valencia_wind_deg  \\\n",
       "8763  2018-01-01 00:00:00           5.000000           level_8   \n",
       "8764  2018-01-01 03:00:00           4.666667           level_8   \n",
       "8765  2018-01-01 06:00:00           2.333333           level_7   \n",
       "8766  2018-01-01 09:00:00           2.666667           level_7   \n",
       "8767  2018-01-01 12:00:00           4.000000           level_7   \n",
       "\n",
       "      Bilbao_rain_1h  Valencia_wind_speed  Seville_humidity  Madrid_humidity  \\\n",
       "8763             0.0             5.000000         87.000000        71.333333   \n",
       "8764             0.0             5.333333         89.000000        78.000000   \n",
       "8765             0.0             5.000000         89.000000        89.666667   \n",
       "8766             0.0             5.333333         93.333333        82.666667   \n",
       "8767             0.0             8.666667         65.333333        64.000000   \n",
       "\n",
       "      Bilbao_clouds_all  Bilbao_wind_speed  Seville_clouds_all  ...  \\\n",
       "8763          20.000000           3.000000            0.000000  ...   \n",
       "8764           0.000000           3.666667            0.000000  ...   \n",
       "8765           0.000000           2.333333            6.666667  ...   \n",
       "8766          26.666667           5.666667            6.666667  ...   \n",
       "8767          26.666667          10.666667            0.000000  ...   \n",
       "\n",
       "      Barcelona_temp_max  Madrid_temp_max  Barcelona_temp  Bilbao_temp_min  \\\n",
       "8763          287.816667       280.816667      287.356667       276.150000   \n",
       "8764          284.816667       280.483333      284.190000       277.816667   \n",
       "8765          284.483333       276.483333      283.150000       276.816667   \n",
       "8766          284.150000       277.150000      283.190000       279.150000   \n",
       "8767          287.483333       281.150000      286.816667       281.816667   \n",
       "\n",
       "      Bilbao_temp  Barcelona_temp_min Bilbao_temp_max  Seville_temp_min  \\\n",
       "8763   280.380000          286.816667      285.150000        283.150000   \n",
       "8764   281.010000          283.483333      284.150000        281.150000   \n",
       "8765   279.196667          281.816667      282.150000        280.483333   \n",
       "8766   281.740000          282.150000      284.483333        279.150000   \n",
       "8767   284.116667          286.150000      286.816667        284.483333   \n",
       "\n",
       "      Madrid_temp  Madrid_temp_min  \n",
       "8763   279.866667       279.150000  \n",
       "8764   279.193333       278.150000  \n",
       "8765   276.340000       276.150000  \n",
       "8766   275.953333       274.483333  \n",
       "8767   280.686667       280.150000  \n",
       "\n",
       "[5 rows x 47 columns]"
      ]
     },
     "execution_count": 4,
     "metadata": {},
     "output_type": "execute_result"
    }
   ],
   "source": [
    "df_test.head()"
   ]
  },
  {
   "cell_type": "code",
   "execution_count": 5,
   "id": "1ac06b2b",
   "metadata": {},
   "outputs": [],
   "source": [
    "df = pd.concat([df_train,df_test])"
   ]
  },
  {
   "cell_type": "code",
   "execution_count": null,
   "id": "918a9c9f",
   "metadata": {},
   "outputs": [],
   "source": []
  },
  {
   "cell_type": "code",
   "execution_count": 6,
   "id": "97b8207b",
   "metadata": {},
   "outputs": [
    {
     "data": {
      "text/plain": [
       "time                       0\n",
       "Madrid_wind_speed          0\n",
       "Valencia_wind_deg          0\n",
       "Bilbao_rain_1h             0\n",
       "Valencia_wind_speed        0\n",
       "Seville_humidity           0\n",
       "Madrid_humidity            0\n",
       "Bilbao_clouds_all          0\n",
       "Bilbao_wind_speed          0\n",
       "Seville_clouds_all         0\n",
       "Bilbao_wind_deg            0\n",
       "Barcelona_wind_speed       0\n",
       "Barcelona_wind_deg         0\n",
       "Madrid_clouds_all          0\n",
       "Seville_wind_speed         0\n",
       "Barcelona_rain_1h          0\n",
       "Seville_pressure           0\n",
       "Seville_rain_1h            0\n",
       "Bilbao_snow_3h             0\n",
       "Barcelona_pressure         0\n",
       "Seville_rain_3h            0\n",
       "Madrid_rain_1h             0\n",
       "Barcelona_rain_3h          0\n",
       "Valencia_snow_3h           0\n",
       "Madrid_weather_id          0\n",
       "Barcelona_weather_id       0\n",
       "Bilbao_pressure            0\n",
       "Seville_weather_id         0\n",
       "Valencia_pressure       2522\n",
       "Seville_temp_max           0\n",
       "Madrid_pressure            0\n",
       "Valencia_temp_max          0\n",
       "Valencia_temp              0\n",
       "Bilbao_weather_id          0\n",
       "Seville_temp               0\n",
       "Valencia_humidity          0\n",
       "Valencia_temp_min          0\n",
       "Barcelona_temp_max         0\n",
       "Madrid_temp_max            0\n",
       "Barcelona_temp             0\n",
       "Bilbao_temp_min            0\n",
       "Bilbao_temp                0\n",
       "Barcelona_temp_min         0\n",
       "Bilbao_temp_max            0\n",
       "Seville_temp_min           0\n",
       "Madrid_temp                0\n",
       "Madrid_temp_min            0\n",
       "load_shortfall_3h       2920\n",
       "dtype: int64"
      ]
     },
     "execution_count": 6,
     "metadata": {},
     "output_type": "execute_result"
    }
   ],
   "source": [
    "df.isnull().sum()"
   ]
  },
  {
   "cell_type": "code",
   "execution_count": 7,
   "id": "0e20370f",
   "metadata": {},
   "outputs": [],
   "source": [
    "df['Valencia_pressure'] = df['Valencia_pressure'].fillna(df['Valencia_pressure'].mode()[0])"
   ]
  },
  {
   "cell_type": "code",
   "execution_count": 8,
   "id": "b101c6c3",
   "metadata": {},
   "outputs": [
    {
     "data": {
      "text/plain": [
       "time                       0\n",
       "Madrid_wind_speed          0\n",
       "Valencia_wind_deg          0\n",
       "Bilbao_rain_1h             0\n",
       "Valencia_wind_speed        0\n",
       "Seville_humidity           0\n",
       "Madrid_humidity            0\n",
       "Bilbao_clouds_all          0\n",
       "Bilbao_wind_speed          0\n",
       "Seville_clouds_all         0\n",
       "Bilbao_wind_deg            0\n",
       "Barcelona_wind_speed       0\n",
       "Barcelona_wind_deg         0\n",
       "Madrid_clouds_all          0\n",
       "Seville_wind_speed         0\n",
       "Barcelona_rain_1h          0\n",
       "Seville_pressure           0\n",
       "Seville_rain_1h            0\n",
       "Bilbao_snow_3h             0\n",
       "Barcelona_pressure         0\n",
       "Seville_rain_3h            0\n",
       "Madrid_rain_1h             0\n",
       "Barcelona_rain_3h          0\n",
       "Valencia_snow_3h           0\n",
       "Madrid_weather_id          0\n",
       "Barcelona_weather_id       0\n",
       "Bilbao_pressure            0\n",
       "Seville_weather_id         0\n",
       "Valencia_pressure          0\n",
       "Seville_temp_max           0\n",
       "Madrid_pressure            0\n",
       "Valencia_temp_max          0\n",
       "Valencia_temp              0\n",
       "Bilbao_weather_id          0\n",
       "Seville_temp               0\n",
       "Valencia_humidity          0\n",
       "Valencia_temp_min          0\n",
       "Barcelona_temp_max         0\n",
       "Madrid_temp_max            0\n",
       "Barcelona_temp             0\n",
       "Bilbao_temp_min            0\n",
       "Bilbao_temp                0\n",
       "Barcelona_temp_min         0\n",
       "Bilbao_temp_max            0\n",
       "Seville_temp_min           0\n",
       "Madrid_temp                0\n",
       "Madrid_temp_min            0\n",
       "load_shortfall_3h       2920\n",
       "dtype: int64"
      ]
     },
     "execution_count": 8,
     "metadata": {},
     "output_type": "execute_result"
    }
   ],
   "source": [
    "df.isnull().sum()"
   ]
  },
  {
   "cell_type": "code",
   "execution_count": 9,
   "id": "1404fd37",
   "metadata": {},
   "outputs": [
    {
     "data": {
      "text/plain": [
       "time                     object\n",
       "Madrid_wind_speed       float64\n",
       "Valencia_wind_deg        object\n",
       "Bilbao_rain_1h          float64\n",
       "Valencia_wind_speed     float64\n",
       "Seville_humidity        float64\n",
       "Madrid_humidity         float64\n",
       "Bilbao_clouds_all       float64\n",
       "Bilbao_wind_speed       float64\n",
       "Seville_clouds_all      float64\n",
       "Bilbao_wind_deg         float64\n",
       "Barcelona_wind_speed    float64\n",
       "Barcelona_wind_deg      float64\n",
       "Madrid_clouds_all       float64\n",
       "Seville_wind_speed      float64\n",
       "Barcelona_rain_1h       float64\n",
       "Seville_pressure         object\n",
       "Seville_rain_1h         float64\n",
       "Bilbao_snow_3h          float64\n",
       "Barcelona_pressure      float64\n",
       "Seville_rain_3h         float64\n",
       "Madrid_rain_1h          float64\n",
       "Barcelona_rain_3h       float64\n",
       "Valencia_snow_3h        float64\n",
       "Madrid_weather_id       float64\n",
       "Barcelona_weather_id    float64\n",
       "Bilbao_pressure         float64\n",
       "Seville_weather_id      float64\n",
       "Valencia_pressure       float64\n",
       "Seville_temp_max        float64\n",
       "Madrid_pressure         float64\n",
       "Valencia_temp_max       float64\n",
       "Valencia_temp           float64\n",
       "Bilbao_weather_id       float64\n",
       "Seville_temp            float64\n",
       "Valencia_humidity       float64\n",
       "Valencia_temp_min       float64\n",
       "Barcelona_temp_max      float64\n",
       "Madrid_temp_max         float64\n",
       "Barcelona_temp          float64\n",
       "Bilbao_temp_min         float64\n",
       "Bilbao_temp             float64\n",
       "Barcelona_temp_min      float64\n",
       "Bilbao_temp_max         float64\n",
       "Seville_temp_min        float64\n",
       "Madrid_temp             float64\n",
       "Madrid_temp_min         float64\n",
       "load_shortfall_3h       float64\n",
       "dtype: object"
      ]
     },
     "execution_count": 9,
     "metadata": {},
     "output_type": "execute_result"
    }
   ],
   "source": [
    "df.dtypes"
   ]
  },
  {
   "cell_type": "code",
   "execution_count": 10,
   "id": "53f819d6",
   "metadata": {},
   "outputs": [],
   "source": [
    "timelist = df['time'].to_list()\n",
    "year = [int(i[:4]) for i in timelist]\n",
    "month = [int(i[5:7]) for i in timelist]\n",
    "day = [int(i[8:10]) for i in timelist]\n",
    "hour = [int(i[11:13]) for i in timelist]"
   ]
  },
  {
   "cell_type": "code",
   "execution_count": 11,
   "id": "be0bdcd5",
   "metadata": {},
   "outputs": [],
   "source": [
    "df['year'] = year\n",
    "df['month'] = month\n",
    "df['day'] = day\n",
    "df['hour'] = hour"
   ]
  },
  {
   "cell_type": "code",
   "execution_count": 12,
   "id": "2c2378a0",
   "metadata": {},
   "outputs": [],
   "source": [
    "df = df.drop(['time'], axis = 1)"
   ]
  },
  {
   "cell_type": "code",
   "execution_count": 13,
   "id": "629ef48e",
   "metadata": {},
   "outputs": [
    {
     "data": {
      "text/plain": [
       "Madrid_wind_speed       float64\n",
       "Valencia_wind_deg        object\n",
       "Bilbao_rain_1h          float64\n",
       "Valencia_wind_speed     float64\n",
       "Seville_humidity        float64\n",
       "Madrid_humidity         float64\n",
       "Bilbao_clouds_all       float64\n",
       "Bilbao_wind_speed       float64\n",
       "Seville_clouds_all      float64\n",
       "Bilbao_wind_deg         float64\n",
       "Barcelona_wind_speed    float64\n",
       "Barcelona_wind_deg      float64\n",
       "Madrid_clouds_all       float64\n",
       "Seville_wind_speed      float64\n",
       "Barcelona_rain_1h       float64\n",
       "Seville_pressure         object\n",
       "Seville_rain_1h         float64\n",
       "Bilbao_snow_3h          float64\n",
       "Barcelona_pressure      float64\n",
       "Seville_rain_3h         float64\n",
       "Madrid_rain_1h          float64\n",
       "Barcelona_rain_3h       float64\n",
       "Valencia_snow_3h        float64\n",
       "Madrid_weather_id       float64\n",
       "Barcelona_weather_id    float64\n",
       "Bilbao_pressure         float64\n",
       "Seville_weather_id      float64\n",
       "Valencia_pressure       float64\n",
       "Seville_temp_max        float64\n",
       "Madrid_pressure         float64\n",
       "Valencia_temp_max       float64\n",
       "Valencia_temp           float64\n",
       "Bilbao_weather_id       float64\n",
       "Seville_temp            float64\n",
       "Valencia_humidity       float64\n",
       "Valencia_temp_min       float64\n",
       "Barcelona_temp_max      float64\n",
       "Madrid_temp_max         float64\n",
       "Barcelona_temp          float64\n",
       "Bilbao_temp_min         float64\n",
       "Bilbao_temp             float64\n",
       "Barcelona_temp_min      float64\n",
       "Bilbao_temp_max         float64\n",
       "Seville_temp_min        float64\n",
       "Madrid_temp             float64\n",
       "Madrid_temp_min         float64\n",
       "load_shortfall_3h       float64\n",
       "year                      int64\n",
       "month                     int64\n",
       "day                       int64\n",
       "hour                      int64\n",
       "dtype: object"
      ]
     },
     "execution_count": 13,
     "metadata": {},
     "output_type": "execute_result"
    }
   ],
   "source": [
    "df.dtypes"
   ]
  },
  {
   "cell_type": "code",
   "execution_count": 14,
   "id": "2874be20",
   "metadata": {},
   "outputs": [],
   "source": [
    "df.Valencia_wind_deg = df['Valencia_wind_deg'].apply(lambda x: int(x.split('_')[-1]))"
   ]
  },
  {
   "cell_type": "code",
   "execution_count": 15,
   "id": "bd5ebd78",
   "metadata": {},
   "outputs": [
    {
     "data": {
      "text/plain": [
       "Madrid_wind_speed       float64\n",
       "Valencia_wind_deg         int64\n",
       "Bilbao_rain_1h          float64\n",
       "Valencia_wind_speed     float64\n",
       "Seville_humidity        float64\n",
       "Madrid_humidity         float64\n",
       "Bilbao_clouds_all       float64\n",
       "Bilbao_wind_speed       float64\n",
       "Seville_clouds_all      float64\n",
       "Bilbao_wind_deg         float64\n",
       "Barcelona_wind_speed    float64\n",
       "Barcelona_wind_deg      float64\n",
       "Madrid_clouds_all       float64\n",
       "Seville_wind_speed      float64\n",
       "Barcelona_rain_1h       float64\n",
       "Seville_pressure         object\n",
       "Seville_rain_1h         float64\n",
       "Bilbao_snow_3h          float64\n",
       "Barcelona_pressure      float64\n",
       "Seville_rain_3h         float64\n",
       "Madrid_rain_1h          float64\n",
       "Barcelona_rain_3h       float64\n",
       "Valencia_snow_3h        float64\n",
       "Madrid_weather_id       float64\n",
       "Barcelona_weather_id    float64\n",
       "Bilbao_pressure         float64\n",
       "Seville_weather_id      float64\n",
       "Valencia_pressure       float64\n",
       "Seville_temp_max        float64\n",
       "Madrid_pressure         float64\n",
       "Valencia_temp_max       float64\n",
       "Valencia_temp           float64\n",
       "Bilbao_weather_id       float64\n",
       "Seville_temp            float64\n",
       "Valencia_humidity       float64\n",
       "Valencia_temp_min       float64\n",
       "Barcelona_temp_max      float64\n",
       "Madrid_temp_max         float64\n",
       "Barcelona_temp          float64\n",
       "Bilbao_temp_min         float64\n",
       "Bilbao_temp             float64\n",
       "Barcelona_temp_min      float64\n",
       "Bilbao_temp_max         float64\n",
       "Seville_temp_min        float64\n",
       "Madrid_temp             float64\n",
       "Madrid_temp_min         float64\n",
       "load_shortfall_3h       float64\n",
       "year                      int64\n",
       "month                     int64\n",
       "day                       int64\n",
       "hour                      int64\n",
       "dtype: object"
      ]
     },
     "execution_count": 15,
     "metadata": {},
     "output_type": "execute_result"
    }
   ],
   "source": [
    "df.dtypes"
   ]
  },
  {
   "cell_type": "code",
   "execution_count": 16,
   "id": "23d5d30a",
   "metadata": {},
   "outputs": [],
   "source": [
    "df.Seville_pressure = df['Seville_pressure'].apply(lambda x: int(x.split('p')[-1]))"
   ]
  },
  {
   "cell_type": "code",
   "execution_count": 17,
   "id": "826c55b3",
   "metadata": {},
   "outputs": [
    {
     "data": {
      "text/plain": [
       "Madrid_wind_speed       float64\n",
       "Valencia_wind_deg         int64\n",
       "Bilbao_rain_1h          float64\n",
       "Valencia_wind_speed     float64\n",
       "Seville_humidity        float64\n",
       "Madrid_humidity         float64\n",
       "Bilbao_clouds_all       float64\n",
       "Bilbao_wind_speed       float64\n",
       "Seville_clouds_all      float64\n",
       "Bilbao_wind_deg         float64\n",
       "Barcelona_wind_speed    float64\n",
       "Barcelona_wind_deg      float64\n",
       "Madrid_clouds_all       float64\n",
       "Seville_wind_speed      float64\n",
       "Barcelona_rain_1h       float64\n",
       "Seville_pressure          int64\n",
       "Seville_rain_1h         float64\n",
       "Bilbao_snow_3h          float64\n",
       "Barcelona_pressure      float64\n",
       "Seville_rain_3h         float64\n",
       "Madrid_rain_1h          float64\n",
       "Barcelona_rain_3h       float64\n",
       "Valencia_snow_3h        float64\n",
       "Madrid_weather_id       float64\n",
       "Barcelona_weather_id    float64\n",
       "Bilbao_pressure         float64\n",
       "Seville_weather_id      float64\n",
       "Valencia_pressure       float64\n",
       "Seville_temp_max        float64\n",
       "Madrid_pressure         float64\n",
       "Valencia_temp_max       float64\n",
       "Valencia_temp           float64\n",
       "Bilbao_weather_id       float64\n",
       "Seville_temp            float64\n",
       "Valencia_humidity       float64\n",
       "Valencia_temp_min       float64\n",
       "Barcelona_temp_max      float64\n",
       "Madrid_temp_max         float64\n",
       "Barcelona_temp          float64\n",
       "Bilbao_temp_min         float64\n",
       "Bilbao_temp             float64\n",
       "Barcelona_temp_min      float64\n",
       "Bilbao_temp_max         float64\n",
       "Seville_temp_min        float64\n",
       "Madrid_temp             float64\n",
       "Madrid_temp_min         float64\n",
       "load_shortfall_3h       float64\n",
       "year                      int64\n",
       "month                     int64\n",
       "day                       int64\n",
       "hour                      int64\n",
       "dtype: object"
      ]
     },
     "execution_count": 17,
     "metadata": {},
     "output_type": "execute_result"
    }
   ],
   "source": [
    "df.dtypes"
   ]
  },
  {
   "cell_type": "code",
   "execution_count": null,
   "id": "18d46972",
   "metadata": {},
   "outputs": [],
   "source": []
  },
  {
   "cell_type": "code",
   "execution_count": 37,
   "id": "33f9efe8",
   "metadata": {},
   "outputs": [],
   "source": [
    "x = df[:len(df_train)].drop(['load_shortfall_3h'],axis = 1)\n",
    "y = df[:len(df_train)].load_shortfall_3h"
   ]
  },
  {
   "cell_type": "code",
   "execution_count": 19,
   "id": "4debcfd2",
   "metadata": {},
   "outputs": [],
   "source": [
    "x_train, x_test, y_train, y_test = train_test_split(x,y, test_size = 0.2, random_state = 1)"
   ]
  },
  {
   "cell_type": "code",
   "execution_count": 20,
   "id": "de295eac",
   "metadata": {},
   "outputs": [],
   "source": [
    "#applying scaler\n",
    "sc = StandardScaler()\n",
    "x_train = sc.fit_transform(x_train)\n",
    "x_test = sc.transform(x_test)"
   ]
  },
  {
   "cell_type": "code",
   "execution_count": 21,
   "id": "648ef628",
   "metadata": {},
   "outputs": [],
   "source": [
    "Lr = LinearRegression()\n",
    "Lr.fit(x_train,y_train)\n",
    "pred_Lr = Lr.predict(x_test)"
   ]
  },
  {
   "cell_type": "code",
   "execution_count": null,
   "id": "e47c1563",
   "metadata": {},
   "outputs": [],
   "source": []
  },
  {
   "cell_type": "code",
   "execution_count": 22,
   "id": "8ac02a73",
   "metadata": {},
   "outputs": [],
   "source": [
    "from sklearn.metrics import r2_score"
   ]
  },
  {
   "cell_type": "code",
   "execution_count": 23,
   "id": "b3e2cf4f",
   "metadata": {},
   "outputs": [],
   "source": [
    "from sklearn.metrics import mean_squared_error\n",
    "from sklearn.linear_model import *\n",
    "from sklearn import *"
   ]
  },
  {
   "cell_type": "code",
   "execution_count": 24,
   "id": "ba672a63",
   "metadata": {},
   "outputs": [],
   "source": [
    "from tqdm import tqdm\n",
    "import math\n",
    "import random\n",
    "from scipy import stats"
   ]
  },
  {
   "cell_type": "code",
   "execution_count": null,
   "id": "0b6fde48",
   "metadata": {},
   "outputs": [],
   "source": []
  },
  {
   "cell_type": "code",
   "execution_count": 25,
   "id": "9b95028a",
   "metadata": {},
   "outputs": [],
   "source": [
    "def rmse(y_test, y_predict):\n",
    "    return np.sqrt(mean_squared_error(y_test, y_predict))"
   ]
  },
  {
   "cell_type": "code",
   "execution_count": 26,
   "id": "54dfd611",
   "metadata": {},
   "outputs": [
    {
     "data": {
      "text/plain": [
       "4687.5020934674985"
      ]
     },
     "execution_count": 26,
     "metadata": {},
     "output_type": "execute_result"
    }
   ],
   "source": [
    "rmse(y_test, pred_Lr)"
   ]
  },
  {
   "cell_type": "code",
   "execution_count": 27,
   "id": "9607ebe9",
   "metadata": {},
   "outputs": [
    {
     "data": {
      "text/plain": [
       "0.177710836635547"
      ]
     },
     "execution_count": 27,
     "metadata": {},
     "output_type": "execute_result"
    }
   ],
   "source": [
    "r2_score(y_test, pred_Lr)"
   ]
  },
  {
   "cell_type": "code",
   "execution_count": 49,
   "id": "4226304f",
   "metadata": {},
   "outputs": [],
   "source": [
    "x_train = x\n",
    "x_train = sc.fit_transform(x_train)"
   ]
  },
  {
   "cell_type": "code",
   "execution_count": 45,
   "id": "9c764356",
   "metadata": {},
   "outputs": [],
   "source": [
    "x_test = df[len(df_train):].drop(['load_shortfall_3h'], axis =1)"
   ]
  },
  {
   "cell_type": "code",
   "execution_count": 50,
   "id": "ab9f09bd",
   "metadata": {},
   "outputs": [],
   "source": [
    "Lr.fit(x_train, y)\n",
    "pred = pred_Lr = Lr.predict(x_test)"
   ]
  },
  {
   "cell_type": "code",
   "execution_count": 73,
   "id": "bae502fd",
   "metadata": {},
   "outputs": [],
   "source": [
    "time1 = df_test.time"
   ]
  },
  {
   "cell_type": "code",
   "execution_count": 84,
   "id": "06ee6ee2",
   "metadata": {},
   "outputs": [],
   "source": [
    "lil = pd.DataFrame(time1)"
   ]
  },
  {
   "cell_type": "code",
   "execution_count": 88,
   "id": "155effd8",
   "metadata": {},
   "outputs": [],
   "source": [
    "lil['load_shortfall_3h'] = pred"
   ]
  },
  {
   "cell_type": "code",
   "execution_count": 56,
   "id": "476782b0",
   "metadata": {},
   "outputs": [],
   "source": []
  },
  {
   "cell_type": "code",
   "execution_count": 90,
   "id": "ba12b00e",
   "metadata": {},
   "outputs": [],
   "source": [
    "submission = lil"
   ]
  },
  {
   "cell_type": "code",
   "execution_count": 91,
   "id": "d8b84150",
   "metadata": {},
   "outputs": [],
   "source": [
    "submission.to_csv('submission.csv',index = False)"
   ]
  },
  {
   "cell_type": "code",
   "execution_count": null,
   "id": "9eef111d",
   "metadata": {},
   "outputs": [],
   "source": []
  }
 ],
 "metadata": {
  "kernelspec": {
   "display_name": "Python 3 (ipykernel)",
   "language": "python",
   "name": "python3"
  },
  "language_info": {
   "codemirror_mode": {
    "name": "ipython",
    "version": 3
   },
   "file_extension": ".py",
   "mimetype": "text/x-python",
   "name": "python",
   "nbconvert_exporter": "python",
   "pygments_lexer": "ipython3",
   "version": "3.9.7"
  }
 },
 "nbformat": 4,
 "nbformat_minor": 5
}
