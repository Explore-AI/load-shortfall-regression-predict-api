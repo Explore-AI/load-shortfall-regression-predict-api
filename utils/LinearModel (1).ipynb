{
 "cells": [
  {
   "cell_type": "code",
   "execution_count": 1,
   "id": "570048ef-2f6b-407f-bf2c-e14bd1b078fc",
   "metadata": {},
   "outputs": [
    {
     "ename": "ModuleNotFoundError",
     "evalue": "No module named 'numpy'",
     "output_type": "error",
     "traceback": [
      "\u001b[0;31m---------------------------------------------------------------------------\u001b[0m",
      "\u001b[0;31mModuleNotFoundError\u001b[0m                       Traceback (most recent call last)",
      "\u001b[1;32m/Users/mbalenhle/Desktop/explore-js4/utils/models/LinearModel (1).ipynb Cell 1'\u001b[0m in \u001b[0;36m<cell line: 1>\u001b[0;34m()\u001b[0m\n\u001b[0;32m----> <a href='vscode-notebook-cell:/Users/mbalenhle/Desktop/explore-js4/utils/models/LinearModel%20%281%29.ipynb#ch0000000?line=0'>1</a>\u001b[0m \u001b[39mimport\u001b[39;00m \u001b[39mnumpy\u001b[39;00m \u001b[39mas\u001b[39;00m \u001b[39mnp\u001b[39;00m \u001b[39m# A package used for dataframes that store  a matrix of data\u001b[39;00m\n\u001b[1;32m      <a href='vscode-notebook-cell:/Users/mbalenhle/Desktop/explore-js4/utils/models/LinearModel%20%281%29.ipynb#ch0000000?line=1'>2</a>\u001b[0m \u001b[39mimport\u001b[39;00m \u001b[39mpandas\u001b[39;00m \u001b[39mas\u001b[39;00m \u001b[39mpd\u001b[39;00m \u001b[39m# A package in order to import tables\u001b[39;00m\n\u001b[1;32m      <a href='vscode-notebook-cell:/Users/mbalenhle/Desktop/explore-js4/utils/models/LinearModel%20%281%29.ipynb#ch0000000?line=2'>3</a>\u001b[0m \u001b[39mimport\u001b[39;00m \u001b[39mmatplotlib\u001b[39;00m\u001b[39m.\u001b[39;00m\u001b[39mpyplot\u001b[39;00m \u001b[39mas\u001b[39;00m \u001b[39mplt\u001b[39;00m \u001b[39m# A visualization package to make fancy plots\u001b[39;00m\n",
      "\u001b[0;31mModuleNotFoundError\u001b[0m: No module named 'numpy'"
     ]
    }
   ],
   "source": [
    "import numpy as np # A package used for dataframes that store  a matrix of data\n",
    "import pandas as pd # A package in order to import tables\n",
    "import matplotlib.pyplot as plt # A visualization package to make fancy plots\n",
    "from matplotlib import rc\n",
    "import math\n",
    "import seaborn as sns # Also a visualisation package\n",
    "\n",
    "# for data preparation and for building modells\n",
    "from sklearn.model_selection import train_test_split\n",
    "from sklearn.tree import DecisionTreeRegressor\n",
    "from sklearn.linear_model import Ridge\n",
    "from sklearn.linear_model import Lasso\n",
    "from sklearn.ensemble import RandomForestRegressor\n",
    "from sklearn import metrics\n",
    "from sklearn.linear_model import LinearRegression\n"
   ]
  },
  {
   "cell_type": "code",
   "execution_count": null,
   "id": "71981916-6315-4ca7-a0e8-821e11882da6",
   "metadata": {},
   "outputs": [],
   "source": [
    "#training data set:\n",
    "train = pd.read_csv(\"df_train.csv\")\n",
    "#testing data set\n",
    "test= pd.read_csv(\"df_test.csv\")"
   ]
  },
  {
   "cell_type": "code",
   "execution_count": null,
   "id": "84b172f9",
   "metadata": {},
   "outputs": [],
   "source": [
    "train_y = train['load_shortfall_3h']"
   ]
  },
  {
   "cell_type": "code",
   "execution_count": null,
   "id": "8fb39070",
   "metadata": {},
   "outputs": [],
   "source": [
    "train_x = train[['Seville_wind_speed', 'Barcelona_wind_speed', 'Bilbao_rain_1h']]"
   ]
  },
  {
   "cell_type": "code",
   "execution_count": null,
   "id": "0231accc",
   "metadata": {},
   "outputs": [
    {
     "data": {
      "text/plain": [
       "LinearRegression()"
      ]
     },
     "execution_count": 133,
     "metadata": {},
     "output_type": "execute_result"
    }
   ],
   "source": [
    "lm_regression = LinearRegression()\n",
    "lm_regression.fit(train_x,train_y)"
   ]
  },
  {
   "cell_type": "markdown",
   "id": "62726214",
   "metadata": {},
   "source": [
    "### Saving model with Pickle"
   ]
  },
  {
   "cell_type": "code",
   "execution_count": null,
   "id": "8564c2b7",
   "metadata": {},
   "outputs": [],
   "source": [
    "import pickle \n",
    "\n",
    "model_save_path = 'model_final.pkl'\n",
    "\n",
    "with open(model_save_path, 'wb') as file:\n",
    "    pickle.dump(lm_regression, file)"
   ]
  },
  {
   "cell_type": "code",
   "execution_count": null,
   "id": "4f8aec54",
   "metadata": {},
   "outputs": [],
   "source": []
  }
 ],
 "metadata": {
  "interpreter": {
   "hash": "aee8b7b246df8f9039afb4144a1f6fd8d2ca17a180786b69acc140d282b71a49"
  },
  "kernelspec": {
   "display_name": "Python 3.8.10 64-bit",
   "language": "python",
   "name": "python3"
  },
  "language_info": {
   "codemirror_mode": {
    "name": "ipython",
    "version": 3
   },
   "file_extension": ".py",
   "mimetype": "text/x-python",
   "name": "python",
   "nbconvert_exporter": "python",
   "pygments_lexer": "ipython3",
   "version": "3.8.10"
  }
 },
 "nbformat": 4,
 "nbformat_minor": 5
}
