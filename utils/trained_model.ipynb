{
 "cells": [
  {
   "cell_type": "code",
   "execution_count": 17,
   "id": "45463e4b",
   "metadata": {},
   "outputs": [],
   "source": [
    "import pandas as pd\n",
    "import numpy as np\n",
    "\n",
    "#Machine Learning\n",
    "from sklearn.preprocessing import LabelEncoder\n",
    "from sklearn.model_selection import train_test_split\n",
    "from sklearn.preprocessing import StandardScaler\n",
    "from sklearn.preprocessing import LabelEncoder\n",
    "from sklearn.linear_model import LinearRegression\n",
    "from sklearn.linear_model import Ridge\n",
    "from sklearn. linear_model import Lasso\n",
    "#Model Evaluation \n",
    "from sklearn.metrics import mean_squared_error\n",
    "from math import sqrt\n",
    "import pickle"
   ]
  },
  {
   "cell_type": "code",
   "execution_count": 12,
   "id": "41e90d74",
   "metadata": {},
   "outputs": [],
   "source": [
    "df_train =pd.read_csv('df_train.csv')\n",
    "###Just use train data and \n"
   ]
  },
  {
   "cell_type": "code",
   "execution_count": 13,
   "id": "ab8dab65",
   "metadata": {},
   "outputs": [],
   "source": [
    "df_clean=df_train"
   ]
  },
  {
   "cell_type": "code",
   "execution_count": 14,
   "id": "95dbcba3",
   "metadata": {},
   "outputs": [],
   "source": [
    "df_clean['time'] = pd.to_datetime(df_clean['time'])\n",
    "df_clean['Valencia_wind_deg'] = df_clean['Valencia_wind_deg'].str.extract('(\\d+)')\n",
    "df_clean['Valencia_wind_deg'] = pd.to_numeric(df_clean['Valencia_wind_deg'])\n",
    "df_clean.Seville_pressure = df_clean.Seville_pressure.str.extract('(\\d+)')\n",
    "df_clean.Seville_pressure = pd.to_numeric(df_clean.Seville_pressure)\n",
    "df_clean['Valencia_pressure'] = df_clean['Valencia_pressure'].fillna(df_clean['Valencia_pressure'].mode()[0])\n",
    "df_clean = df_clean.drop(['Unnamed: 0' , 'time'], axis = 1)\n"
   ]
  },
  {
   "cell_type": "code",
   "execution_count": 15,
   "id": "d3cfcc03",
   "metadata": {},
   "outputs": [],
   "source": [
    "y_train=df_train[['load_shortfall_3h']]\n",
    "x_train =df_clean\n"
   ]
  },
  {
   "cell_type": "code",
   "execution_count": 16,
   "id": "eed6d001",
   "metadata": {},
   "outputs": [
    {
     "data": {
      "text/plain": [
       "array([6715.66681206, 4171.6669055 , 4274.66690172, ...,  822.00036187,\n",
       "       -759.99958002, 2780.66695659])"
      ]
     },
     "execution_count": 16,
     "metadata": {},
     "output_type": "execute_result"
    }
   ],
   "source": [
    "lasso = Lasso()\n",
    "lasso.fit(x_train, y_train)\n",
    "lasso.predict(x_train)"
   ]
  },
  {
   "cell_type": "code",
   "execution_count": null,
   "id": "88408a45",
   "metadata": {},
   "outputs": [],
   "source": [
    "#save_path='.pkl'\n",
    "#pickle.dump(lasso,open(save_path,'wb'))"
   ]
  }
 ],
 "metadata": {
  "kernelspec": {
   "display_name": "Python 3",
   "language": "python",
   "name": "python3"
  },
  "language_info": {
   "codemirror_mode": {
    "name": "ipython",
    "version": 3
   },
   "file_extension": ".py",
   "mimetype": "text/x-python",
   "name": "python",
   "nbconvert_exporter": "python",
   "pygments_lexer": "ipython3",
   "version": "3.8.8"
  }
 },
 "nbformat": 4,
 "nbformat_minor": 5
}
