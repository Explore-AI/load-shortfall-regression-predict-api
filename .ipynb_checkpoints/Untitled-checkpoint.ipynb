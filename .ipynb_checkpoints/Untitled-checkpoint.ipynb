{
 "cells": [
  {
   "cell_type": "code",
   "execution_count": null,
   "id": "2c6e0480",
   "metadata": {},
   "outputs": [],
   "source": [
    "#Predict test responde variable\n",
    "y_pred4 = DT.predict(X_standardise_test)\n",
    "\n",
    "daf4=pd.DataFrame(y_pred4,columns=['load_shortfall_3h'])\n",
    "\n",
    "\n",
    "output2=pd.DataFrame({'time':df_test1['time']})\n",
    "submission_DT=output2.join(daf4)\n",
    "#submission_DT.to_csv('submission_DT.csv',index=False)\n",
    "\n",
    "submission_DT"
   ]
  }
 ],
 "metadata": {
  "kernelspec": {
   "display_name": "Python 3",
   "language": "python",
   "name": "python3"
  },
  "language_info": {
   "codemirror_mode": {
    "name": "ipython",
    "version": 3
   },
   "file_extension": ".py",
   "mimetype": "text/x-python",
   "name": "python",
   "nbconvert_exporter": "python",
   "pygments_lexer": "ipython3",
   "version": "3.8.8"
  }
 },
 "nbformat": 4,
 "nbformat_minor": 5
}
