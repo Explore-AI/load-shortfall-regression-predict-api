{
 "cells": [
  {
   "cell_type": "markdown",
   "metadata": {},
   "source": [
    "# Basic Exploratory Data Analysis "
   ]
  },
  {
   "cell_type": "code",
   "execution_count": null,
   "metadata": {
    "_cell_guid": "b1076dfc-b9ad-4769-8c92-a6c4dae69d19",
    "_uuid": "8f2839f25d086af736a60e9eeb907d3b93b6e0e5",
    "execution": {
     "iopub.execute_input": "2022-05-11T07:15:00.439977Z",
     "iopub.status.busy": "2022-05-11T07:15:00.439632Z",
     "iopub.status.idle": "2022-05-11T07:15:00.449485Z",
     "shell.execute_reply": "2022-05-11T07:15:00.448786Z",
     "shell.execute_reply.started": "2022-05-11T07:15:00.439947Z"
    }
   },
   "outputs": [],
   "source": [
    "# This Python 3 environment comes with many helpful analytics libraries installed\n",
    "# It is defined by the kaggle/python Docker image: https://github.com/kaggle/docker-python\n",
    "# For example, here's several helpful packages to load\n",
    "\n",
    "import numpy as np # linear algebra\n",
    "import pandas as pd # data processing, CSV file I/O (e.g. pd.read_csv)\n",
    "import seaborn as sns # statistical data visualization library based on matplotlib\n",
    "\n",
    "# Input data files are available in the read-only \"../input/\" directory\n",
    "# For example, running this (by clicking run or pressing Shift+Enter) will list all files under the input directory\n",
    "\n",
    "import os\n",
    "for dirname, _, filenames in os.walk('/kaggle/input'):\n",
    "    for filename in filenames:\n",
    "        print(os.path.join(dirname, filename))\n",
    "\n",
    "# You can write up to 20GB to the current directory (/kaggle/working/) that gets preserved as output when you create a version using \"Save & Run All\" \n",
    "# You can also write temporary files to /kaggle/temp/, but they won't be saved outside of the current session"
   ]
  },
  {
   "cell_type": "markdown",
   "metadata": {},
   "source": []
  },
  {
   "cell_type": "code",
   "execution_count": null,
   "metadata": {
    "execution": {
     "iopub.execute_input": "2022-05-11T07:15:20.174175Z",
     "iopub.status.busy": "2022-05-11T07:15:20.173119Z",
     "iopub.status.idle": "2022-05-11T07:15:20.388286Z",
     "shell.execute_reply": "2022-05-11T07:15:20.387294Z",
     "shell.execute_reply.started": "2022-05-11T07:15:20.174116Z"
    }
   },
   "outputs": [],
   "source": [
    "# read in data from the csv files\n",
    "df_sample = pd.read_csv('/kaggle/input/spain-electricity-shortfall-challenge-2022/sample_submission_load_shortfall (1).csv')\n",
    "df_train = pd.read_csv('/kaggle/input/spain-electricity-shortfall-challenge-2022/df_train.csv')\n",
    "df_test = pd.read_csv('/kaggle/input/spain-electricity-shortfall-challenge-2022/df_test.csv')"
   ]
  },
  {
   "cell_type": "code",
   "execution_count": null,
   "metadata": {
    "execution": {
     "iopub.execute_input": "2022-05-11T07:15:46.315462Z",
     "iopub.status.busy": "2022-05-11T07:15:46.315102Z",
     "iopub.status.idle": "2022-05-11T07:15:46.337425Z",
     "shell.execute_reply": "2022-05-11T07:15:46.335984Z",
     "shell.execute_reply.started": "2022-05-11T07:15:46.315423Z"
    }
   },
   "outputs": [],
   "source": [
    "df_sample.head(2)"
   ]
  },
  {
   "cell_type": "code",
   "execution_count": null,
   "metadata": {
    "execution": {
     "iopub.execute_input": "2022-05-11T07:16:11.129382Z",
     "iopub.status.busy": "2022-05-11T07:16:11.129079Z",
     "iopub.status.idle": "2022-05-11T07:16:11.16325Z",
     "shell.execute_reply": "2022-05-11T07:16:11.162376Z",
     "shell.execute_reply.started": "2022-05-11T07:16:11.129349Z"
    }
   },
   "outputs": [],
   "source": [
    "df_train.head(2)"
   ]
  },
  {
   "cell_type": "code",
   "execution_count": null,
   "metadata": {
    "execution": {
     "iopub.execute_input": "2022-05-11T07:16:34.275682Z",
     "iopub.status.busy": "2022-05-11T07:16:34.274515Z",
     "iopub.status.idle": "2022-05-11T07:16:34.303697Z",
     "shell.execute_reply": "2022-05-11T07:16:34.302868Z",
     "shell.execute_reply.started": "2022-05-11T07:16:34.275615Z"
    }
   },
   "outputs": [],
   "source": [
    "df_test.head(2)"
   ]
  },
  {
   "cell_type": "code",
   "execution_count": null,
   "metadata": {
    "execution": {
     "iopub.execute_input": "2022-05-11T07:16:44.733053Z",
     "iopub.status.busy": "2022-05-11T07:16:44.732756Z",
     "iopub.status.idle": "2022-05-11T07:16:44.742978Z",
     "shell.execute_reply": "2022-05-11T07:16:44.741731Z",
     "shell.execute_reply.started": "2022-05-11T07:16:44.733021Z"
    }
   },
   "outputs": [],
   "source": [
    "# print out column names of train set\n",
    "df_train.columns"
   ]
  },
  {
   "cell_type": "code",
   "execution_count": null,
   "metadata": {
    "execution": {
     "iopub.execute_input": "2022-05-11T07:16:53.099441Z",
     "iopub.status.busy": "2022-05-11T07:16:53.099141Z",
     "iopub.status.idle": "2022-05-11T07:16:53.260952Z",
     "shell.execute_reply": "2022-05-11T07:16:53.260316Z",
     "shell.execute_reply.started": "2022-05-11T07:16:53.099412Z"
    }
   },
   "outputs": [],
   "source": [
    "# print out statistical details on the train dataset columns\n",
    "df_train.describe()"
   ]
  },
  {
   "cell_type": "code",
   "execution_count": null,
   "metadata": {
    "execution": {
     "iopub.execute_input": "2022-05-11T07:17:14.003522Z",
     "iopub.status.busy": "2022-05-11T07:17:14.003002Z",
     "iopub.status.idle": "2022-05-11T07:17:14.020231Z",
     "shell.execute_reply": "2022-05-11T07:17:14.019066Z",
     "shell.execute_reply.started": "2022-05-11T07:17:14.00348Z"
    }
   },
   "outputs": [],
   "source": [
    "# check for nulls in each column\n",
    "df_train.isnull().sum()"
   ]
  },
  {
   "cell_type": "code",
   "execution_count": null,
   "metadata": {
    "execution": {
     "iopub.execute_input": "2022-05-11T07:18:40.803053Z",
     "iopub.status.busy": "2022-05-11T07:18:40.802661Z",
     "iopub.status.idle": "2022-05-11T07:18:40.84924Z",
     "shell.execute_reply": "2022-05-11T07:18:40.848281Z",
     "shell.execute_reply.started": "2022-05-11T07:18:40.803019Z"
    }
   },
   "outputs": [],
   "source": [
    "# combine the test and train datasets to make data processing easier\n",
    "df = pd.concat([df_train, df_test])\n",
    "df.head()"
   ]
  },
  {
   "cell_type": "code",
   "execution_count": null,
   "metadata": {
    "execution": {
     "iopub.execute_input": "2022-05-11T07:18:48.579944Z",
     "iopub.status.busy": "2022-05-11T07:18:48.579614Z",
     "iopub.status.idle": "2022-05-11T07:18:48.586633Z",
     "shell.execute_reply": "2022-05-11T07:18:48.585784Z",
     "shell.execute_reply.started": "2022-05-11T07:18:48.579911Z"
    }
   },
   "outputs": [],
   "source": [
    "# check the shape of the new data set\n",
    "df.shape"
   ]
  },
  {
   "cell_type": "code",
   "execution_count": null,
   "metadata": {
    "execution": {
     "iopub.execute_input": "2022-05-11T07:18:54.569707Z",
     "iopub.status.busy": "2022-05-11T07:18:54.569149Z",
     "iopub.status.idle": "2022-05-11T07:18:54.598075Z",
     "shell.execute_reply": "2022-05-11T07:18:54.597364Z",
     "shell.execute_reply.started": "2022-05-11T07:18:54.569655Z"
    }
   },
   "outputs": [],
   "source": [
    "# check the records at the bottom of the dataset to ensure test set was added sussesfully\n",
    "# by checking if the last column (prediction) is null\n",
    "df.tail(5)"
   ]
  },
  {
   "cell_type": "code",
   "execution_count": null,
   "metadata": {
    "execution": {
     "iopub.execute_input": "2022-05-11T07:19:14.6904Z",
     "iopub.status.busy": "2022-05-11T07:19:14.689759Z",
     "iopub.status.idle": "2022-05-11T07:19:14.709531Z",
     "shell.execute_reply": "2022-05-11T07:19:14.708741Z",
     "shell.execute_reply.started": "2022-05-11T07:19:14.690359Z"
    }
   },
   "outputs": [],
   "source": [
    "# check for nulls in each column (to ensure train and test sets were successfully concatinated)\n",
    "df.isnull().sum()"
   ]
  },
  {
   "cell_type": "markdown",
   "metadata": {},
   "source": [
    "**Processing Data**\n",
    "\n",
    "All columns look okay apart from Valencia_pressure which has several nulls. Since the column is numerical, we will first draw a boxplot to help visualize it's distribution and skewness by displaying the data quartiles and averages.\n",
    "\n",
    "We will also display the mean, mode and median in numerical form."
   ]
  },
  {
   "cell_type": "code",
   "execution_count": null,
   "metadata": {
    "execution": {
     "iopub.execute_input": "2022-05-11T07:20:28.498116Z",
     "iopub.status.busy": "2022-05-11T07:20:28.497829Z",
     "iopub.status.idle": "2022-05-11T07:20:28.714632Z",
     "shell.execute_reply": "2022-05-11T07:20:28.713742Z",
     "shell.execute_reply.started": "2022-05-11T07:20:28.498087Z"
    }
   },
   "outputs": [],
   "source": [
    "# draw a boxplot for Valencia_pressure\n",
    "sns.boxplot(df['Valencia_pressure'])"
   ]
  },
  {
   "cell_type": "code",
   "execution_count": null,
   "metadata": {
    "execution": {
     "iopub.execute_input": "2022-05-11T07:20:53.838701Z",
     "iopub.status.busy": "2022-05-11T07:20:53.838316Z",
     "iopub.status.idle": "2022-05-11T07:20:53.853497Z",
     "shell.execute_reply": "2022-05-11T07:20:53.852151Z",
     "shell.execute_reply.started": "2022-05-11T07:20:53.838646Z"
    }
   },
   "outputs": [],
   "source": [
    "# display the mean, mode and median of Valencia_pressure\n",
    "print('Mode') \n",
    "print(df['Valencia_pressure'].mode())\n",
    "print('Mean') \n",
    "print(df['Valencia_pressure'].mean())\n",
    "print('Median') \n",
    "print(df['Valencia_pressure'].median())"
   ]
  },
  {
   "cell_type": "markdown",
   "metadata": {},
   "source": [
    "Checking skewness"
   ]
  },
  {
   "cell_type": "code",
   "execution_count": null,
   "metadata": {
    "execution": {
     "iopub.execute_input": "2022-05-11T07:21:09.385561Z",
     "iopub.status.busy": "2022-05-11T07:21:09.385251Z",
     "iopub.status.idle": "2022-05-11T07:21:09.736084Z",
     "shell.execute_reply": "2022-05-11T07:21:09.73511Z",
     "shell.execute_reply.started": "2022-05-11T07:21:09.385528Z"
    }
   },
   "outputs": [],
   "source": [
    "sns.distplot(df['Valencia_pressure'])"
   ]
  },
  {
   "cell_type": "markdown",
   "metadata": {},
   "source": [
    "Mean, mode and median seem to be almost similar. For the purpose of this exercise, we will use the mode to impute the missing column data. this is because the data is skewed, which eliminates the use of mean, and we are dealing with pressure which seems to often repeat itself. \n",
    "\n",
    "To make sure we do not loose our original dataset in cases of mistakes,  we will use a copy of the data frame."
   ]
  },
  {
   "cell_type": "code",
   "execution_count": null,
   "metadata": {
    "execution": {
     "iopub.execute_input": "2022-05-11T07:22:29.662566Z",
     "iopub.status.busy": "2022-05-11T07:22:29.66223Z",
     "iopub.status.idle": "2022-05-11T07:22:29.669964Z",
     "shell.execute_reply": "2022-05-11T07:22:29.668974Z",
     "shell.execute_reply.started": "2022-05-11T07:22:29.662529Z"
    }
   },
   "outputs": [],
   "source": [
    "# create a copy of the dataset\n",
    "df_copy = df\n",
    "# fill all nulls in Valencia_pressure column with the column mode\n",
    "df_copy['Valencia_pressure'] = df_copy['Valencia_pressure'].fillna(df_copy['Valencia_pressure'].mode()[0])"
   ]
  },
  {
   "cell_type": "code",
   "execution_count": null,
   "metadata": {
    "execution": {
     "iopub.execute_input": "2022-05-11T07:23:06.060264Z",
     "iopub.status.busy": "2022-05-11T07:23:06.059988Z",
     "iopub.status.idle": "2022-05-11T07:23:06.078513Z",
     "shell.execute_reply": "2022-05-11T07:23:06.077415Z",
     "shell.execute_reply.started": "2022-05-11T07:23:06.060235Z"
    }
   },
   "outputs": [],
   "source": [
    "# check for nulls in each column again to ensure the impute was successful \n",
    "df_copy.isnull().sum()"
   ]
  },
  {
   "cell_type": "markdown",
   "metadata": {},
   "source": [
    "**Data Frame Types**\n",
    "\n",
    "\n",
    "We need to check that all our columns are numerics (float or integer) for our regression model(s). "
   ]
  },
  {
   "cell_type": "code",
   "execution_count": null,
   "metadata": {
    "execution": {
     "iopub.execute_input": "2022-05-11T07:23:34.037767Z",
     "iopub.status.busy": "2022-05-11T07:23:34.03685Z",
     "iopub.status.idle": "2022-05-11T07:23:34.048035Z",
     "shell.execute_reply": "2022-05-11T07:23:34.046653Z",
     "shell.execute_reply.started": "2022-05-11T07:23:34.037715Z"
    }
   },
   "outputs": [],
   "source": [
    "df_copy.dtypes"
   ]
  },
  {
   "cell_type": "markdown",
   "metadata": {},
   "source": [
    "We need to fix the three columns that are of type object, i.e. time, Valencia_wind_deg and Seville_pressure columns.  We could either drop, transform or encode these columns. Let's take a closer look at each column and decide which action is best. "
   ]
  },
  {
   "cell_type": "code",
   "execution_count": null,
   "metadata": {
    "execution": {
     "iopub.execute_input": "2022-05-11T07:23:55.78513Z",
     "iopub.status.busy": "2022-05-11T07:23:55.784701Z",
     "iopub.status.idle": "2022-05-11T07:23:55.800927Z",
     "shell.execute_reply": "2022-05-11T07:23:55.799813Z",
     "shell.execute_reply.started": "2022-05-11T07:23:55.785085Z"
    }
   },
   "outputs": [],
   "source": [
    "# print out the time column\n",
    "df_copy['time']"
   ]
  },
  {
   "cell_type": "markdown",
   "metadata": {},
   "source": [
    "The column has date and time which cannot be interpreted by a regression model. We therefore need to transform it into format which can be understood by models. "
   ]
  },
  {
   "cell_type": "code",
   "execution_count": null,
   "metadata": {
    "execution": {
     "iopub.execute_input": "2022-05-11T07:24:18.443625Z",
     "iopub.status.busy": "2022-05-11T07:24:18.443081Z",
     "iopub.status.idle": "2022-05-11T07:24:18.457074Z",
     "shell.execute_reply": "2022-05-11T07:24:18.456215Z",
     "shell.execute_reply.started": "2022-05-11T07:24:18.44357Z"
    }
   },
   "outputs": [],
   "source": [
    "# transform time column into datetime using pandas\n",
    "df_copy['time'] = pd.to_datetime(df_copy['time'])"
   ]
  },
  {
   "cell_type": "code",
   "execution_count": null,
   "metadata": {
    "execution": {
     "iopub.execute_input": "2022-05-11T07:24:24.376528Z",
     "iopub.status.busy": "2022-05-11T07:24:24.375731Z",
     "iopub.status.idle": "2022-05-11T07:24:24.384272Z",
     "shell.execute_reply": "2022-05-11T07:24:24.383581Z",
     "shell.execute_reply.started": "2022-05-11T07:24:24.376473Z"
    }
   },
   "outputs": [],
   "source": [
    "# print out the time column again. note that the dtype has changed\n",
    "df_copy['time']"
   ]
  },
  {
   "cell_type": "markdown",
   "metadata": {},
   "source": [
    "Datetime can be understood by some models but not all. We therfore need to transform the time column further so as to accomodate all models. We do this by spliting datetime into day, month, year, hour, minute and second columns. [Link](https://www.analyticsvidhya.com/blog/2020/05/datetime-variables-python-pandas/)"
   ]
  },
  {
   "cell_type": "code",
   "execution_count": null,
   "metadata": {
    "execution": {
     "iopub.execute_input": "2022-05-11T07:25:00.602952Z",
     "iopub.status.busy": "2022-05-11T07:25:00.602436Z",
     "iopub.status.idle": "2022-05-11T07:25:00.625198Z",
     "shell.execute_reply": "2022-05-11T07:25:00.624172Z",
     "shell.execute_reply.started": "2022-05-11T07:25:00.602917Z"
    }
   },
   "outputs": [],
   "source": [
    "# day\n",
    "df_copy['Day'] = df['time'].dt.day\n",
    "# month\n",
    "df_copy['Month'] = df['time'].dt.month\n",
    "# year\n",
    "df_copy['Year'] = df['time'].dt.year\n",
    "# hour\n",
    "df_copy['Hour'] = df['time'].dt.hour\n",
    "# minute\n",
    "df_copy['Minute'] = df['time'].dt.minute\n",
    "# second\n",
    "df_copy['Second'] = df['time'].dt.second"
   ]
  },
  {
   "cell_type": "code",
   "execution_count": null,
   "metadata": {
    "execution": {
     "iopub.execute_input": "2022-05-11T07:25:12.121085Z",
     "iopub.status.busy": "2022-05-11T07:25:12.120428Z",
     "iopub.status.idle": "2022-05-11T07:25:12.129793Z",
     "shell.execute_reply": "2022-05-11T07:25:12.128572Z",
     "shell.execute_reply.started": "2022-05-11T07:25:12.121043Z"
    }
   },
   "outputs": [],
   "source": [
    "# print out the day column to ensure it is numeric\n",
    "df_copy['Day']"
   ]
  },
  {
   "cell_type": "code",
   "execution_count": null,
   "metadata": {
    "execution": {
     "iopub.execute_input": "2022-05-11T07:25:19.823841Z",
     "iopub.status.busy": "2022-05-11T07:25:19.823508Z",
     "iopub.status.idle": "2022-05-11T07:25:19.832709Z",
     "shell.execute_reply": "2022-05-11T07:25:19.831979Z",
     "shell.execute_reply.started": "2022-05-11T07:25:19.823798Z"
    }
   },
   "outputs": [],
   "source": [
    "# print out the month column to ensure it is numeric\n",
    "df_copy['Month']"
   ]
  },
  {
   "cell_type": "code",
   "execution_count": null,
   "metadata": {
    "execution": {
     "iopub.execute_input": "2022-05-11T07:25:23.384346Z",
     "iopub.status.busy": "2022-05-11T07:25:23.383602Z",
     "iopub.status.idle": "2022-05-11T07:25:23.399518Z",
     "shell.execute_reply": "2022-05-11T07:25:23.397749Z",
     "shell.execute_reply.started": "2022-05-11T07:25:23.384294Z"
    }
   },
   "outputs": [],
   "source": [
    "# print out the year column to ensure it is numeric\n",
    "df_copy['Year']"
   ]
  },
  {
   "cell_type": "code",
   "execution_count": null,
   "metadata": {
    "execution": {
     "iopub.execute_input": "2022-05-11T07:25:29.837152Z",
     "iopub.status.busy": "2022-05-11T07:25:29.836824Z",
     "iopub.status.idle": "2022-05-11T07:25:29.847355Z",
     "shell.execute_reply": "2022-05-11T07:25:29.846555Z",
     "shell.execute_reply.started": "2022-05-11T07:25:29.837119Z"
    }
   },
   "outputs": [],
   "source": [
    "# print out the hour column to ensure it is numeric\n",
    "df_copy['Hour']"
   ]
  },
  {
   "cell_type": "code",
   "execution_count": null,
   "metadata": {
    "execution": {
     "iopub.execute_input": "2022-05-11T07:25:32.583581Z",
     "iopub.status.busy": "2022-05-11T07:25:32.582759Z",
     "iopub.status.idle": "2022-05-11T07:25:32.59315Z",
     "shell.execute_reply": "2022-05-11T07:25:32.592064Z",
     "shell.execute_reply.started": "2022-05-11T07:25:32.583547Z"
    }
   },
   "outputs": [],
   "source": [
    "# print out the minute column to ensure it is numeric\n",
    "df_copy['Minute']"
   ]
  },
  {
   "cell_type": "code",
   "execution_count": null,
   "metadata": {
    "execution": {
     "iopub.execute_input": "2022-05-11T07:25:38.954622Z",
     "iopub.status.busy": "2022-05-11T07:25:38.953953Z",
     "iopub.status.idle": "2022-05-11T07:25:38.963733Z",
     "shell.execute_reply": "2022-05-11T07:25:38.962698Z",
     "shell.execute_reply.started": "2022-05-11T07:25:38.954567Z"
    }
   },
   "outputs": [],
   "source": [
    "# print out the second column to ensure it is numeric\n",
    "df_copy['Second'] "
   ]
  },
  {
   "cell_type": "code",
   "execution_count": null,
   "metadata": {
    "execution": {
     "iopub.execute_input": "2022-05-11T07:26:07.964025Z",
     "iopub.status.busy": "2022-05-11T07:26:07.963137Z",
     "iopub.status.idle": "2022-05-11T07:26:07.973232Z",
     "shell.execute_reply": "2022-05-11T07:26:07.972081Z",
     "shell.execute_reply.started": "2022-05-11T07:26:07.963982Z"
    }
   },
   "outputs": [],
   "source": [
    "# print out the Valencia_wind_deg column \n",
    "df_copy['Valencia_wind_deg']"
   ]
  },
  {
   "cell_type": "markdown",
   "metadata": {},
   "source": [
    "We will transform this column by extracting the number from the column and leaving out the 'level_' section so as to create a numeric. "
   ]
  },
  {
   "cell_type": "code",
   "execution_count": null,
   "metadata": {
    "execution": {
     "iopub.execute_input": "2022-05-11T07:27:10.359619Z",
     "iopub.status.busy": "2022-05-11T07:27:10.358363Z",
     "iopub.status.idle": "2022-05-11T07:27:10.388459Z",
     "shell.execute_reply": "2022-05-11T07:27:10.387415Z",
     "shell.execute_reply.started": "2022-05-11T07:27:10.359558Z"
    }
   },
   "outputs": [],
   "source": [
    "# extract a number from an object. this will return an object. \n",
    "# use pd.to_numeric() function to transform the results into a numeric\n",
    "df_copy['Valencia_wind_deg'] = df_copy['Valencia_wind_deg'].str.extract('(\\d+)')\n",
    "df_copy['Valencia_wind_deg'] = pd.to_numeric(df_copy['Valencia_wind_deg'])"
   ]
  },
  {
   "cell_type": "code",
   "execution_count": null,
   "metadata": {
    "execution": {
     "iopub.execute_input": "2022-05-11T07:27:35.21932Z",
     "iopub.status.busy": "2022-05-11T07:27:35.218648Z",
     "iopub.status.idle": "2022-05-11T07:27:35.228959Z",
     "shell.execute_reply": "2022-05-11T07:27:35.227831Z",
     "shell.execute_reply.started": "2022-05-11T07:27:35.219274Z"
    }
   },
   "outputs": [],
   "source": [
    "# print out the Valencia_wind_deg column again to ensure \n",
    "#the extraction and transformationwas successful\n",
    "df_copy['Valencia_wind_deg']"
   ]
  },
  {
   "cell_type": "code",
   "execution_count": null,
   "metadata": {
    "execution": {
     "iopub.execute_input": "2022-05-11T07:27:45.755301Z",
     "iopub.status.busy": "2022-05-11T07:27:45.755014Z",
     "iopub.status.idle": "2022-05-11T07:27:45.764081Z",
     "shell.execute_reply": "2022-05-11T07:27:45.763244Z",
     "shell.execute_reply.started": "2022-05-11T07:27:45.755269Z"
    }
   },
   "outputs": [],
   "source": [
    "# print out the Seville_pressure column \n",
    "df_copy['Seville_pressure']"
   ]
  },
  {
   "cell_type": "code",
   "execution_count": null,
   "metadata": {
    "execution": {
     "iopub.execute_input": "2022-05-11T07:27:54.592203Z",
     "iopub.status.busy": "2022-05-11T07:27:54.59103Z",
     "iopub.status.idle": "2022-05-11T07:27:54.641463Z",
     "shell.execute_reply": "2022-05-11T07:27:54.640383Z",
     "shell.execute_reply.started": "2022-05-11T07:27:54.592142Z"
    }
   },
   "outputs": [],
   "source": [
    "# we will also extract the number from the column and convert the resulting object into a numeric\n",
    "df_copy['Seville_pressure'] = df_copy['Seville_pressure'].str.extract('(\\d+)')\n",
    "df_copy['Seville_pressure'] = pd.to_numeric(df_copy['Seville_pressure'])"
   ]
  },
  {
   "cell_type": "code",
   "execution_count": null,
   "metadata": {
    "execution": {
     "iopub.execute_input": "2022-05-11T07:28:00.287365Z",
     "iopub.status.busy": "2022-05-11T07:28:00.286998Z",
     "iopub.status.idle": "2022-05-11T07:28:00.296224Z",
     "shell.execute_reply": "2022-05-11T07:28:00.294776Z",
     "shell.execute_reply.started": "2022-05-11T07:28:00.287325Z"
    }
   },
   "outputs": [],
   "source": [
    "# print out the Seville_pressure column again to ensure \n",
    "#the extraction and transformationwas successful\n",
    "df_copy['Seville_pressure']"
   ]
  },
  {
   "cell_type": "markdown",
   "metadata": {},
   "source": [
    "**Dropping Noise**\n",
    "\n",
    "Let's take a look at the columns we currently have."
   ]
  },
  {
   "cell_type": "code",
   "execution_count": null,
   "metadata": {
    "execution": {
     "iopub.execute_input": "2022-05-11T07:28:17.027837Z",
     "iopub.status.busy": "2022-05-11T07:28:17.027058Z",
     "iopub.status.idle": "2022-05-11T07:28:17.03425Z",
     "shell.execute_reply": "2022-05-11T07:28:17.0333Z",
     "shell.execute_reply.started": "2022-05-11T07:28:17.027799Z"
    }
   },
   "outputs": [],
   "source": [
    "# print out list of column names\n",
    "df_copy.columns"
   ]
  },
  {
   "cell_type": "markdown",
   "metadata": {},
   "source": [
    "We need to drop the unecessary columns (noise). Looking at the available columns, we will notice that *'Unnamed: 0'* and *'time'* are not needed for our modeling purposes. This is because *'Unnamed: 0'* is an indexing column and *'time'*  has already been split into more model friendly columns"
   ]
  },
  {
   "cell_type": "code",
   "execution_count": null,
   "metadata": {
    "execution": {
     "iopub.execute_input": "2022-05-11T07:28:59.738736Z",
     "iopub.status.busy": "2022-05-11T07:28:59.738364Z",
     "iopub.status.idle": "2022-05-11T07:28:59.759228Z",
     "shell.execute_reply": "2022-05-11T07:28:59.758325Z",
     "shell.execute_reply.started": "2022-05-11T07:28:59.738697Z"
    }
   },
   "outputs": [],
   "source": [
    "# dropping noise\n",
    "df_copy = df_copy.drop(['Unnamed: 0','time'], axis = 1)"
   ]
  },
  {
   "cell_type": "code",
   "execution_count": null,
   "metadata": {
    "execution": {
     "iopub.execute_input": "2022-05-11T07:29:02.687147Z",
     "iopub.status.busy": "2022-05-11T07:29:02.686859Z",
     "iopub.status.idle": "2022-05-11T07:29:02.69539Z",
     "shell.execute_reply": "2022-05-11T07:29:02.694233Z",
     "shell.execute_reply.started": "2022-05-11T07:29:02.687119Z"
    }
   },
   "outputs": [],
   "source": [
    "# print out list of column names again to ensure the two columns have been dropped\n",
    "df_copy.columns"
   ]
  },
  {
   "cell_type": "markdown",
   "metadata": {},
   "source": [
    "Data processing is now complete."
   ]
  }
 ],
 "metadata": {
  "kernelspec": {
   "display_name": "Python 3 (ipykernel)",
   "language": "python",
   "name": "python3"
  },
  "language_info": {
   "codemirror_mode": {
    "name": "ipython",
    "version": 3
   },
   "file_extension": ".py",
   "mimetype": "text/x-python",
   "name": "python",
   "nbconvert_exporter": "python",
   "pygments_lexer": "ipython3",
   "version": "3.9.7"
  }
 },
 "nbformat": 4,
 "nbformat_minor": 4
}
