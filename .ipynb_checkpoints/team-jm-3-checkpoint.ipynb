{
 "cells": [
  {
   "cell_type": "markdown",
   "id": "a272c5fb",
   "metadata": {
    "papermill": {
     "duration": 0.046694,
     "end_time": "2022-05-13T07:01:11.877790",
     "exception": false,
     "start_time": "2022-05-13T07:01:11.831096",
     "status": "completed"
    },
    "tags": []
   },
   "source": [
    "## importing my data"
   ]
  },
  {
   "cell_type": "code",
   "execution_count": 1,
   "id": "afb42a3b",
   "metadata": {
    "execution": {
     "iopub.execute_input": "2022-05-13T07:01:11.960883Z",
     "iopub.status.busy": "2022-05-13T07:01:11.960159Z",
     "iopub.status.idle": "2022-05-13T07:01:11.975304Z",
     "shell.execute_reply": "2022-05-13T07:01:11.974431Z"
    },
    "papermill": {
     "duration": 0.059646,
     "end_time": "2022-05-13T07:01:11.977803",
     "exception": false,
     "start_time": "2022-05-13T07:01:11.918157",
     "status": "completed"
    },
    "tags": []
   },
   "outputs": [
    {
     "name": "stdout",
     "output_type": "stream",
     "text": [
      "/kaggle/input/spain-electricity-shortfall-challenge-2022/sample_submission_load_shortfall (1).csv\n",
      "/kaggle/input/spain-electricity-shortfall-challenge-2022/df_train.csv\n",
      "/kaggle/input/spain-electricity-shortfall-challenge-2022/df_test.csv\n"
     ]
    }
   ],
   "source": [
    "# This Python 3 environment comes with many helpful analytics libraries installed\n",
    "# It is defined by the kaggle/python Docker image: https://github.com/kaggle/docker-python\n",
    "# For example, here's several helpful packages to load\n",
    "\n",
    "import numpy as np # linear algebra\n",
    "import pandas as pd # data processing, CSV file I/O (e.g. pd.read_csv)\n",
    "\n",
    "# Input data files are available in the read-only \"../input/\" directory\n",
    "# For example, running this (by clicking run or pressing Shift+Enter) will list all files under the input directory\n",
    "\n",
    "import os\n",
    "for dirname, _, filenames in os.walk('/kaggle/input'):\n",
    "    for filename in filenames:\n",
    "        print(os.path.join(dirname, filename))\n",
    "\n",
    "# You can write up to 20GB to the current directory (/kaggle/working/) that gets preserved as output when you create a version using \"Save & Run All\" \n",
    "# You can also write temporary files to /kaggle/temp/, but they won't be saved outside of the current session"
   ]
  },
  {
   "cell_type": "code",
   "execution_count": 2,
   "id": "f467f23f",
   "metadata": {
    "execution": {
     "iopub.execute_input": "2022-05-13T07:01:12.064426Z",
     "iopub.status.busy": "2022-05-13T07:01:12.064010Z",
     "iopub.status.idle": "2022-05-13T07:01:13.267924Z",
     "shell.execute_reply": "2022-05-13T07:01:13.267054Z"
    },
    "papermill": {
     "duration": 1.249857,
     "end_time": "2022-05-13T07:01:13.270750",
     "exception": false,
     "start_time": "2022-05-13T07:01:12.020893",
     "status": "completed"
    },
    "tags": []
   },
   "outputs": [],
   "source": [
    "from sklearn.linear_model import LinearRegression"
   ]
  },
  {
   "cell_type": "code",
   "execution_count": 3,
   "id": "4acd7efd",
   "metadata": {
    "execution": {
     "iopub.execute_input": "2022-05-13T07:01:13.357073Z",
     "iopub.status.busy": "2022-05-13T07:01:13.356527Z",
     "iopub.status.idle": "2022-05-13T07:01:13.498231Z",
     "shell.execute_reply": "2022-05-13T07:01:13.497365Z"
    },
    "papermill": {
     "duration": 0.186186,
     "end_time": "2022-05-13T07:01:13.500514",
     "exception": false,
     "start_time": "2022-05-13T07:01:13.314328",
     "status": "completed"
    },
    "tags": []
   },
   "outputs": [],
   "source": [
    "import pandas as pd\n",
    "import numpy as np\n",
    "from sklearn import svm\n",
    "from sklearn.neural_network import MLPClassifier\n",
    "from sklearn.ensemble import RandomForestClassifier\n",
    "from sklearn.svm import SVC\n",
    "from sklearn.metrics import confusion_matrix, classification_report\n",
    "from sklearn.preprocessing import StandardScaler, LabelEncoder\n",
    "from sklearn.model_selection import train_test_split"
   ]
  },
  {
   "cell_type": "code",
   "execution_count": 4,
   "id": "4129a6fc",
   "metadata": {
    "execution": {
     "iopub.execute_input": "2022-05-13T07:01:13.584431Z",
     "iopub.status.busy": "2022-05-13T07:01:13.583915Z",
     "iopub.status.idle": "2022-05-13T07:01:13.776187Z",
     "shell.execute_reply": "2022-05-13T07:01:13.775588Z"
    },
    "papermill": {
     "duration": 0.236697,
     "end_time": "2022-05-13T07:01:13.778282",
     "exception": false,
     "start_time": "2022-05-13T07:01:13.541585",
     "status": "completed"
    },
    "tags": []
   },
   "outputs": [],
   "source": [
    "df_train = pd.read_csv('/kaggle/input/spain-electricity-shortfall-challenge-2022/df_train.csv', index_col = 0)\n",
    "df_test = pd.read_csv('/kaggle/input/spain-electricity-shortfall-challenge-2022/df_test.csv', index_col = 0)"
   ]
  },
  {
   "cell_type": "code",
   "execution_count": 5,
   "id": "74919dc4",
   "metadata": {
    "execution": {
     "iopub.execute_input": "2022-05-13T07:01:13.864015Z",
     "iopub.status.busy": "2022-05-13T07:01:13.863480Z",
     "iopub.status.idle": "2022-05-13T07:01:13.896754Z",
     "shell.execute_reply": "2022-05-13T07:01:13.895980Z"
    },
    "papermill": {
     "duration": 0.079374,
     "end_time": "2022-05-13T07:01:13.899078",
     "exception": false,
     "start_time": "2022-05-13T07:01:13.819704",
     "status": "completed"
    },
    "tags": []
   },
   "outputs": [
    {
     "data": {
      "text/html": [
       "<div>\n",
       "<style scoped>\n",
       "    .dataframe tbody tr th:only-of-type {\n",
       "        vertical-align: middle;\n",
       "    }\n",
       "\n",
       "    .dataframe tbody tr th {\n",
       "        vertical-align: top;\n",
       "    }\n",
       "\n",
       "    .dataframe thead th {\n",
       "        text-align: right;\n",
       "    }\n",
       "</style>\n",
       "<table border=\"1\" class=\"dataframe\">\n",
       "  <thead>\n",
       "    <tr style=\"text-align: right;\">\n",
       "      <th></th>\n",
       "      <th>time</th>\n",
       "      <th>Madrid_wind_speed</th>\n",
       "      <th>Valencia_wind_deg</th>\n",
       "      <th>Bilbao_rain_1h</th>\n",
       "      <th>Valencia_wind_speed</th>\n",
       "      <th>Seville_humidity</th>\n",
       "      <th>Madrid_humidity</th>\n",
       "      <th>Bilbao_clouds_all</th>\n",
       "      <th>Bilbao_wind_speed</th>\n",
       "      <th>Seville_clouds_all</th>\n",
       "      <th>...</th>\n",
       "      <th>Barcelona_temp_max</th>\n",
       "      <th>Madrid_temp_max</th>\n",
       "      <th>Barcelona_temp</th>\n",
       "      <th>Bilbao_temp_min</th>\n",
       "      <th>Bilbao_temp</th>\n",
       "      <th>Barcelona_temp_min</th>\n",
       "      <th>Bilbao_temp_max</th>\n",
       "      <th>Seville_temp_min</th>\n",
       "      <th>Madrid_temp</th>\n",
       "      <th>Madrid_temp_min</th>\n",
       "    </tr>\n",
       "  </thead>\n",
       "  <tbody>\n",
       "    <tr>\n",
       "      <th>8763</th>\n",
       "      <td>2018-01-01 00:00:00</td>\n",
       "      <td>5.000000</td>\n",
       "      <td>level_8</td>\n",
       "      <td>0.0</td>\n",
       "      <td>5.000000</td>\n",
       "      <td>87.000000</td>\n",
       "      <td>71.333333</td>\n",
       "      <td>20.000000</td>\n",
       "      <td>3.000000</td>\n",
       "      <td>0.000000</td>\n",
       "      <td>...</td>\n",
       "      <td>287.816667</td>\n",
       "      <td>280.816667</td>\n",
       "      <td>287.356667</td>\n",
       "      <td>276.150000</td>\n",
       "      <td>280.380000</td>\n",
       "      <td>286.816667</td>\n",
       "      <td>285.150000</td>\n",
       "      <td>283.150000</td>\n",
       "      <td>279.866667</td>\n",
       "      <td>279.150000</td>\n",
       "    </tr>\n",
       "    <tr>\n",
       "      <th>8764</th>\n",
       "      <td>2018-01-01 03:00:00</td>\n",
       "      <td>4.666667</td>\n",
       "      <td>level_8</td>\n",
       "      <td>0.0</td>\n",
       "      <td>5.333333</td>\n",
       "      <td>89.000000</td>\n",
       "      <td>78.000000</td>\n",
       "      <td>0.000000</td>\n",
       "      <td>3.666667</td>\n",
       "      <td>0.000000</td>\n",
       "      <td>...</td>\n",
       "      <td>284.816667</td>\n",
       "      <td>280.483333</td>\n",
       "      <td>284.190000</td>\n",
       "      <td>277.816667</td>\n",
       "      <td>281.010000</td>\n",
       "      <td>283.483333</td>\n",
       "      <td>284.150000</td>\n",
       "      <td>281.150000</td>\n",
       "      <td>279.193333</td>\n",
       "      <td>278.150000</td>\n",
       "    </tr>\n",
       "    <tr>\n",
       "      <th>8765</th>\n",
       "      <td>2018-01-01 06:00:00</td>\n",
       "      <td>2.333333</td>\n",
       "      <td>level_7</td>\n",
       "      <td>0.0</td>\n",
       "      <td>5.000000</td>\n",
       "      <td>89.000000</td>\n",
       "      <td>89.666667</td>\n",
       "      <td>0.000000</td>\n",
       "      <td>2.333333</td>\n",
       "      <td>6.666667</td>\n",
       "      <td>...</td>\n",
       "      <td>284.483333</td>\n",
       "      <td>276.483333</td>\n",
       "      <td>283.150000</td>\n",
       "      <td>276.816667</td>\n",
       "      <td>279.196667</td>\n",
       "      <td>281.816667</td>\n",
       "      <td>282.150000</td>\n",
       "      <td>280.483333</td>\n",
       "      <td>276.340000</td>\n",
       "      <td>276.150000</td>\n",
       "    </tr>\n",
       "    <tr>\n",
       "      <th>8766</th>\n",
       "      <td>2018-01-01 09:00:00</td>\n",
       "      <td>2.666667</td>\n",
       "      <td>level_7</td>\n",
       "      <td>0.0</td>\n",
       "      <td>5.333333</td>\n",
       "      <td>93.333333</td>\n",
       "      <td>82.666667</td>\n",
       "      <td>26.666667</td>\n",
       "      <td>5.666667</td>\n",
       "      <td>6.666667</td>\n",
       "      <td>...</td>\n",
       "      <td>284.150000</td>\n",
       "      <td>277.150000</td>\n",
       "      <td>283.190000</td>\n",
       "      <td>279.150000</td>\n",
       "      <td>281.740000</td>\n",
       "      <td>282.150000</td>\n",
       "      <td>284.483333</td>\n",
       "      <td>279.150000</td>\n",
       "      <td>275.953333</td>\n",
       "      <td>274.483333</td>\n",
       "    </tr>\n",
       "    <tr>\n",
       "      <th>8767</th>\n",
       "      <td>2018-01-01 12:00:00</td>\n",
       "      <td>4.000000</td>\n",
       "      <td>level_7</td>\n",
       "      <td>0.0</td>\n",
       "      <td>8.666667</td>\n",
       "      <td>65.333333</td>\n",
       "      <td>64.000000</td>\n",
       "      <td>26.666667</td>\n",
       "      <td>10.666667</td>\n",
       "      <td>0.000000</td>\n",
       "      <td>...</td>\n",
       "      <td>287.483333</td>\n",
       "      <td>281.150000</td>\n",
       "      <td>286.816667</td>\n",
       "      <td>281.816667</td>\n",
       "      <td>284.116667</td>\n",
       "      <td>286.150000</td>\n",
       "      <td>286.816667</td>\n",
       "      <td>284.483333</td>\n",
       "      <td>280.686667</td>\n",
       "      <td>280.150000</td>\n",
       "    </tr>\n",
       "  </tbody>\n",
       "</table>\n",
       "<p>5 rows × 47 columns</p>\n",
       "</div>"
      ],
      "text/plain": [
       "                     time  Madrid_wind_speed Valencia_wind_deg  \\\n",
       "8763  2018-01-01 00:00:00           5.000000           level_8   \n",
       "8764  2018-01-01 03:00:00           4.666667           level_8   \n",
       "8765  2018-01-01 06:00:00           2.333333           level_7   \n",
       "8766  2018-01-01 09:00:00           2.666667           level_7   \n",
       "8767  2018-01-01 12:00:00           4.000000           level_7   \n",
       "\n",
       "      Bilbao_rain_1h  Valencia_wind_speed  Seville_humidity  Madrid_humidity  \\\n",
       "8763             0.0             5.000000         87.000000        71.333333   \n",
       "8764             0.0             5.333333         89.000000        78.000000   \n",
       "8765             0.0             5.000000         89.000000        89.666667   \n",
       "8766             0.0             5.333333         93.333333        82.666667   \n",
       "8767             0.0             8.666667         65.333333        64.000000   \n",
       "\n",
       "      Bilbao_clouds_all  Bilbao_wind_speed  Seville_clouds_all  ...  \\\n",
       "8763          20.000000           3.000000            0.000000  ...   \n",
       "8764           0.000000           3.666667            0.000000  ...   \n",
       "8765           0.000000           2.333333            6.666667  ...   \n",
       "8766          26.666667           5.666667            6.666667  ...   \n",
       "8767          26.666667          10.666667            0.000000  ...   \n",
       "\n",
       "      Barcelona_temp_max  Madrid_temp_max  Barcelona_temp  Bilbao_temp_min  \\\n",
       "8763          287.816667       280.816667      287.356667       276.150000   \n",
       "8764          284.816667       280.483333      284.190000       277.816667   \n",
       "8765          284.483333       276.483333      283.150000       276.816667   \n",
       "8766          284.150000       277.150000      283.190000       279.150000   \n",
       "8767          287.483333       281.150000      286.816667       281.816667   \n",
       "\n",
       "      Bilbao_temp  Barcelona_temp_min Bilbao_temp_max  Seville_temp_min  \\\n",
       "8763   280.380000          286.816667      285.150000        283.150000   \n",
       "8764   281.010000          283.483333      284.150000        281.150000   \n",
       "8765   279.196667          281.816667      282.150000        280.483333   \n",
       "8766   281.740000          282.150000      284.483333        279.150000   \n",
       "8767   284.116667          286.150000      286.816667        284.483333   \n",
       "\n",
       "      Madrid_temp  Madrid_temp_min  \n",
       "8763   279.866667       279.150000  \n",
       "8764   279.193333       278.150000  \n",
       "8765   276.340000       276.150000  \n",
       "8766   275.953333       274.483333  \n",
       "8767   280.686667       280.150000  \n",
       "\n",
       "[5 rows x 47 columns]"
      ]
     },
     "execution_count": 5,
     "metadata": {},
     "output_type": "execute_result"
    }
   ],
   "source": [
    "df_test.head()"
   ]
  },
  {
   "cell_type": "code",
   "execution_count": 6,
   "id": "18c3b24a",
   "metadata": {
    "execution": {
     "iopub.execute_input": "2022-05-13T07:01:13.984960Z",
     "iopub.status.busy": "2022-05-13T07:01:13.984411Z",
     "iopub.status.idle": "2022-05-13T07:01:13.998446Z",
     "shell.execute_reply": "2022-05-13T07:01:13.997871Z"
    },
    "papermill": {
     "duration": 0.059186,
     "end_time": "2022-05-13T07:01:14.000484",
     "exception": false,
     "start_time": "2022-05-13T07:01:13.941298",
     "status": "completed"
    },
    "tags": []
   },
   "outputs": [],
   "source": [
    "df = pd.concat([df_train,df_test])"
   ]
  },
  {
   "cell_type": "code",
   "execution_count": null,
   "id": "3b635eb7",
   "metadata": {
    "papermill": {
     "duration": 0.042981,
     "end_time": "2022-05-13T07:01:14.086163",
     "exception": false,
     "start_time": "2022-05-13T07:01:14.043182",
     "status": "completed"
    },
    "tags": []
   },
   "outputs": [],
   "source": []
  },
  {
   "cell_type": "code",
   "execution_count": 7,
   "id": "a2d43dd1",
   "metadata": {
    "execution": {
     "iopub.execute_input": "2022-05-13T07:01:14.171659Z",
     "iopub.status.busy": "2022-05-13T07:01:14.171112Z",
     "iopub.status.idle": "2022-05-13T07:01:14.186013Z",
     "shell.execute_reply": "2022-05-13T07:01:14.185235Z"
    },
    "papermill": {
     "duration": 0.059962,
     "end_time": "2022-05-13T07:01:14.187990",
     "exception": false,
     "start_time": "2022-05-13T07:01:14.128028",
     "status": "completed"
    },
    "tags": []
   },
   "outputs": [
    {
     "data": {
      "text/plain": [
       "time                       0\n",
       "Madrid_wind_speed          0\n",
       "Valencia_wind_deg          0\n",
       "Bilbao_rain_1h             0\n",
       "Valencia_wind_speed        0\n",
       "Seville_humidity           0\n",
       "Madrid_humidity            0\n",
       "Bilbao_clouds_all          0\n",
       "Bilbao_wind_speed          0\n",
       "Seville_clouds_all         0\n",
       "Bilbao_wind_deg            0\n",
       "Barcelona_wind_speed       0\n",
       "Barcelona_wind_deg         0\n",
       "Madrid_clouds_all          0\n",
       "Seville_wind_speed         0\n",
       "Barcelona_rain_1h          0\n",
       "Seville_pressure           0\n",
       "Seville_rain_1h            0\n",
       "Bilbao_snow_3h             0\n",
       "Barcelona_pressure         0\n",
       "Seville_rain_3h            0\n",
       "Madrid_rain_1h             0\n",
       "Barcelona_rain_3h          0\n",
       "Valencia_snow_3h           0\n",
       "Madrid_weather_id          0\n",
       "Barcelona_weather_id       0\n",
       "Bilbao_pressure            0\n",
       "Seville_weather_id         0\n",
       "Valencia_pressure       2522\n",
       "Seville_temp_max           0\n",
       "Madrid_pressure            0\n",
       "Valencia_temp_max          0\n",
       "Valencia_temp              0\n",
       "Bilbao_weather_id          0\n",
       "Seville_temp               0\n",
       "Valencia_humidity          0\n",
       "Valencia_temp_min          0\n",
       "Barcelona_temp_max         0\n",
       "Madrid_temp_max            0\n",
       "Barcelona_temp             0\n",
       "Bilbao_temp_min            0\n",
       "Bilbao_temp                0\n",
       "Barcelona_temp_min         0\n",
       "Bilbao_temp_max            0\n",
       "Seville_temp_min           0\n",
       "Madrid_temp                0\n",
       "Madrid_temp_min            0\n",
       "load_shortfall_3h       2920\n",
       "dtype: int64"
      ]
     },
     "execution_count": 7,
     "metadata": {},
     "output_type": "execute_result"
    }
   ],
   "source": [
    "df.isnull().sum()"
   ]
  },
  {
   "cell_type": "code",
   "execution_count": 8,
   "id": "d2abb04a",
   "metadata": {
    "execution": {
     "iopub.execute_input": "2022-05-13T07:01:14.272815Z",
     "iopub.status.busy": "2022-05-13T07:01:14.272276Z",
     "iopub.status.idle": "2022-05-13T07:01:14.282120Z",
     "shell.execute_reply": "2022-05-13T07:01:14.281502Z"
    },
    "papermill": {
     "duration": 0.054886,
     "end_time": "2022-05-13T07:01:14.284109",
     "exception": false,
     "start_time": "2022-05-13T07:01:14.229223",
     "status": "completed"
    },
    "tags": []
   },
   "outputs": [],
   "source": [
    "df['Valencia_pressure'] = df['Valencia_pressure'].fillna(df['Valencia_pressure'].mode()[0])"
   ]
  },
  {
   "cell_type": "code",
   "execution_count": 9,
   "id": "118bf67f",
   "metadata": {
    "execution": {
     "iopub.execute_input": "2022-05-13T07:01:14.370325Z",
     "iopub.status.busy": "2022-05-13T07:01:14.369603Z",
     "iopub.status.idle": "2022-05-13T07:01:14.383121Z",
     "shell.execute_reply": "2022-05-13T07:01:14.382600Z"
    },
    "papermill": {
     "duration": 0.058546,
     "end_time": "2022-05-13T07:01:14.384820",
     "exception": false,
     "start_time": "2022-05-13T07:01:14.326274",
     "status": "completed"
    },
    "tags": []
   },
   "outputs": [
    {
     "data": {
      "text/plain": [
       "time                       0\n",
       "Madrid_wind_speed          0\n",
       "Valencia_wind_deg          0\n",
       "Bilbao_rain_1h             0\n",
       "Valencia_wind_speed        0\n",
       "Seville_humidity           0\n",
       "Madrid_humidity            0\n",
       "Bilbao_clouds_all          0\n",
       "Bilbao_wind_speed          0\n",
       "Seville_clouds_all         0\n",
       "Bilbao_wind_deg            0\n",
       "Barcelona_wind_speed       0\n",
       "Barcelona_wind_deg         0\n",
       "Madrid_clouds_all          0\n",
       "Seville_wind_speed         0\n",
       "Barcelona_rain_1h          0\n",
       "Seville_pressure           0\n",
       "Seville_rain_1h            0\n",
       "Bilbao_snow_3h             0\n",
       "Barcelona_pressure         0\n",
       "Seville_rain_3h            0\n",
       "Madrid_rain_1h             0\n",
       "Barcelona_rain_3h          0\n",
       "Valencia_snow_3h           0\n",
       "Madrid_weather_id          0\n",
       "Barcelona_weather_id       0\n",
       "Bilbao_pressure            0\n",
       "Seville_weather_id         0\n",
       "Valencia_pressure          0\n",
       "Seville_temp_max           0\n",
       "Madrid_pressure            0\n",
       "Valencia_temp_max          0\n",
       "Valencia_temp              0\n",
       "Bilbao_weather_id          0\n",
       "Seville_temp               0\n",
       "Valencia_humidity          0\n",
       "Valencia_temp_min          0\n",
       "Barcelona_temp_max         0\n",
       "Madrid_temp_max            0\n",
       "Barcelona_temp             0\n",
       "Bilbao_temp_min            0\n",
       "Bilbao_temp                0\n",
       "Barcelona_temp_min         0\n",
       "Bilbao_temp_max            0\n",
       "Seville_temp_min           0\n",
       "Madrid_temp                0\n",
       "Madrid_temp_min            0\n",
       "load_shortfall_3h       2920\n",
       "dtype: int64"
      ]
     },
     "execution_count": 9,
     "metadata": {},
     "output_type": "execute_result"
    }
   ],
   "source": [
    "df.isnull().sum()"
   ]
  },
  {
   "cell_type": "code",
   "execution_count": 10,
   "id": "6921e09d",
   "metadata": {
    "execution": {
     "iopub.execute_input": "2022-05-13T07:01:14.473333Z",
     "iopub.status.busy": "2022-05-13T07:01:14.472727Z",
     "iopub.status.idle": "2022-05-13T07:01:14.479809Z",
     "shell.execute_reply": "2022-05-13T07:01:14.479335Z"
    },
    "papermill": {
     "duration": 0.054328,
     "end_time": "2022-05-13T07:01:14.481521",
     "exception": false,
     "start_time": "2022-05-13T07:01:14.427193",
     "status": "completed"
    },
    "tags": []
   },
   "outputs": [
    {
     "data": {
      "text/plain": [
       "time                     object\n",
       "Madrid_wind_speed       float64\n",
       "Valencia_wind_deg        object\n",
       "Bilbao_rain_1h          float64\n",
       "Valencia_wind_speed     float64\n",
       "Seville_humidity        float64\n",
       "Madrid_humidity         float64\n",
       "Bilbao_clouds_all       float64\n",
       "Bilbao_wind_speed       float64\n",
       "Seville_clouds_all      float64\n",
       "Bilbao_wind_deg         float64\n",
       "Barcelona_wind_speed    float64\n",
       "Barcelona_wind_deg      float64\n",
       "Madrid_clouds_all       float64\n",
       "Seville_wind_speed      float64\n",
       "Barcelona_rain_1h       float64\n",
       "Seville_pressure         object\n",
       "Seville_rain_1h         float64\n",
       "Bilbao_snow_3h          float64\n",
       "Barcelona_pressure      float64\n",
       "Seville_rain_3h         float64\n",
       "Madrid_rain_1h          float64\n",
       "Barcelona_rain_3h       float64\n",
       "Valencia_snow_3h        float64\n",
       "Madrid_weather_id       float64\n",
       "Barcelona_weather_id    float64\n",
       "Bilbao_pressure         float64\n",
       "Seville_weather_id      float64\n",
       "Valencia_pressure       float64\n",
       "Seville_temp_max        float64\n",
       "Madrid_pressure         float64\n",
       "Valencia_temp_max       float64\n",
       "Valencia_temp           float64\n",
       "Bilbao_weather_id       float64\n",
       "Seville_temp            float64\n",
       "Valencia_humidity       float64\n",
       "Valencia_temp_min       float64\n",
       "Barcelona_temp_max      float64\n",
       "Madrid_temp_max         float64\n",
       "Barcelona_temp          float64\n",
       "Bilbao_temp_min         float64\n",
       "Bilbao_temp             float64\n",
       "Barcelona_temp_min      float64\n",
       "Bilbao_temp_max         float64\n",
       "Seville_temp_min        float64\n",
       "Madrid_temp             float64\n",
       "Madrid_temp_min         float64\n",
       "load_shortfall_3h       float64\n",
       "dtype: object"
      ]
     },
     "execution_count": 10,
     "metadata": {},
     "output_type": "execute_result"
    }
   ],
   "source": [
    "df.dtypes"
   ]
  },
  {
   "cell_type": "code",
   "execution_count": 11,
   "id": "2cfdbb2b",
   "metadata": {
    "execution": {
     "iopub.execute_input": "2022-05-13T07:01:14.569449Z",
     "iopub.status.busy": "2022-05-13T07:01:14.568987Z",
     "iopub.status.idle": "2022-05-13T07:01:14.587441Z",
     "shell.execute_reply": "2022-05-13T07:01:14.586811Z"
    },
    "papermill": {
     "duration": 0.064702,
     "end_time": "2022-05-13T07:01:14.589278",
     "exception": false,
     "start_time": "2022-05-13T07:01:14.524576",
     "status": "completed"
    },
    "tags": []
   },
   "outputs": [],
   "source": [
    "timelist = df['time'].to_list()\n",
    "year = [int(i[:4]) for i in timelist]\n",
    "month = [int(i[5:7]) for i in timelist]\n",
    "day = [int(i[8:10]) for i in timelist]\n",
    "hour = [int(i[11:13]) for i in timelist]"
   ]
  },
  {
   "cell_type": "code",
   "execution_count": 12,
   "id": "4b77158d",
   "metadata": {
    "execution": {
     "iopub.execute_input": "2022-05-13T07:01:14.678656Z",
     "iopub.status.busy": "2022-05-13T07:01:14.678033Z",
     "iopub.status.idle": "2022-05-13T07:01:14.703800Z",
     "shell.execute_reply": "2022-05-13T07:01:14.703075Z"
    },
    "papermill": {
     "duration": 0.073044,
     "end_time": "2022-05-13T07:01:14.705901",
     "exception": false,
     "start_time": "2022-05-13T07:01:14.632857",
     "status": "completed"
    },
    "tags": []
   },
   "outputs": [],
   "source": [
    "df['year'] = year\n",
    "df['month'] = month\n",
    "df['day'] = day\n",
    "df['hour'] = hour"
   ]
  },
  {
   "cell_type": "code",
   "execution_count": 13,
   "id": "0c4178d4",
   "metadata": {
    "execution": {
     "iopub.execute_input": "2022-05-13T07:01:14.792932Z",
     "iopub.status.busy": "2022-05-13T07:01:14.792401Z",
     "iopub.status.idle": "2022-05-13T07:01:14.806320Z",
     "shell.execute_reply": "2022-05-13T07:01:14.805684Z"
    },
    "papermill": {
     "duration": 0.060015,
     "end_time": "2022-05-13T07:01:14.808479",
     "exception": false,
     "start_time": "2022-05-13T07:01:14.748464",
     "status": "completed"
    },
    "tags": []
   },
   "outputs": [],
   "source": [
    "df = df.drop(['time'], axis = 1)"
   ]
  },
  {
   "cell_type": "code",
   "execution_count": null,
   "id": "3155f675",
   "metadata": {
    "papermill": {
     "duration": 0.042445,
     "end_time": "2022-05-13T07:01:14.893851",
     "exception": false,
     "start_time": "2022-05-13T07:01:14.851406",
     "status": "completed"
    },
    "tags": []
   },
   "outputs": [],
   "source": []
  },
  {
   "cell_type": "code",
   "execution_count": 14,
   "id": "fcb92031",
   "metadata": {
    "execution": {
     "iopub.execute_input": "2022-05-13T07:01:14.981262Z",
     "iopub.status.busy": "2022-05-13T07:01:14.980733Z",
     "iopub.status.idle": "2022-05-13T07:01:14.997815Z",
     "shell.execute_reply": "2022-05-13T07:01:14.996987Z"
    },
    "papermill": {
     "duration": 0.062844,
     "end_time": "2022-05-13T07:01:14.999940",
     "exception": false,
     "start_time": "2022-05-13T07:01:14.937096",
     "status": "completed"
    },
    "tags": []
   },
   "outputs": [],
   "source": [
    "df.Valencia_wind_deg = df['Valencia_wind_deg'].apply(lambda x: int(x.split('_')[-1]))"
   ]
  },
  {
   "cell_type": "code",
   "execution_count": 15,
   "id": "05691956",
   "metadata": {
    "execution": {
     "iopub.execute_input": "2022-05-13T07:01:15.091747Z",
     "iopub.status.busy": "2022-05-13T07:01:15.090935Z",
     "iopub.status.idle": "2022-05-13T07:01:15.099288Z",
     "shell.execute_reply": "2022-05-13T07:01:15.098503Z"
    },
    "papermill": {
     "duration": 0.056979,
     "end_time": "2022-05-13T07:01:15.101421",
     "exception": false,
     "start_time": "2022-05-13T07:01:15.044442",
     "status": "completed"
    },
    "tags": []
   },
   "outputs": [
    {
     "data": {
      "text/plain": [
       "Madrid_wind_speed       float64\n",
       "Valencia_wind_deg         int64\n",
       "Bilbao_rain_1h          float64\n",
       "Valencia_wind_speed     float64\n",
       "Seville_humidity        float64\n",
       "Madrid_humidity         float64\n",
       "Bilbao_clouds_all       float64\n",
       "Bilbao_wind_speed       float64\n",
       "Seville_clouds_all      float64\n",
       "Bilbao_wind_deg         float64\n",
       "Barcelona_wind_speed    float64\n",
       "Barcelona_wind_deg      float64\n",
       "Madrid_clouds_all       float64\n",
       "Seville_wind_speed      float64\n",
       "Barcelona_rain_1h       float64\n",
       "Seville_pressure         object\n",
       "Seville_rain_1h         float64\n",
       "Bilbao_snow_3h          float64\n",
       "Barcelona_pressure      float64\n",
       "Seville_rain_3h         float64\n",
       "Madrid_rain_1h          float64\n",
       "Barcelona_rain_3h       float64\n",
       "Valencia_snow_3h        float64\n",
       "Madrid_weather_id       float64\n",
       "Barcelona_weather_id    float64\n",
       "Bilbao_pressure         float64\n",
       "Seville_weather_id      float64\n",
       "Valencia_pressure       float64\n",
       "Seville_temp_max        float64\n",
       "Madrid_pressure         float64\n",
       "Valencia_temp_max       float64\n",
       "Valencia_temp           float64\n",
       "Bilbao_weather_id       float64\n",
       "Seville_temp            float64\n",
       "Valencia_humidity       float64\n",
       "Valencia_temp_min       float64\n",
       "Barcelona_temp_max      float64\n",
       "Madrid_temp_max         float64\n",
       "Barcelona_temp          float64\n",
       "Bilbao_temp_min         float64\n",
       "Bilbao_temp             float64\n",
       "Barcelona_temp_min      float64\n",
       "Bilbao_temp_max         float64\n",
       "Seville_temp_min        float64\n",
       "Madrid_temp             float64\n",
       "Madrid_temp_min         float64\n",
       "load_shortfall_3h       float64\n",
       "year                      int64\n",
       "month                     int64\n",
       "day                       int64\n",
       "hour                      int64\n",
       "dtype: object"
      ]
     },
     "execution_count": 15,
     "metadata": {},
     "output_type": "execute_result"
    }
   ],
   "source": [
    "df.dtypes"
   ]
  },
  {
   "cell_type": "code",
   "execution_count": 16,
   "id": "3c959387",
   "metadata": {
    "execution": {
     "iopub.execute_input": "2022-05-13T07:01:15.191158Z",
     "iopub.status.busy": "2022-05-13T07:01:15.190625Z",
     "iopub.status.idle": "2022-05-13T07:01:15.206439Z",
     "shell.execute_reply": "2022-05-13T07:01:15.205826Z"
    },
    "papermill": {
     "duration": 0.062645,
     "end_time": "2022-05-13T07:01:15.208525",
     "exception": false,
     "start_time": "2022-05-13T07:01:15.145880",
     "status": "completed"
    },
    "tags": []
   },
   "outputs": [],
   "source": [
    "df.Seville_pressure = df['Seville_pressure'].apply(lambda x: int(x.split('p')[-1]))"
   ]
  },
  {
   "cell_type": "code",
   "execution_count": 17,
   "id": "3f8d57e1",
   "metadata": {
    "execution": {
     "iopub.execute_input": "2022-05-13T07:01:15.296833Z",
     "iopub.status.busy": "2022-05-13T07:01:15.296269Z",
     "iopub.status.idle": "2022-05-13T07:01:15.304544Z",
     "shell.execute_reply": "2022-05-13T07:01:15.303671Z"
    },
    "papermill": {
     "duration": 0.054804,
     "end_time": "2022-05-13T07:01:15.306414",
     "exception": false,
     "start_time": "2022-05-13T07:01:15.251610",
     "status": "completed"
    },
    "tags": []
   },
   "outputs": [
    {
     "data": {
      "text/plain": [
       "Madrid_wind_speed       float64\n",
       "Valencia_wind_deg         int64\n",
       "Bilbao_rain_1h          float64\n",
       "Valencia_wind_speed     float64\n",
       "Seville_humidity        float64\n",
       "Madrid_humidity         float64\n",
       "Bilbao_clouds_all       float64\n",
       "Bilbao_wind_speed       float64\n",
       "Seville_clouds_all      float64\n",
       "Bilbao_wind_deg         float64\n",
       "Barcelona_wind_speed    float64\n",
       "Barcelona_wind_deg      float64\n",
       "Madrid_clouds_all       float64\n",
       "Seville_wind_speed      float64\n",
       "Barcelona_rain_1h       float64\n",
       "Seville_pressure          int64\n",
       "Seville_rain_1h         float64\n",
       "Bilbao_snow_3h          float64\n",
       "Barcelona_pressure      float64\n",
       "Seville_rain_3h         float64\n",
       "Madrid_rain_1h          float64\n",
       "Barcelona_rain_3h       float64\n",
       "Valencia_snow_3h        float64\n",
       "Madrid_weather_id       float64\n",
       "Barcelona_weather_id    float64\n",
       "Bilbao_pressure         float64\n",
       "Seville_weather_id      float64\n",
       "Valencia_pressure       float64\n",
       "Seville_temp_max        float64\n",
       "Madrid_pressure         float64\n",
       "Valencia_temp_max       float64\n",
       "Valencia_temp           float64\n",
       "Bilbao_weather_id       float64\n",
       "Seville_temp            float64\n",
       "Valencia_humidity       float64\n",
       "Valencia_temp_min       float64\n",
       "Barcelona_temp_max      float64\n",
       "Madrid_temp_max         float64\n",
       "Barcelona_temp          float64\n",
       "Bilbao_temp_min         float64\n",
       "Bilbao_temp             float64\n",
       "Barcelona_temp_min      float64\n",
       "Bilbao_temp_max         float64\n",
       "Seville_temp_min        float64\n",
       "Madrid_temp             float64\n",
       "Madrid_temp_min         float64\n",
       "load_shortfall_3h       float64\n",
       "year                      int64\n",
       "month                     int64\n",
       "day                       int64\n",
       "hour                      int64\n",
       "dtype: object"
      ]
     },
     "execution_count": 17,
     "metadata": {},
     "output_type": "execute_result"
    }
   ],
   "source": [
    "df.dtypes"
   ]
  },
  {
   "cell_type": "code",
   "execution_count": null,
   "id": "73cb3a03",
   "metadata": {
    "papermill": {
     "duration": 0.043822,
     "end_time": "2022-05-13T07:01:15.394295",
     "exception": false,
     "start_time": "2022-05-13T07:01:15.350473",
     "status": "completed"
    },
    "tags": []
   },
   "outputs": [],
   "source": []
  },
  {
   "cell_type": "code",
   "execution_count": 18,
   "id": "61a199bf",
   "metadata": {
    "execution": {
     "iopub.execute_input": "2022-05-13T07:01:15.483894Z",
     "iopub.status.busy": "2022-05-13T07:01:15.483364Z",
     "iopub.status.idle": "2022-05-13T07:01:15.491656Z",
     "shell.execute_reply": "2022-05-13T07:01:15.491091Z"
    },
    "papermill": {
     "duration": 0.055443,
     "end_time": "2022-05-13T07:01:15.493632",
     "exception": false,
     "start_time": "2022-05-13T07:01:15.438189",
     "status": "completed"
    },
    "tags": []
   },
   "outputs": [],
   "source": [
    "x = df[:len(df_train)].drop(['load_shortfall_3h'],axis = 1)\n",
    "y = df[:len(df_train)].load_shortfall_3h"
   ]
  },
  {
   "cell_type": "code",
   "execution_count": 19,
   "id": "51808173",
   "metadata": {
    "execution": {
     "iopub.execute_input": "2022-05-13T07:01:15.583368Z",
     "iopub.status.busy": "2022-05-13T07:01:15.582840Z",
     "iopub.status.idle": "2022-05-13T07:01:15.592198Z",
     "shell.execute_reply": "2022-05-13T07:01:15.591654Z"
    },
    "papermill": {
     "duration": 0.056531,
     "end_time": "2022-05-13T07:01:15.594096",
     "exception": false,
     "start_time": "2022-05-13T07:01:15.537565",
     "status": "completed"
    },
    "tags": []
   },
   "outputs": [],
   "source": [
    "x_train, x_test, y_train, y_test = train_test_split(x,y, test_size = 0.2, random_state = 1)"
   ]
  },
  {
   "cell_type": "code",
   "execution_count": 20,
   "id": "da5c0138",
   "metadata": {
    "execution": {
     "iopub.execute_input": "2022-05-13T07:01:15.684172Z",
     "iopub.status.busy": "2022-05-13T07:01:15.683741Z",
     "iopub.status.idle": "2022-05-13T07:01:15.703971Z",
     "shell.execute_reply": "2022-05-13T07:01:15.703335Z"
    },
    "papermill": {
     "duration": 0.068196,
     "end_time": "2022-05-13T07:01:15.706122",
     "exception": false,
     "start_time": "2022-05-13T07:01:15.637926",
     "status": "completed"
    },
    "tags": []
   },
   "outputs": [],
   "source": [
    "#applying scaler\n",
    "sc = StandardScaler()\n",
    "x_train = sc.fit_transform(x_train)\n",
    "x_test = sc.transform(x_test)"
   ]
  },
  {
   "cell_type": "code",
   "execution_count": 21,
   "id": "1bfb79f3",
   "metadata": {
    "execution": {
     "iopub.execute_input": "2022-05-13T07:01:15.795687Z",
     "iopub.status.busy": "2022-05-13T07:01:15.795247Z",
     "iopub.status.idle": "2022-05-13T07:01:15.839827Z",
     "shell.execute_reply": "2022-05-13T07:01:15.838170Z"
    },
    "papermill": {
     "duration": 0.092981,
     "end_time": "2022-05-13T07:01:15.843007",
     "exception": false,
     "start_time": "2022-05-13T07:01:15.750026",
     "status": "completed"
    },
    "tags": []
   },
   "outputs": [],
   "source": [
    "Lr = LinearRegression()\n",
    "Lr.fit(x_train,y_train)\n",
    "pred_Lr = Lr.predict(x_test)"
   ]
  },
  {
   "cell_type": "code",
   "execution_count": null,
   "id": "cb5fc7d1",
   "metadata": {
    "papermill": {
     "duration": 0.04357,
     "end_time": "2022-05-13T07:01:16.003361",
     "exception": false,
     "start_time": "2022-05-13T07:01:15.959791",
     "status": "completed"
    },
    "tags": []
   },
   "outputs": [],
   "source": []
  },
  {
   "cell_type": "code",
   "execution_count": 22,
   "id": "7cbca4e4",
   "metadata": {
    "execution": {
     "iopub.execute_input": "2022-05-13T07:01:16.094779Z",
     "iopub.status.busy": "2022-05-13T07:01:16.093985Z",
     "iopub.status.idle": "2022-05-13T07:01:16.098175Z",
     "shell.execute_reply": "2022-05-13T07:01:16.097338Z"
    },
    "papermill": {
     "duration": 0.051836,
     "end_time": "2022-05-13T07:01:16.100046",
     "exception": false,
     "start_time": "2022-05-13T07:01:16.048210",
     "status": "completed"
    },
    "tags": []
   },
   "outputs": [],
   "source": [
    "from sklearn.metrics import r2_score"
   ]
  },
  {
   "cell_type": "code",
   "execution_count": 23,
   "id": "56ff55ea",
   "metadata": {
    "execution": {
     "iopub.execute_input": "2022-05-13T07:01:16.188955Z",
     "iopub.status.busy": "2022-05-13T07:01:16.188697Z",
     "iopub.status.idle": "2022-05-13T07:01:16.411926Z",
     "shell.execute_reply": "2022-05-13T07:01:16.411305Z"
    },
    "papermill": {
     "duration": 0.270232,
     "end_time": "2022-05-13T07:01:16.413999",
     "exception": false,
     "start_time": "2022-05-13T07:01:16.143767",
     "status": "completed"
    },
    "tags": []
   },
   "outputs": [],
   "source": [
    "from sklearn.metrics import mean_squared_error\n",
    "from sklearn.linear_model import *\n",
    "from sklearn import *"
   ]
  },
  {
   "cell_type": "code",
   "execution_count": 24,
   "id": "30e39da6",
   "metadata": {
    "execution": {
     "iopub.execute_input": "2022-05-13T07:01:16.503121Z",
     "iopub.status.busy": "2022-05-13T07:01:16.502439Z",
     "iopub.status.idle": "2022-05-13T07:01:16.506804Z",
     "shell.execute_reply": "2022-05-13T07:01:16.506293Z"
    },
    "papermill": {
     "duration": 0.050703,
     "end_time": "2022-05-13T07:01:16.508546",
     "exception": false,
     "start_time": "2022-05-13T07:01:16.457843",
     "status": "completed"
    },
    "tags": []
   },
   "outputs": [],
   "source": [
    "from tqdm import tqdm\n",
    "import math\n",
    "import random\n",
    "from scipy import stats"
   ]
  },
  {
   "cell_type": "code",
   "execution_count": null,
   "id": "98cf8293",
   "metadata": {
    "papermill": {
     "duration": 0.043521,
     "end_time": "2022-05-13T07:01:16.595550",
     "exception": false,
     "start_time": "2022-05-13T07:01:16.552029",
     "status": "completed"
    },
    "tags": []
   },
   "outputs": [],
   "source": []
  },
  {
   "cell_type": "code",
   "execution_count": 25,
   "id": "3cb9809c",
   "metadata": {
    "execution": {
     "iopub.execute_input": "2022-05-13T07:01:16.685539Z",
     "iopub.status.busy": "2022-05-13T07:01:16.684899Z",
     "iopub.status.idle": "2022-05-13T07:01:16.689225Z",
     "shell.execute_reply": "2022-05-13T07:01:16.688706Z"
    },
    "papermill": {
     "duration": 0.051826,
     "end_time": "2022-05-13T07:01:16.691035",
     "exception": false,
     "start_time": "2022-05-13T07:01:16.639209",
     "status": "completed"
    },
    "tags": []
   },
   "outputs": [],
   "source": [
    "def rmse(y_test, y_predict):\n",
    "    return np.sqrt(mean_squared_error(y_test, y_predict))"
   ]
  },
  {
   "cell_type": "code",
   "execution_count": 26,
   "id": "3b04f84c",
   "metadata": {
    "execution": {
     "iopub.execute_input": "2022-05-13T07:01:16.780125Z",
     "iopub.status.busy": "2022-05-13T07:01:16.779681Z",
     "iopub.status.idle": "2022-05-13T07:01:16.786581Z",
     "shell.execute_reply": "2022-05-13T07:01:16.785756Z"
    },
    "papermill": {
     "duration": 0.053707,
     "end_time": "2022-05-13T07:01:16.788377",
     "exception": false,
     "start_time": "2022-05-13T07:01:16.734670",
     "status": "completed"
    },
    "tags": []
   },
   "outputs": [
    {
     "data": {
      "text/plain": [
       "4687.5020934674985"
      ]
     },
     "execution_count": 26,
     "metadata": {},
     "output_type": "execute_result"
    }
   ],
   "source": [
    "rmse(y_test, pred_Lr)"
   ]
  },
  {
   "cell_type": "code",
   "execution_count": 27,
   "id": "57a69fa0",
   "metadata": {
    "execution": {
     "iopub.execute_input": "2022-05-13T07:01:16.877517Z",
     "iopub.status.busy": "2022-05-13T07:01:16.877228Z",
     "iopub.status.idle": "2022-05-13T07:01:16.883829Z",
     "shell.execute_reply": "2022-05-13T07:01:16.883039Z"
    },
    "papermill": {
     "duration": 0.053536,
     "end_time": "2022-05-13T07:01:16.885826",
     "exception": false,
     "start_time": "2022-05-13T07:01:16.832290",
     "status": "completed"
    },
    "tags": []
   },
   "outputs": [
    {
     "data": {
      "text/plain": [
       "0.177710836635547"
      ]
     },
     "execution_count": 27,
     "metadata": {},
     "output_type": "execute_result"
    }
   ],
   "source": [
    "r2_score(y_test, pred_Lr)"
   ]
  },
  {
   "cell_type": "code",
   "execution_count": 28,
   "id": "8931937b",
   "metadata": {
    "execution": {
     "iopub.execute_input": "2022-05-13T07:01:16.976960Z",
     "iopub.status.busy": "2022-05-13T07:01:16.976244Z",
     "iopub.status.idle": "2022-05-13T07:01:16.994883Z",
     "shell.execute_reply": "2022-05-13T07:01:16.994232Z"
    },
    "papermill": {
     "duration": 0.066466,
     "end_time": "2022-05-13T07:01:16.997059",
     "exception": false,
     "start_time": "2022-05-13T07:01:16.930593",
     "status": "completed"
    },
    "tags": []
   },
   "outputs": [],
   "source": [
    "x_train = x\n",
    "x_train = sc.fit_transform(x_train)"
   ]
  },
  {
   "cell_type": "code",
   "execution_count": 29,
   "id": "8cf65283",
   "metadata": {
    "execution": {
     "iopub.execute_input": "2022-05-13T07:01:17.091221Z",
     "iopub.status.busy": "2022-05-13T07:01:17.090699Z",
     "iopub.status.idle": "2022-05-13T07:01:17.103204Z",
     "shell.execute_reply": "2022-05-13T07:01:17.102535Z"
    },
    "papermill": {
     "duration": 0.062615,
     "end_time": "2022-05-13T07:01:17.105367",
     "exception": false,
     "start_time": "2022-05-13T07:01:17.042752",
     "status": "completed"
    },
    "tags": []
   },
   "outputs": [],
   "source": [
    "x_test = df[len(df_train):].drop(['load_shortfall_3h'], axis =1)\n",
    "x_test = sc.fit_transform(x_test)"
   ]
  },
  {
   "cell_type": "code",
   "execution_count": 30,
   "id": "25bafb41",
   "metadata": {
    "execution": {
     "iopub.execute_input": "2022-05-13T07:01:17.196262Z",
     "iopub.status.busy": "2022-05-13T07:01:17.195957Z",
     "iopub.status.idle": "2022-05-13T07:01:17.225150Z",
     "shell.execute_reply": "2022-05-13T07:01:17.224288Z"
    },
    "papermill": {
     "duration": 0.078513,
     "end_time": "2022-05-13T07:01:17.228797",
     "exception": false,
     "start_time": "2022-05-13T07:01:17.150284",
     "status": "completed"
    },
    "tags": []
   },
   "outputs": [],
   "source": [
    "Lr.fit(x_train, y)\n",
    "pred = pred_Lr = Lr.predict(x_test)"
   ]
  },
  {
   "cell_type": "code",
   "execution_count": 31,
   "id": "591a2fd0",
   "metadata": {
    "execution": {
     "iopub.execute_input": "2022-05-13T07:01:17.396911Z",
     "iopub.status.busy": "2022-05-13T07:01:17.396620Z",
     "iopub.status.idle": "2022-05-13T07:01:17.400624Z",
     "shell.execute_reply": "2022-05-13T07:01:17.399784Z"
    },
    "papermill": {
     "duration": 0.051753,
     "end_time": "2022-05-13T07:01:17.402556",
     "exception": false,
     "start_time": "2022-05-13T07:01:17.350803",
     "status": "completed"
    },
    "tags": []
   },
   "outputs": [],
   "source": [
    "time1 = df_test.time"
   ]
  },
  {
   "cell_type": "code",
   "execution_count": 32,
   "id": "682d4513",
   "metadata": {
    "execution": {
     "iopub.execute_input": "2022-05-13T07:01:17.493417Z",
     "iopub.status.busy": "2022-05-13T07:01:17.492598Z",
     "iopub.status.idle": "2022-05-13T07:01:17.497264Z",
     "shell.execute_reply": "2022-05-13T07:01:17.496768Z"
    },
    "papermill": {
     "duration": 0.052189,
     "end_time": "2022-05-13T07:01:17.499082",
     "exception": false,
     "start_time": "2022-05-13T07:01:17.446893",
     "status": "completed"
    },
    "tags": []
   },
   "outputs": [],
   "source": [
    "lil = pd.DataFrame(time1)"
   ]
  },
  {
   "cell_type": "code",
   "execution_count": 33,
   "id": "7ece7a93",
   "metadata": {
    "execution": {
     "iopub.execute_input": "2022-05-13T07:01:17.589840Z",
     "iopub.status.busy": "2022-05-13T07:01:17.589263Z",
     "iopub.status.idle": "2022-05-13T07:01:17.593955Z",
     "shell.execute_reply": "2022-05-13T07:01:17.593388Z"
    },
    "papermill": {
     "duration": 0.05233,
     "end_time": "2022-05-13T07:01:17.595799",
     "exception": false,
     "start_time": "2022-05-13T07:01:17.543469",
     "status": "completed"
    },
    "tags": []
   },
   "outputs": [],
   "source": [
    "lil['load_shortfall_3h'] = pred"
   ]
  },
  {
   "cell_type": "code",
   "execution_count": null,
   "id": "1c765956",
   "metadata": {
    "papermill": {
     "duration": 0.043915,
     "end_time": "2022-05-13T07:01:17.684173",
     "exception": false,
     "start_time": "2022-05-13T07:01:17.640258",
     "status": "completed"
    },
    "tags": []
   },
   "outputs": [],
   "source": []
  },
  {
   "cell_type": "code",
   "execution_count": 34,
   "id": "b3c2ecdb",
   "metadata": {
    "execution": {
     "iopub.execute_input": "2022-05-13T07:01:17.774364Z",
     "iopub.status.busy": "2022-05-13T07:01:17.773943Z",
     "iopub.status.idle": "2022-05-13T07:01:17.777641Z",
     "shell.execute_reply": "2022-05-13T07:01:17.777056Z"
    },
    "papermill": {
     "duration": 0.050969,
     "end_time": "2022-05-13T07:01:17.779393",
     "exception": false,
     "start_time": "2022-05-13T07:01:17.728424",
     "status": "completed"
    },
    "tags": []
   },
   "outputs": [],
   "source": [
    "submission = lil"
   ]
  },
  {
   "cell_type": "code",
   "execution_count": 35,
   "id": "21445681",
   "metadata": {
    "execution": {
     "iopub.execute_input": "2022-05-13T07:01:17.869208Z",
     "iopub.status.busy": "2022-05-13T07:01:17.868947Z",
     "iopub.status.idle": "2022-05-13T07:01:17.887287Z",
     "shell.execute_reply": "2022-05-13T07:01:17.886381Z"
    },
    "papermill": {
     "duration": 0.066119,
     "end_time": "2022-05-13T07:01:17.889656",
     "exception": false,
     "start_time": "2022-05-13T07:01:17.823537",
     "status": "completed"
    },
    "tags": []
   },
   "outputs": [],
   "source": [
    "submission.to_csv('submission.csv',index = False)"
   ]
  },
  {
   "cell_type": "code",
   "execution_count": null,
   "id": "08408c98",
   "metadata": {
    "papermill": {
     "duration": 0.044022,
     "end_time": "2022-05-13T07:01:17.978199",
     "exception": false,
     "start_time": "2022-05-13T07:01:17.934177",
     "status": "completed"
    },
    "tags": []
   },
   "outputs": [],
   "source": []
  }
 ],
 "metadata": {
  "kernelspec": {
   "display_name": "Python 3 (ipykernel)",
   "language": "python",
   "name": "python3"
  },
  "language_info": {
   "codemirror_mode": {
    "name": "ipython",
    "version": 3
   },
   "file_extension": ".py",
   "mimetype": "text/x-python",
   "name": "python",
   "nbconvert_exporter": "python",
   "pygments_lexer": "ipython3",
   "version": "3.9.7"
  },
  "papermill": {
   "default_parameters": {},
   "duration": 16.70071,
   "end_time": "2022-05-13T07:01:18.743580",
   "environment_variables": {},
   "exception": null,
   "input_path": "__notebook__.ipynb",
   "output_path": "__notebook__.ipynb",
   "parameters": {},
   "start_time": "2022-05-13T07:01:02.042870",
   "version": "2.3.4"
  }
 },
 "nbformat": 4,
 "nbformat_minor": 5
}
