{
 "cells": [
  {
   "cell_type": "markdown",
   "metadata": {},
   "source": [
    "# Basic Exploratory Data Analysis "
   ]
  },
  {
   "cell_type": "code",
   "execution_count": 1,
   "metadata": {
    "_cell_guid": "b1076dfc-b9ad-4769-8c92-a6c4dae69d19",
    "_uuid": "8f2839f25d086af736a60e9eeb907d3b93b6e0e5",
    "execution": {
     "iopub.execute_input": "2022-05-11T07:15:00.439977Z",
     "iopub.status.busy": "2022-05-11T07:15:00.439632Z",
     "iopub.status.idle": "2022-05-11T07:15:00.449485Z",
     "shell.execute_reply": "2022-05-11T07:15:00.448786Z",
     "shell.execute_reply.started": "2022-05-11T07:15:00.439947Z"
    }
   },
   "outputs": [],
   "source": [
    "# This Python 3 environment comes with many helpful analytics libraries installed\n",
    "# It is defined by the kaggle/python Docker image: https://github.com/kaggle/docker-python\n",
    "# For example, here's several helpful packages to load\n",
    "\n",
    "import numpy as np # linear algebra\n",
    "import pandas as pd # data processing, CSV file I/O (e.g. pd.read_csv)\n",
    "import seaborn as sns # statistical data visualization library based on matplotlib\n",
    "\n",
    "# Input data files are available in the read-only \"../input/\" directory\n",
    "# For example, running this (by clicking run or pressing Shift+Enter) will list all files under the input directory\n",
    "\n",
    "import os\n",
    "for dirname, _, filenames in os.walk('/kaggle/input'):\n",
    "    for filename in filenames:\n",
    "        print(os.path.join(dirname, filename))\n",
    "\n",
    "# You can write up to 20GB to the current directory (/kaggle/working/) that gets preserved as output when you create a version using \"Save & Run All\" \n",
    "# You can also write temporary files to /kaggle/temp/, but they won't be saved outside of the current session"
   ]
  },
  {
   "cell_type": "markdown",
   "metadata": {},
   "source": [
    "Below is loading of our datasets into the notebook from kaggle site"
   ]
  },
  {
   "cell_type": "code",
   "execution_count": 2,
   "metadata": {
    "execution": {
     "iopub.execute_input": "2022-05-11T07:15:20.174175Z",
     "iopub.status.busy": "2022-05-11T07:15:20.173119Z",
     "iopub.status.idle": "2022-05-11T07:15:20.388286Z",
     "shell.execute_reply": "2022-05-11T07:15:20.387294Z",
     "shell.execute_reply.started": "2022-05-11T07:15:20.174116Z"
    }
   },
   "outputs": [],
   "source": [
    "# read in data from the csv files\n",
    "df_sample = pd.read_csv('sample_submission_load_shortfall (1).csv')\n",
    "df_train = pd.read_csv('df_train.csv')\n",
    "df_test = pd.read_csv('df_test.csv')"
   ]
  },
  {
   "cell_type": "code",
   "execution_count": 3,
   "metadata": {
    "execution": {
     "iopub.execute_input": "2022-05-11T07:15:46.315462Z",
     "iopub.status.busy": "2022-05-11T07:15:46.315102Z",
     "iopub.status.idle": "2022-05-11T07:15:46.337425Z",
     "shell.execute_reply": "2022-05-11T07:15:46.335984Z",
     "shell.execute_reply.started": "2022-05-11T07:15:46.315423Z"
    }
   },
   "outputs": [
    {
     "data": {
      "text/html": [
       "<div>\n",
       "<style scoped>\n",
       "    .dataframe tbody tr th:only-of-type {\n",
       "        vertical-align: middle;\n",
       "    }\n",
       "\n",
       "    .dataframe tbody tr th {\n",
       "        vertical-align: top;\n",
       "    }\n",
       "\n",
       "    .dataframe thead th {\n",
       "        text-align: right;\n",
       "    }\n",
       "</style>\n",
       "<table border=\"1\" class=\"dataframe\">\n",
       "  <thead>\n",
       "    <tr style=\"text-align: right;\">\n",
       "      <th></th>\n",
       "      <th>time</th>\n",
       "      <th>load_shortfall_3h</th>\n",
       "    </tr>\n",
       "  </thead>\n",
       "  <tbody>\n",
       "    <tr>\n",
       "      <th>0</th>\n",
       "      <td>2018-01-01 00:00:00</td>\n",
       "      <td>0</td>\n",
       "    </tr>\n",
       "    <tr>\n",
       "      <th>1</th>\n",
       "      <td>2018-01-01 03:00:00</td>\n",
       "      <td>1</td>\n",
       "    </tr>\n",
       "  </tbody>\n",
       "</table>\n",
       "</div>"
      ],
      "text/plain": [
       "                  time  load_shortfall_3h\n",
       "0  2018-01-01 00:00:00                  0\n",
       "1  2018-01-01 03:00:00                  1"
      ]
     },
     "execution_count": 3,
     "metadata": {},
     "output_type": "execute_result"
    }
   ],
   "source": [
    "# having a preview of how our sample data looks like\n",
    "df_sample.head(2)"
   ]
  },
  {
   "cell_type": "code",
   "execution_count": 4,
   "metadata": {
    "execution": {
     "iopub.execute_input": "2022-05-11T07:16:11.129382Z",
     "iopub.status.busy": "2022-05-11T07:16:11.129079Z",
     "iopub.status.idle": "2022-05-11T07:16:11.16325Z",
     "shell.execute_reply": "2022-05-11T07:16:11.162376Z",
     "shell.execute_reply.started": "2022-05-11T07:16:11.129349Z"
    }
   },
   "outputs": [
    {
     "data": {
      "text/html": [
       "<div>\n",
       "<style scoped>\n",
       "    .dataframe tbody tr th:only-of-type {\n",
       "        vertical-align: middle;\n",
       "    }\n",
       "\n",
       "    .dataframe tbody tr th {\n",
       "        vertical-align: top;\n",
       "    }\n",
       "\n",
       "    .dataframe thead th {\n",
       "        text-align: right;\n",
       "    }\n",
       "</style>\n",
       "<table border=\"1\" class=\"dataframe\">\n",
       "  <thead>\n",
       "    <tr style=\"text-align: right;\">\n",
       "      <th></th>\n",
       "      <th>Unnamed: 0</th>\n",
       "      <th>time</th>\n",
       "      <th>Madrid_wind_speed</th>\n",
       "      <th>Valencia_wind_deg</th>\n",
       "      <th>Bilbao_rain_1h</th>\n",
       "      <th>Valencia_wind_speed</th>\n",
       "      <th>Seville_humidity</th>\n",
       "      <th>Madrid_humidity</th>\n",
       "      <th>Bilbao_clouds_all</th>\n",
       "      <th>Bilbao_wind_speed</th>\n",
       "      <th>...</th>\n",
       "      <th>Madrid_temp_max</th>\n",
       "      <th>Barcelona_temp</th>\n",
       "      <th>Bilbao_temp_min</th>\n",
       "      <th>Bilbao_temp</th>\n",
       "      <th>Barcelona_temp_min</th>\n",
       "      <th>Bilbao_temp_max</th>\n",
       "      <th>Seville_temp_min</th>\n",
       "      <th>Madrid_temp</th>\n",
       "      <th>Madrid_temp_min</th>\n",
       "      <th>load_shortfall_3h</th>\n",
       "    </tr>\n",
       "  </thead>\n",
       "  <tbody>\n",
       "    <tr>\n",
       "      <th>0</th>\n",
       "      <td>0</td>\n",
       "      <td>2015-01-01 03:00:00</td>\n",
       "      <td>0.666667</td>\n",
       "      <td>level_5</td>\n",
       "      <td>0.0</td>\n",
       "      <td>0.666667</td>\n",
       "      <td>74.333333</td>\n",
       "      <td>64.000000</td>\n",
       "      <td>0.0</td>\n",
       "      <td>1.0</td>\n",
       "      <td>...</td>\n",
       "      <td>265.938000</td>\n",
       "      <td>281.013000</td>\n",
       "      <td>269.338615</td>\n",
       "      <td>269.338615</td>\n",
       "      <td>281.013000</td>\n",
       "      <td>269.338615</td>\n",
       "      <td>274.254667</td>\n",
       "      <td>265.938000</td>\n",
       "      <td>265.938000</td>\n",
       "      <td>6715.666667</td>\n",
       "    </tr>\n",
       "    <tr>\n",
       "      <th>1</th>\n",
       "      <td>1</td>\n",
       "      <td>2015-01-01 06:00:00</td>\n",
       "      <td>0.333333</td>\n",
       "      <td>level_10</td>\n",
       "      <td>0.0</td>\n",
       "      <td>1.666667</td>\n",
       "      <td>78.333333</td>\n",
       "      <td>64.666667</td>\n",
       "      <td>0.0</td>\n",
       "      <td>1.0</td>\n",
       "      <td>...</td>\n",
       "      <td>266.386667</td>\n",
       "      <td>280.561667</td>\n",
       "      <td>270.376000</td>\n",
       "      <td>270.376000</td>\n",
       "      <td>280.561667</td>\n",
       "      <td>270.376000</td>\n",
       "      <td>274.945000</td>\n",
       "      <td>266.386667</td>\n",
       "      <td>266.386667</td>\n",
       "      <td>4171.666667</td>\n",
       "    </tr>\n",
       "  </tbody>\n",
       "</table>\n",
       "<p>2 rows × 49 columns</p>\n",
       "</div>"
      ],
      "text/plain": [
       "   Unnamed: 0                 time  Madrid_wind_speed Valencia_wind_deg  \\\n",
       "0           0  2015-01-01 03:00:00           0.666667           level_5   \n",
       "1           1  2015-01-01 06:00:00           0.333333          level_10   \n",
       "\n",
       "   Bilbao_rain_1h  Valencia_wind_speed  Seville_humidity  Madrid_humidity  \\\n",
       "0             0.0             0.666667         74.333333        64.000000   \n",
       "1             0.0             1.666667         78.333333        64.666667   \n",
       "\n",
       "   Bilbao_clouds_all  Bilbao_wind_speed  ...  Madrid_temp_max  Barcelona_temp  \\\n",
       "0                0.0                1.0  ...       265.938000      281.013000   \n",
       "1                0.0                1.0  ...       266.386667      280.561667   \n",
       "\n",
       "   Bilbao_temp_min  Bilbao_temp  Barcelona_temp_min  Bilbao_temp_max  \\\n",
       "0       269.338615   269.338615          281.013000       269.338615   \n",
       "1       270.376000   270.376000          280.561667       270.376000   \n",
       "\n",
       "   Seville_temp_min Madrid_temp  Madrid_temp_min  load_shortfall_3h  \n",
       "0        274.254667  265.938000       265.938000        6715.666667  \n",
       "1        274.945000  266.386667       266.386667        4171.666667  \n",
       "\n",
       "[2 rows x 49 columns]"
      ]
     },
     "execution_count": 4,
     "metadata": {},
     "output_type": "execute_result"
    }
   ],
   "source": [
    "# having a preview of our train data\n",
    "df_train.head(2)"
   ]
  },
  {
   "cell_type": "code",
   "execution_count": 5,
   "metadata": {
    "execution": {
     "iopub.execute_input": "2022-05-11T07:16:34.275682Z",
     "iopub.status.busy": "2022-05-11T07:16:34.274515Z",
     "iopub.status.idle": "2022-05-11T07:16:34.303697Z",
     "shell.execute_reply": "2022-05-11T07:16:34.302868Z",
     "shell.execute_reply.started": "2022-05-11T07:16:34.275615Z"
    }
   },
   "outputs": [
    {
     "data": {
      "text/html": [
       "<div>\n",
       "<style scoped>\n",
       "    .dataframe tbody tr th:only-of-type {\n",
       "        vertical-align: middle;\n",
       "    }\n",
       "\n",
       "    .dataframe tbody tr th {\n",
       "        vertical-align: top;\n",
       "    }\n",
       "\n",
       "    .dataframe thead th {\n",
       "        text-align: right;\n",
       "    }\n",
       "</style>\n",
       "<table border=\"1\" class=\"dataframe\">\n",
       "  <thead>\n",
       "    <tr style=\"text-align: right;\">\n",
       "      <th></th>\n",
       "      <th>Unnamed: 0</th>\n",
       "      <th>time</th>\n",
       "      <th>Madrid_wind_speed</th>\n",
       "      <th>Valencia_wind_deg</th>\n",
       "      <th>Bilbao_rain_1h</th>\n",
       "      <th>Valencia_wind_speed</th>\n",
       "      <th>Seville_humidity</th>\n",
       "      <th>Madrid_humidity</th>\n",
       "      <th>Bilbao_clouds_all</th>\n",
       "      <th>Bilbao_wind_speed</th>\n",
       "      <th>...</th>\n",
       "      <th>Barcelona_temp_max</th>\n",
       "      <th>Madrid_temp_max</th>\n",
       "      <th>Barcelona_temp</th>\n",
       "      <th>Bilbao_temp_min</th>\n",
       "      <th>Bilbao_temp</th>\n",
       "      <th>Barcelona_temp_min</th>\n",
       "      <th>Bilbao_temp_max</th>\n",
       "      <th>Seville_temp_min</th>\n",
       "      <th>Madrid_temp</th>\n",
       "      <th>Madrid_temp_min</th>\n",
       "    </tr>\n",
       "  </thead>\n",
       "  <tbody>\n",
       "    <tr>\n",
       "      <th>0</th>\n",
       "      <td>8763</td>\n",
       "      <td>2018-01-01 00:00:00</td>\n",
       "      <td>5.000000</td>\n",
       "      <td>level_8</td>\n",
       "      <td>0.0</td>\n",
       "      <td>5.000000</td>\n",
       "      <td>87.0</td>\n",
       "      <td>71.333333</td>\n",
       "      <td>20.0</td>\n",
       "      <td>3.000000</td>\n",
       "      <td>...</td>\n",
       "      <td>287.816667</td>\n",
       "      <td>280.816667</td>\n",
       "      <td>287.356667</td>\n",
       "      <td>276.150000</td>\n",
       "      <td>280.38</td>\n",
       "      <td>286.816667</td>\n",
       "      <td>285.15</td>\n",
       "      <td>283.15</td>\n",
       "      <td>279.866667</td>\n",
       "      <td>279.15</td>\n",
       "    </tr>\n",
       "    <tr>\n",
       "      <th>1</th>\n",
       "      <td>8764</td>\n",
       "      <td>2018-01-01 03:00:00</td>\n",
       "      <td>4.666667</td>\n",
       "      <td>level_8</td>\n",
       "      <td>0.0</td>\n",
       "      <td>5.333333</td>\n",
       "      <td>89.0</td>\n",
       "      <td>78.000000</td>\n",
       "      <td>0.0</td>\n",
       "      <td>3.666667</td>\n",
       "      <td>...</td>\n",
       "      <td>284.816667</td>\n",
       "      <td>280.483333</td>\n",
       "      <td>284.190000</td>\n",
       "      <td>277.816667</td>\n",
       "      <td>281.01</td>\n",
       "      <td>283.483333</td>\n",
       "      <td>284.15</td>\n",
       "      <td>281.15</td>\n",
       "      <td>279.193333</td>\n",
       "      <td>278.15</td>\n",
       "    </tr>\n",
       "  </tbody>\n",
       "</table>\n",
       "<p>2 rows × 48 columns</p>\n",
       "</div>"
      ],
      "text/plain": [
       "   Unnamed: 0                 time  Madrid_wind_speed Valencia_wind_deg  \\\n",
       "0        8763  2018-01-01 00:00:00           5.000000           level_8   \n",
       "1        8764  2018-01-01 03:00:00           4.666667           level_8   \n",
       "\n",
       "   Bilbao_rain_1h  Valencia_wind_speed  Seville_humidity  Madrid_humidity  \\\n",
       "0             0.0             5.000000              87.0        71.333333   \n",
       "1             0.0             5.333333              89.0        78.000000   \n",
       "\n",
       "   Bilbao_clouds_all  Bilbao_wind_speed  ...  Barcelona_temp_max  \\\n",
       "0               20.0           3.000000  ...          287.816667   \n",
       "1                0.0           3.666667  ...          284.816667   \n",
       "\n",
       "   Madrid_temp_max  Barcelona_temp  Bilbao_temp_min  Bilbao_temp  \\\n",
       "0       280.816667      287.356667       276.150000       280.38   \n",
       "1       280.483333      284.190000       277.816667       281.01   \n",
       "\n",
       "   Barcelona_temp_min  Bilbao_temp_max Seville_temp_min  Madrid_temp  \\\n",
       "0          286.816667           285.15           283.15   279.866667   \n",
       "1          283.483333           284.15           281.15   279.193333   \n",
       "\n",
       "   Madrid_temp_min  \n",
       "0           279.15  \n",
       "1           278.15  \n",
       "\n",
       "[2 rows x 48 columns]"
      ]
     },
     "execution_count": 5,
     "metadata": {},
     "output_type": "execute_result"
    }
   ],
   "source": [
    "# Preview of our test data\n",
    "df_test.head(2)"
   ]
  },
  {
   "cell_type": "code",
   "execution_count": 6,
   "metadata": {
    "execution": {
     "iopub.execute_input": "2022-05-11T07:16:44.733053Z",
     "iopub.status.busy": "2022-05-11T07:16:44.732756Z",
     "iopub.status.idle": "2022-05-11T07:16:44.742978Z",
     "shell.execute_reply": "2022-05-11T07:16:44.741731Z",
     "shell.execute_reply.started": "2022-05-11T07:16:44.733021Z"
    }
   },
   "outputs": [
    {
     "data": {
      "text/plain": [
       "Index(['Unnamed: 0', 'time', 'Madrid_wind_speed', 'Valencia_wind_deg',\n",
       "       'Bilbao_rain_1h', 'Valencia_wind_speed', 'Seville_humidity',\n",
       "       'Madrid_humidity', 'Bilbao_clouds_all', 'Bilbao_wind_speed',\n",
       "       'Seville_clouds_all', 'Bilbao_wind_deg', 'Barcelona_wind_speed',\n",
       "       'Barcelona_wind_deg', 'Madrid_clouds_all', 'Seville_wind_speed',\n",
       "       'Barcelona_rain_1h', 'Seville_pressure', 'Seville_rain_1h',\n",
       "       'Bilbao_snow_3h', 'Barcelona_pressure', 'Seville_rain_3h',\n",
       "       'Madrid_rain_1h', 'Barcelona_rain_3h', 'Valencia_snow_3h',\n",
       "       'Madrid_weather_id', 'Barcelona_weather_id', 'Bilbao_pressure',\n",
       "       'Seville_weather_id', 'Valencia_pressure', 'Seville_temp_max',\n",
       "       'Madrid_pressure', 'Valencia_temp_max', 'Valencia_temp',\n",
       "       'Bilbao_weather_id', 'Seville_temp', 'Valencia_humidity',\n",
       "       'Valencia_temp_min', 'Barcelona_temp_max', 'Madrid_temp_max',\n",
       "       'Barcelona_temp', 'Bilbao_temp_min', 'Bilbao_temp',\n",
       "       'Barcelona_temp_min', 'Bilbao_temp_max', 'Seville_temp_min',\n",
       "       'Madrid_temp', 'Madrid_temp_min', 'load_shortfall_3h'],\n",
       "      dtype='object')"
      ]
     },
     "execution_count": 6,
     "metadata": {},
     "output_type": "execute_result"
    }
   ],
   "source": [
    "# print out column names of train set\n",
    "df_train.columns"
   ]
  },
  {
   "cell_type": "code",
   "execution_count": 7,
   "metadata": {
    "execution": {
     "iopub.execute_input": "2022-05-11T07:16:53.099441Z",
     "iopub.status.busy": "2022-05-11T07:16:53.099141Z",
     "iopub.status.idle": "2022-05-11T07:16:53.260952Z",
     "shell.execute_reply": "2022-05-11T07:16:53.260316Z",
     "shell.execute_reply.started": "2022-05-11T07:16:53.099412Z"
    }
   },
   "outputs": [
    {
     "data": {
      "text/html": [
       "<div>\n",
       "<style scoped>\n",
       "    .dataframe tbody tr th:only-of-type {\n",
       "        vertical-align: middle;\n",
       "    }\n",
       "\n",
       "    .dataframe tbody tr th {\n",
       "        vertical-align: top;\n",
       "    }\n",
       "\n",
       "    .dataframe thead th {\n",
       "        text-align: right;\n",
       "    }\n",
       "</style>\n",
       "<table border=\"1\" class=\"dataframe\">\n",
       "  <thead>\n",
       "    <tr style=\"text-align: right;\">\n",
       "      <th></th>\n",
       "      <th>Unnamed: 0</th>\n",
       "      <th>Madrid_wind_speed</th>\n",
       "      <th>Bilbao_rain_1h</th>\n",
       "      <th>Valencia_wind_speed</th>\n",
       "      <th>Seville_humidity</th>\n",
       "      <th>Madrid_humidity</th>\n",
       "      <th>Bilbao_clouds_all</th>\n",
       "      <th>Bilbao_wind_speed</th>\n",
       "      <th>Seville_clouds_all</th>\n",
       "      <th>Bilbao_wind_deg</th>\n",
       "      <th>...</th>\n",
       "      <th>Madrid_temp_max</th>\n",
       "      <th>Barcelona_temp</th>\n",
       "      <th>Bilbao_temp_min</th>\n",
       "      <th>Bilbao_temp</th>\n",
       "      <th>Barcelona_temp_min</th>\n",
       "      <th>Bilbao_temp_max</th>\n",
       "      <th>Seville_temp_min</th>\n",
       "      <th>Madrid_temp</th>\n",
       "      <th>Madrid_temp_min</th>\n",
       "      <th>load_shortfall_3h</th>\n",
       "    </tr>\n",
       "  </thead>\n",
       "  <tbody>\n",
       "    <tr>\n",
       "      <th>count</th>\n",
       "      <td>8763.000000</td>\n",
       "      <td>8763.000000</td>\n",
       "      <td>8763.000000</td>\n",
       "      <td>8763.000000</td>\n",
       "      <td>8763.000000</td>\n",
       "      <td>8763.000000</td>\n",
       "      <td>8763.000000</td>\n",
       "      <td>8763.000000</td>\n",
       "      <td>8763.000000</td>\n",
       "      <td>8763.000000</td>\n",
       "      <td>...</td>\n",
       "      <td>8763.000000</td>\n",
       "      <td>8763.000000</td>\n",
       "      <td>8763.000000</td>\n",
       "      <td>8763.000000</td>\n",
       "      <td>8763.000000</td>\n",
       "      <td>8763.000000</td>\n",
       "      <td>8763.000000</td>\n",
       "      <td>8763.000000</td>\n",
       "      <td>8763.000000</td>\n",
       "      <td>8763.000000</td>\n",
       "    </tr>\n",
       "    <tr>\n",
       "      <th>mean</th>\n",
       "      <td>4381.000000</td>\n",
       "      <td>2.425729</td>\n",
       "      <td>0.135753</td>\n",
       "      <td>2.586272</td>\n",
       "      <td>62.658793</td>\n",
       "      <td>57.414717</td>\n",
       "      <td>43.469132</td>\n",
       "      <td>1.850356</td>\n",
       "      <td>13.714748</td>\n",
       "      <td>158.957511</td>\n",
       "      <td>...</td>\n",
       "      <td>289.540309</td>\n",
       "      <td>289.855459</td>\n",
       "      <td>285.017973</td>\n",
       "      <td>286.422929</td>\n",
       "      <td>288.447422</td>\n",
       "      <td>287.966027</td>\n",
       "      <td>291.633356</td>\n",
       "      <td>288.419439</td>\n",
       "      <td>287.202203</td>\n",
       "      <td>10673.857612</td>\n",
       "    </tr>\n",
       "    <tr>\n",
       "      <th>std</th>\n",
       "      <td>2529.804538</td>\n",
       "      <td>1.850371</td>\n",
       "      <td>0.374901</td>\n",
       "      <td>2.411190</td>\n",
       "      <td>22.621226</td>\n",
       "      <td>24.335396</td>\n",
       "      <td>32.551044</td>\n",
       "      <td>1.695888</td>\n",
       "      <td>24.272482</td>\n",
       "      <td>102.056299</td>\n",
       "      <td>...</td>\n",
       "      <td>9.752047</td>\n",
       "      <td>6.528111</td>\n",
       "      <td>6.705672</td>\n",
       "      <td>6.818682</td>\n",
       "      <td>6.102593</td>\n",
       "      <td>7.105590</td>\n",
       "      <td>8.178220</td>\n",
       "      <td>9.346796</td>\n",
       "      <td>9.206237</td>\n",
       "      <td>5218.046404</td>\n",
       "    </tr>\n",
       "    <tr>\n",
       "      <th>min</th>\n",
       "      <td>0.000000</td>\n",
       "      <td>0.000000</td>\n",
       "      <td>0.000000</td>\n",
       "      <td>0.000000</td>\n",
       "      <td>8.333333</td>\n",
       "      <td>6.333333</td>\n",
       "      <td>0.000000</td>\n",
       "      <td>0.000000</td>\n",
       "      <td>0.000000</td>\n",
       "      <td>0.000000</td>\n",
       "      <td>...</td>\n",
       "      <td>264.983333</td>\n",
       "      <td>270.816667</td>\n",
       "      <td>264.483333</td>\n",
       "      <td>267.483333</td>\n",
       "      <td>269.483333</td>\n",
       "      <td>269.063000</td>\n",
       "      <td>270.150000</td>\n",
       "      <td>264.983333</td>\n",
       "      <td>264.983333</td>\n",
       "      <td>-6618.000000</td>\n",
       "    </tr>\n",
       "    <tr>\n",
       "      <th>25%</th>\n",
       "      <td>2190.500000</td>\n",
       "      <td>1.000000</td>\n",
       "      <td>0.000000</td>\n",
       "      <td>1.000000</td>\n",
       "      <td>44.333333</td>\n",
       "      <td>36.333333</td>\n",
       "      <td>10.000000</td>\n",
       "      <td>0.666667</td>\n",
       "      <td>0.000000</td>\n",
       "      <td>73.333333</td>\n",
       "      <td>...</td>\n",
       "      <td>282.150000</td>\n",
       "      <td>284.973443</td>\n",
       "      <td>280.085167</td>\n",
       "      <td>281.374167</td>\n",
       "      <td>284.150000</td>\n",
       "      <td>282.836776</td>\n",
       "      <td>285.816667</td>\n",
       "      <td>281.404281</td>\n",
       "      <td>280.299167</td>\n",
       "      <td>7390.333333</td>\n",
       "    </tr>\n",
       "    <tr>\n",
       "      <th>50%</th>\n",
       "      <td>4381.000000</td>\n",
       "      <td>2.000000</td>\n",
       "      <td>0.000000</td>\n",
       "      <td>1.666667</td>\n",
       "      <td>65.666667</td>\n",
       "      <td>58.000000</td>\n",
       "      <td>45.000000</td>\n",
       "      <td>1.000000</td>\n",
       "      <td>0.000000</td>\n",
       "      <td>147.000000</td>\n",
       "      <td>...</td>\n",
       "      <td>288.116177</td>\n",
       "      <td>289.416667</td>\n",
       "      <td>284.816667</td>\n",
       "      <td>286.158333</td>\n",
       "      <td>288.150000</td>\n",
       "      <td>287.630000</td>\n",
       "      <td>290.816667</td>\n",
       "      <td>287.053333</td>\n",
       "      <td>286.083333</td>\n",
       "      <td>11114.666667</td>\n",
       "    </tr>\n",
       "    <tr>\n",
       "      <th>75%</th>\n",
       "      <td>6571.500000</td>\n",
       "      <td>3.333333</td>\n",
       "      <td>0.100000</td>\n",
       "      <td>3.666667</td>\n",
       "      <td>82.000000</td>\n",
       "      <td>78.666667</td>\n",
       "      <td>75.000000</td>\n",
       "      <td>2.666667</td>\n",
       "      <td>20.000000</td>\n",
       "      <td>234.000000</td>\n",
       "      <td>...</td>\n",
       "      <td>296.816667</td>\n",
       "      <td>294.909000</td>\n",
       "      <td>289.816667</td>\n",
       "      <td>291.034167</td>\n",
       "      <td>292.966667</td>\n",
       "      <td>292.483333</td>\n",
       "      <td>297.150000</td>\n",
       "      <td>295.154667</td>\n",
       "      <td>293.884500</td>\n",
       "      <td>14498.166667</td>\n",
       "    </tr>\n",
       "    <tr>\n",
       "      <th>max</th>\n",
       "      <td>8762.000000</td>\n",
       "      <td>13.000000</td>\n",
       "      <td>3.000000</td>\n",
       "      <td>52.000000</td>\n",
       "      <td>100.000000</td>\n",
       "      <td>100.000000</td>\n",
       "      <td>100.000000</td>\n",
       "      <td>12.666667</td>\n",
       "      <td>97.333333</td>\n",
       "      <td>359.333333</td>\n",
       "      <td>...</td>\n",
       "      <td>314.483333</td>\n",
       "      <td>307.316667</td>\n",
       "      <td>309.816667</td>\n",
       "      <td>310.710000</td>\n",
       "      <td>304.816667</td>\n",
       "      <td>317.966667</td>\n",
       "      <td>314.816667</td>\n",
       "      <td>313.133333</td>\n",
       "      <td>310.383333</td>\n",
       "      <td>31904.000000</td>\n",
       "    </tr>\n",
       "  </tbody>\n",
       "</table>\n",
       "<p>8 rows × 46 columns</p>\n",
       "</div>"
      ],
      "text/plain": [
       "        Unnamed: 0  Madrid_wind_speed  Bilbao_rain_1h  Valencia_wind_speed  \\\n",
       "count  8763.000000        8763.000000     8763.000000          8763.000000   \n",
       "mean   4381.000000           2.425729        0.135753             2.586272   \n",
       "std    2529.804538           1.850371        0.374901             2.411190   \n",
       "min       0.000000           0.000000        0.000000             0.000000   \n",
       "25%    2190.500000           1.000000        0.000000             1.000000   \n",
       "50%    4381.000000           2.000000        0.000000             1.666667   \n",
       "75%    6571.500000           3.333333        0.100000             3.666667   \n",
       "max    8762.000000          13.000000        3.000000            52.000000   \n",
       "\n",
       "       Seville_humidity  Madrid_humidity  Bilbao_clouds_all  \\\n",
       "count       8763.000000      8763.000000        8763.000000   \n",
       "mean          62.658793        57.414717          43.469132   \n",
       "std           22.621226        24.335396          32.551044   \n",
       "min            8.333333         6.333333           0.000000   \n",
       "25%           44.333333        36.333333          10.000000   \n",
       "50%           65.666667        58.000000          45.000000   \n",
       "75%           82.000000        78.666667          75.000000   \n",
       "max          100.000000       100.000000         100.000000   \n",
       "\n",
       "       Bilbao_wind_speed  Seville_clouds_all  Bilbao_wind_deg  ...  \\\n",
       "count        8763.000000         8763.000000      8763.000000  ...   \n",
       "mean            1.850356           13.714748       158.957511  ...   \n",
       "std             1.695888           24.272482       102.056299  ...   \n",
       "min             0.000000            0.000000         0.000000  ...   \n",
       "25%             0.666667            0.000000        73.333333  ...   \n",
       "50%             1.000000            0.000000       147.000000  ...   \n",
       "75%             2.666667           20.000000       234.000000  ...   \n",
       "max            12.666667           97.333333       359.333333  ...   \n",
       "\n",
       "       Madrid_temp_max  Barcelona_temp  Bilbao_temp_min  Bilbao_temp  \\\n",
       "count      8763.000000     8763.000000      8763.000000  8763.000000   \n",
       "mean        289.540309      289.855459       285.017973   286.422929   \n",
       "std           9.752047        6.528111         6.705672     6.818682   \n",
       "min         264.983333      270.816667       264.483333   267.483333   \n",
       "25%         282.150000      284.973443       280.085167   281.374167   \n",
       "50%         288.116177      289.416667       284.816667   286.158333   \n",
       "75%         296.816667      294.909000       289.816667   291.034167   \n",
       "max         314.483333      307.316667       309.816667   310.710000   \n",
       "\n",
       "       Barcelona_temp_min  Bilbao_temp_max  Seville_temp_min  Madrid_temp  \\\n",
       "count         8763.000000      8763.000000       8763.000000  8763.000000   \n",
       "mean           288.447422       287.966027        291.633356   288.419439   \n",
       "std              6.102593         7.105590          8.178220     9.346796   \n",
       "min            269.483333       269.063000        270.150000   264.983333   \n",
       "25%            284.150000       282.836776        285.816667   281.404281   \n",
       "50%            288.150000       287.630000        290.816667   287.053333   \n",
       "75%            292.966667       292.483333        297.150000   295.154667   \n",
       "max            304.816667       317.966667        314.816667   313.133333   \n",
       "\n",
       "       Madrid_temp_min  load_shortfall_3h  \n",
       "count      8763.000000        8763.000000  \n",
       "mean        287.202203       10673.857612  \n",
       "std           9.206237        5218.046404  \n",
       "min         264.983333       -6618.000000  \n",
       "25%         280.299167        7390.333333  \n",
       "50%         286.083333       11114.666667  \n",
       "75%         293.884500       14498.166667  \n",
       "max         310.383333       31904.000000  \n",
       "\n",
       "[8 rows x 46 columns]"
      ]
     },
     "execution_count": 7,
     "metadata": {},
     "output_type": "execute_result"
    }
   ],
   "source": [
    "# print out statistical details on the train dataset columns\n",
    "df_train.describe()"
   ]
  },
  {
   "cell_type": "code",
   "execution_count": 8,
   "metadata": {
    "execution": {
     "iopub.execute_input": "2022-05-11T07:17:14.003522Z",
     "iopub.status.busy": "2022-05-11T07:17:14.003002Z",
     "iopub.status.idle": "2022-05-11T07:17:14.020231Z",
     "shell.execute_reply": "2022-05-11T07:17:14.019066Z",
     "shell.execute_reply.started": "2022-05-11T07:17:14.00348Z"
    }
   },
   "outputs": [
    {
     "data": {
      "text/plain": [
       "Unnamed: 0                 0\n",
       "time                       0\n",
       "Madrid_wind_speed          0\n",
       "Valencia_wind_deg          0\n",
       "Bilbao_rain_1h             0\n",
       "Valencia_wind_speed        0\n",
       "Seville_humidity           0\n",
       "Madrid_humidity            0\n",
       "Bilbao_clouds_all          0\n",
       "Bilbao_wind_speed          0\n",
       "Seville_clouds_all         0\n",
       "Bilbao_wind_deg            0\n",
       "Barcelona_wind_speed       0\n",
       "Barcelona_wind_deg         0\n",
       "Madrid_clouds_all          0\n",
       "Seville_wind_speed         0\n",
       "Barcelona_rain_1h          0\n",
       "Seville_pressure           0\n",
       "Seville_rain_1h            0\n",
       "Bilbao_snow_3h             0\n",
       "Barcelona_pressure         0\n",
       "Seville_rain_3h            0\n",
       "Madrid_rain_1h             0\n",
       "Barcelona_rain_3h          0\n",
       "Valencia_snow_3h           0\n",
       "Madrid_weather_id          0\n",
       "Barcelona_weather_id       0\n",
       "Bilbao_pressure            0\n",
       "Seville_weather_id         0\n",
       "Valencia_pressure       2068\n",
       "Seville_temp_max           0\n",
       "Madrid_pressure            0\n",
       "Valencia_temp_max          0\n",
       "Valencia_temp              0\n",
       "Bilbao_weather_id          0\n",
       "Seville_temp               0\n",
       "Valencia_humidity          0\n",
       "Valencia_temp_min          0\n",
       "Barcelona_temp_max         0\n",
       "Madrid_temp_max            0\n",
       "Barcelona_temp             0\n",
       "Bilbao_temp_min            0\n",
       "Bilbao_temp                0\n",
       "Barcelona_temp_min         0\n",
       "Bilbao_temp_max            0\n",
       "Seville_temp_min           0\n",
       "Madrid_temp                0\n",
       "Madrid_temp_min            0\n",
       "load_shortfall_3h          0\n",
       "dtype: int64"
      ]
     },
     "execution_count": 8,
     "metadata": {},
     "output_type": "execute_result"
    }
   ],
   "source": [
    "# check for nulls in each column\n",
    "df_train.isnull().sum()"
   ]
  },
  {
   "cell_type": "code",
   "execution_count": 9,
   "metadata": {
    "execution": {
     "iopub.execute_input": "2022-05-11T07:18:40.803053Z",
     "iopub.status.busy": "2022-05-11T07:18:40.802661Z",
     "iopub.status.idle": "2022-05-11T07:18:40.84924Z",
     "shell.execute_reply": "2022-05-11T07:18:40.848281Z",
     "shell.execute_reply.started": "2022-05-11T07:18:40.803019Z"
    }
   },
   "outputs": [
    {
     "data": {
      "text/html": [
       "<div>\n",
       "<style scoped>\n",
       "    .dataframe tbody tr th:only-of-type {\n",
       "        vertical-align: middle;\n",
       "    }\n",
       "\n",
       "    .dataframe tbody tr th {\n",
       "        vertical-align: top;\n",
       "    }\n",
       "\n",
       "    .dataframe thead th {\n",
       "        text-align: right;\n",
       "    }\n",
       "</style>\n",
       "<table border=\"1\" class=\"dataframe\">\n",
       "  <thead>\n",
       "    <tr style=\"text-align: right;\">\n",
       "      <th></th>\n",
       "      <th>Unnamed: 0</th>\n",
       "      <th>time</th>\n",
       "      <th>Madrid_wind_speed</th>\n",
       "      <th>Valencia_wind_deg</th>\n",
       "      <th>Bilbao_rain_1h</th>\n",
       "      <th>Valencia_wind_speed</th>\n",
       "      <th>Seville_humidity</th>\n",
       "      <th>Madrid_humidity</th>\n",
       "      <th>Bilbao_clouds_all</th>\n",
       "      <th>Bilbao_wind_speed</th>\n",
       "      <th>...</th>\n",
       "      <th>Madrid_temp_max</th>\n",
       "      <th>Barcelona_temp</th>\n",
       "      <th>Bilbao_temp_min</th>\n",
       "      <th>Bilbao_temp</th>\n",
       "      <th>Barcelona_temp_min</th>\n",
       "      <th>Bilbao_temp_max</th>\n",
       "      <th>Seville_temp_min</th>\n",
       "      <th>Madrid_temp</th>\n",
       "      <th>Madrid_temp_min</th>\n",
       "      <th>load_shortfall_3h</th>\n",
       "    </tr>\n",
       "  </thead>\n",
       "  <tbody>\n",
       "    <tr>\n",
       "      <th>0</th>\n",
       "      <td>0</td>\n",
       "      <td>2015-01-01 03:00:00</td>\n",
       "      <td>0.666667</td>\n",
       "      <td>level_5</td>\n",
       "      <td>0.0</td>\n",
       "      <td>0.666667</td>\n",
       "      <td>74.333333</td>\n",
       "      <td>64.000000</td>\n",
       "      <td>0.0</td>\n",
       "      <td>1.000000</td>\n",
       "      <td>...</td>\n",
       "      <td>265.938000</td>\n",
       "      <td>281.013000</td>\n",
       "      <td>269.338615</td>\n",
       "      <td>269.338615</td>\n",
       "      <td>281.013000</td>\n",
       "      <td>269.338615</td>\n",
       "      <td>274.254667</td>\n",
       "      <td>265.938000</td>\n",
       "      <td>265.938000</td>\n",
       "      <td>6715.666667</td>\n",
       "    </tr>\n",
       "    <tr>\n",
       "      <th>1</th>\n",
       "      <td>1</td>\n",
       "      <td>2015-01-01 06:00:00</td>\n",
       "      <td>0.333333</td>\n",
       "      <td>level_10</td>\n",
       "      <td>0.0</td>\n",
       "      <td>1.666667</td>\n",
       "      <td>78.333333</td>\n",
       "      <td>64.666667</td>\n",
       "      <td>0.0</td>\n",
       "      <td>1.000000</td>\n",
       "      <td>...</td>\n",
       "      <td>266.386667</td>\n",
       "      <td>280.561667</td>\n",
       "      <td>270.376000</td>\n",
       "      <td>270.376000</td>\n",
       "      <td>280.561667</td>\n",
       "      <td>270.376000</td>\n",
       "      <td>274.945000</td>\n",
       "      <td>266.386667</td>\n",
       "      <td>266.386667</td>\n",
       "      <td>4171.666667</td>\n",
       "    </tr>\n",
       "    <tr>\n",
       "      <th>2</th>\n",
       "      <td>2</td>\n",
       "      <td>2015-01-01 09:00:00</td>\n",
       "      <td>1.000000</td>\n",
       "      <td>level_9</td>\n",
       "      <td>0.0</td>\n",
       "      <td>1.000000</td>\n",
       "      <td>71.333333</td>\n",
       "      <td>64.333333</td>\n",
       "      <td>0.0</td>\n",
       "      <td>1.000000</td>\n",
       "      <td>...</td>\n",
       "      <td>272.708667</td>\n",
       "      <td>281.583667</td>\n",
       "      <td>275.027229</td>\n",
       "      <td>275.027229</td>\n",
       "      <td>281.583667</td>\n",
       "      <td>275.027229</td>\n",
       "      <td>278.792000</td>\n",
       "      <td>272.708667</td>\n",
       "      <td>272.708667</td>\n",
       "      <td>4274.666667</td>\n",
       "    </tr>\n",
       "    <tr>\n",
       "      <th>3</th>\n",
       "      <td>3</td>\n",
       "      <td>2015-01-01 12:00:00</td>\n",
       "      <td>1.000000</td>\n",
       "      <td>level_8</td>\n",
       "      <td>0.0</td>\n",
       "      <td>1.000000</td>\n",
       "      <td>65.333333</td>\n",
       "      <td>56.333333</td>\n",
       "      <td>0.0</td>\n",
       "      <td>1.000000</td>\n",
       "      <td>...</td>\n",
       "      <td>281.895219</td>\n",
       "      <td>283.434104</td>\n",
       "      <td>281.135063</td>\n",
       "      <td>281.135063</td>\n",
       "      <td>283.434104</td>\n",
       "      <td>281.135063</td>\n",
       "      <td>285.394000</td>\n",
       "      <td>281.895219</td>\n",
       "      <td>281.895219</td>\n",
       "      <td>5075.666667</td>\n",
       "    </tr>\n",
       "    <tr>\n",
       "      <th>4</th>\n",
       "      <td>4</td>\n",
       "      <td>2015-01-01 15:00:00</td>\n",
       "      <td>1.000000</td>\n",
       "      <td>level_7</td>\n",
       "      <td>0.0</td>\n",
       "      <td>1.000000</td>\n",
       "      <td>59.000000</td>\n",
       "      <td>57.000000</td>\n",
       "      <td>2.0</td>\n",
       "      <td>0.333333</td>\n",
       "      <td>...</td>\n",
       "      <td>280.678437</td>\n",
       "      <td>284.213167</td>\n",
       "      <td>282.252063</td>\n",
       "      <td>282.252063</td>\n",
       "      <td>284.213167</td>\n",
       "      <td>282.252063</td>\n",
       "      <td>285.513719</td>\n",
       "      <td>280.678437</td>\n",
       "      <td>280.678437</td>\n",
       "      <td>6620.666667</td>\n",
       "    </tr>\n",
       "  </tbody>\n",
       "</table>\n",
       "<p>5 rows × 49 columns</p>\n",
       "</div>"
      ],
      "text/plain": [
       "   Unnamed: 0                 time  Madrid_wind_speed Valencia_wind_deg  \\\n",
       "0           0  2015-01-01 03:00:00           0.666667           level_5   \n",
       "1           1  2015-01-01 06:00:00           0.333333          level_10   \n",
       "2           2  2015-01-01 09:00:00           1.000000           level_9   \n",
       "3           3  2015-01-01 12:00:00           1.000000           level_8   \n",
       "4           4  2015-01-01 15:00:00           1.000000           level_7   \n",
       "\n",
       "   Bilbao_rain_1h  Valencia_wind_speed  Seville_humidity  Madrid_humidity  \\\n",
       "0             0.0             0.666667         74.333333        64.000000   \n",
       "1             0.0             1.666667         78.333333        64.666667   \n",
       "2             0.0             1.000000         71.333333        64.333333   \n",
       "3             0.0             1.000000         65.333333        56.333333   \n",
       "4             0.0             1.000000         59.000000        57.000000   \n",
       "\n",
       "   Bilbao_clouds_all  Bilbao_wind_speed  ...  Madrid_temp_max  Barcelona_temp  \\\n",
       "0                0.0           1.000000  ...       265.938000      281.013000   \n",
       "1                0.0           1.000000  ...       266.386667      280.561667   \n",
       "2                0.0           1.000000  ...       272.708667      281.583667   \n",
       "3                0.0           1.000000  ...       281.895219      283.434104   \n",
       "4                2.0           0.333333  ...       280.678437      284.213167   \n",
       "\n",
       "   Bilbao_temp_min  Bilbao_temp  Barcelona_temp_min  Bilbao_temp_max  \\\n",
       "0       269.338615   269.338615          281.013000       269.338615   \n",
       "1       270.376000   270.376000          280.561667       270.376000   \n",
       "2       275.027229   275.027229          281.583667       275.027229   \n",
       "3       281.135063   281.135063          283.434104       281.135063   \n",
       "4       282.252063   282.252063          284.213167       282.252063   \n",
       "\n",
       "   Seville_temp_min Madrid_temp  Madrid_temp_min  load_shortfall_3h  \n",
       "0        274.254667  265.938000       265.938000        6715.666667  \n",
       "1        274.945000  266.386667       266.386667        4171.666667  \n",
       "2        278.792000  272.708667       272.708667        4274.666667  \n",
       "3        285.394000  281.895219       281.895219        5075.666667  \n",
       "4        285.513719  280.678437       280.678437        6620.666667  \n",
       "\n",
       "[5 rows x 49 columns]"
      ]
     },
     "execution_count": 9,
     "metadata": {},
     "output_type": "execute_result"
    }
   ],
   "source": [
    "# combine the test and train datasets to make data processing easier\n",
    "df = pd.concat([df_train, df_test])\n",
    "df.head()"
   ]
  },
  {
   "cell_type": "code",
   "execution_count": 10,
   "metadata": {
    "execution": {
     "iopub.execute_input": "2022-05-11T07:18:48.579944Z",
     "iopub.status.busy": "2022-05-11T07:18:48.579614Z",
     "iopub.status.idle": "2022-05-11T07:18:48.586633Z",
     "shell.execute_reply": "2022-05-11T07:18:48.585784Z",
     "shell.execute_reply.started": "2022-05-11T07:18:48.579911Z"
    }
   },
   "outputs": [
    {
     "data": {
      "text/plain": [
       "(11683, 49)"
      ]
     },
     "execution_count": 10,
     "metadata": {},
     "output_type": "execute_result"
    }
   ],
   "source": [
    "# check the shape of the new data set\n",
    "df.shape"
   ]
  },
  {
   "cell_type": "code",
   "execution_count": 11,
   "metadata": {
    "execution": {
     "iopub.execute_input": "2022-05-11T07:18:54.569707Z",
     "iopub.status.busy": "2022-05-11T07:18:54.569149Z",
     "iopub.status.idle": "2022-05-11T07:18:54.598075Z",
     "shell.execute_reply": "2022-05-11T07:18:54.597364Z",
     "shell.execute_reply.started": "2022-05-11T07:18:54.569655Z"
    }
   },
   "outputs": [
    {
     "data": {
      "text/html": [
       "<div>\n",
       "<style scoped>\n",
       "    .dataframe tbody tr th:only-of-type {\n",
       "        vertical-align: middle;\n",
       "    }\n",
       "\n",
       "    .dataframe tbody tr th {\n",
       "        vertical-align: top;\n",
       "    }\n",
       "\n",
       "    .dataframe thead th {\n",
       "        text-align: right;\n",
       "    }\n",
       "</style>\n",
       "<table border=\"1\" class=\"dataframe\">\n",
       "  <thead>\n",
       "    <tr style=\"text-align: right;\">\n",
       "      <th></th>\n",
       "      <th>Unnamed: 0</th>\n",
       "      <th>time</th>\n",
       "      <th>Madrid_wind_speed</th>\n",
       "      <th>Valencia_wind_deg</th>\n",
       "      <th>Bilbao_rain_1h</th>\n",
       "      <th>Valencia_wind_speed</th>\n",
       "      <th>Seville_humidity</th>\n",
       "      <th>Madrid_humidity</th>\n",
       "      <th>Bilbao_clouds_all</th>\n",
       "      <th>Bilbao_wind_speed</th>\n",
       "      <th>...</th>\n",
       "      <th>Madrid_temp_max</th>\n",
       "      <th>Barcelona_temp</th>\n",
       "      <th>Bilbao_temp_min</th>\n",
       "      <th>Bilbao_temp</th>\n",
       "      <th>Barcelona_temp_min</th>\n",
       "      <th>Bilbao_temp_max</th>\n",
       "      <th>Seville_temp_min</th>\n",
       "      <th>Madrid_temp</th>\n",
       "      <th>Madrid_temp_min</th>\n",
       "      <th>load_shortfall_3h</th>\n",
       "    </tr>\n",
       "  </thead>\n",
       "  <tbody>\n",
       "    <tr>\n",
       "      <th>2915</th>\n",
       "      <td>11678</td>\n",
       "      <td>2018-12-31 09:00:00</td>\n",
       "      <td>0.333333</td>\n",
       "      <td>level_9</td>\n",
       "      <td>0.0</td>\n",
       "      <td>2.000000</td>\n",
       "      <td>81.666667</td>\n",
       "      <td>49.666667</td>\n",
       "      <td>80.000000</td>\n",
       "      <td>1.333333</td>\n",
       "      <td>...</td>\n",
       "      <td>281.483333</td>\n",
       "      <td>278.140000</td>\n",
       "      <td>270.816667</td>\n",
       "      <td>273.210000</td>\n",
       "      <td>276.483333</td>\n",
       "      <td>276.150000</td>\n",
       "      <td>279.816667</td>\n",
       "      <td>274.910000</td>\n",
       "      <td>271.150000</td>\n",
       "      <td>NaN</td>\n",
       "    </tr>\n",
       "    <tr>\n",
       "      <th>2916</th>\n",
       "      <td>11679</td>\n",
       "      <td>2018-12-31 12:00:00</td>\n",
       "      <td>0.333333</td>\n",
       "      <td>level_8</td>\n",
       "      <td>0.0</td>\n",
       "      <td>1.333333</td>\n",
       "      <td>61.000000</td>\n",
       "      <td>28.333333</td>\n",
       "      <td>56.666667</td>\n",
       "      <td>1.000000</td>\n",
       "      <td>...</td>\n",
       "      <td>287.816667</td>\n",
       "      <td>286.150000</td>\n",
       "      <td>278.150000</td>\n",
       "      <td>278.443333</td>\n",
       "      <td>285.816667</td>\n",
       "      <td>278.816667</td>\n",
       "      <td>287.150000</td>\n",
       "      <td>283.156667</td>\n",
       "      <td>280.483333</td>\n",
       "      <td>NaN</td>\n",
       "    </tr>\n",
       "    <tr>\n",
       "      <th>2917</th>\n",
       "      <td>11680</td>\n",
       "      <td>2018-12-31 15:00:00</td>\n",
       "      <td>1.000000</td>\n",
       "      <td>level_6</td>\n",
       "      <td>0.0</td>\n",
       "      <td>3.000000</td>\n",
       "      <td>47.000000</td>\n",
       "      <td>26.333333</td>\n",
       "      <td>0.000000</td>\n",
       "      <td>0.666667</td>\n",
       "      <td>...</td>\n",
       "      <td>288.816667</td>\n",
       "      <td>288.820000</td>\n",
       "      <td>284.150000</td>\n",
       "      <td>285.073333</td>\n",
       "      <td>288.150000</td>\n",
       "      <td>285.816667</td>\n",
       "      <td>290.816667</td>\n",
       "      <td>287.733333</td>\n",
       "      <td>286.483333</td>\n",
       "      <td>NaN</td>\n",
       "    </tr>\n",
       "    <tr>\n",
       "      <th>2918</th>\n",
       "      <td>11681</td>\n",
       "      <td>2018-12-31 18:00:00</td>\n",
       "      <td>1.000000</td>\n",
       "      <td>level_6</td>\n",
       "      <td>0.0</td>\n",
       "      <td>2.000000</td>\n",
       "      <td>52.666667</td>\n",
       "      <td>56.666667</td>\n",
       "      <td>0.000000</td>\n",
       "      <td>0.666667</td>\n",
       "      <td>...</td>\n",
       "      <td>285.150000</td>\n",
       "      <td>284.473333</td>\n",
       "      <td>280.150000</td>\n",
       "      <td>281.626667</td>\n",
       "      <td>283.150000</td>\n",
       "      <td>282.816667</td>\n",
       "      <td>287.483333</td>\n",
       "      <td>283.813333</td>\n",
       "      <td>282.150000</td>\n",
       "      <td>NaN</td>\n",
       "    </tr>\n",
       "    <tr>\n",
       "      <th>2919</th>\n",
       "      <td>11682</td>\n",
       "      <td>2018-12-31 21:00:00</td>\n",
       "      <td>1.333333</td>\n",
       "      <td>level_10</td>\n",
       "      <td>0.0</td>\n",
       "      <td>2.333333</td>\n",
       "      <td>61.666667</td>\n",
       "      <td>69.333333</td>\n",
       "      <td>0.000000</td>\n",
       "      <td>1.333333</td>\n",
       "      <td>...</td>\n",
       "      <td>276.816667</td>\n",
       "      <td>281.133333</td>\n",
       "      <td>276.150000</td>\n",
       "      <td>276.450000</td>\n",
       "      <td>278.483333</td>\n",
       "      <td>276.816667</td>\n",
       "      <td>283.816667</td>\n",
       "      <td>276.623333</td>\n",
       "      <td>276.483333</td>\n",
       "      <td>NaN</td>\n",
       "    </tr>\n",
       "  </tbody>\n",
       "</table>\n",
       "<p>5 rows × 49 columns</p>\n",
       "</div>"
      ],
      "text/plain": [
       "      Unnamed: 0                 time  Madrid_wind_speed Valencia_wind_deg  \\\n",
       "2915       11678  2018-12-31 09:00:00           0.333333           level_9   \n",
       "2916       11679  2018-12-31 12:00:00           0.333333           level_8   \n",
       "2917       11680  2018-12-31 15:00:00           1.000000           level_6   \n",
       "2918       11681  2018-12-31 18:00:00           1.000000           level_6   \n",
       "2919       11682  2018-12-31 21:00:00           1.333333          level_10   \n",
       "\n",
       "      Bilbao_rain_1h  Valencia_wind_speed  Seville_humidity  Madrid_humidity  \\\n",
       "2915             0.0             2.000000         81.666667        49.666667   \n",
       "2916             0.0             1.333333         61.000000        28.333333   \n",
       "2917             0.0             3.000000         47.000000        26.333333   \n",
       "2918             0.0             2.000000         52.666667        56.666667   \n",
       "2919             0.0             2.333333         61.666667        69.333333   \n",
       "\n",
       "      Bilbao_clouds_all  Bilbao_wind_speed  ...  Madrid_temp_max  \\\n",
       "2915          80.000000           1.333333  ...       281.483333   \n",
       "2916          56.666667           1.000000  ...       287.816667   \n",
       "2917           0.000000           0.666667  ...       288.816667   \n",
       "2918           0.000000           0.666667  ...       285.150000   \n",
       "2919           0.000000           1.333333  ...       276.816667   \n",
       "\n",
       "      Barcelona_temp  Bilbao_temp_min  Bilbao_temp  Barcelona_temp_min  \\\n",
       "2915      278.140000       270.816667   273.210000          276.483333   \n",
       "2916      286.150000       278.150000   278.443333          285.816667   \n",
       "2917      288.820000       284.150000   285.073333          288.150000   \n",
       "2918      284.473333       280.150000   281.626667          283.150000   \n",
       "2919      281.133333       276.150000   276.450000          278.483333   \n",
       "\n",
       "      Bilbao_temp_max  Seville_temp_min Madrid_temp  Madrid_temp_min  \\\n",
       "2915       276.150000        279.816667  274.910000       271.150000   \n",
       "2916       278.816667        287.150000  283.156667       280.483333   \n",
       "2917       285.816667        290.816667  287.733333       286.483333   \n",
       "2918       282.816667        287.483333  283.813333       282.150000   \n",
       "2919       276.816667        283.816667  276.623333       276.483333   \n",
       "\n",
       "      load_shortfall_3h  \n",
       "2915                NaN  \n",
       "2916                NaN  \n",
       "2917                NaN  \n",
       "2918                NaN  \n",
       "2919                NaN  \n",
       "\n",
       "[5 rows x 49 columns]"
      ]
     },
     "execution_count": 11,
     "metadata": {},
     "output_type": "execute_result"
    }
   ],
   "source": [
    "# check the records at the bottom of the dataset to ensure test set was added sussesfully\n",
    "# by checking if the last column (prediction) is null\n",
    "df.tail(5)"
   ]
  },
  {
   "cell_type": "code",
   "execution_count": 12,
   "metadata": {
    "execution": {
     "iopub.execute_input": "2022-05-11T07:19:14.6904Z",
     "iopub.status.busy": "2022-05-11T07:19:14.689759Z",
     "iopub.status.idle": "2022-05-11T07:19:14.709531Z",
     "shell.execute_reply": "2022-05-11T07:19:14.708741Z",
     "shell.execute_reply.started": "2022-05-11T07:19:14.690359Z"
    }
   },
   "outputs": [
    {
     "data": {
      "text/plain": [
       "Unnamed: 0                 0\n",
       "time                       0\n",
       "Madrid_wind_speed          0\n",
       "Valencia_wind_deg          0\n",
       "Bilbao_rain_1h             0\n",
       "Valencia_wind_speed        0\n",
       "Seville_humidity           0\n",
       "Madrid_humidity            0\n",
       "Bilbao_clouds_all          0\n",
       "Bilbao_wind_speed          0\n",
       "Seville_clouds_all         0\n",
       "Bilbao_wind_deg            0\n",
       "Barcelona_wind_speed       0\n",
       "Barcelona_wind_deg         0\n",
       "Madrid_clouds_all          0\n",
       "Seville_wind_speed         0\n",
       "Barcelona_rain_1h          0\n",
       "Seville_pressure           0\n",
       "Seville_rain_1h            0\n",
       "Bilbao_snow_3h             0\n",
       "Barcelona_pressure         0\n",
       "Seville_rain_3h            0\n",
       "Madrid_rain_1h             0\n",
       "Barcelona_rain_3h          0\n",
       "Valencia_snow_3h           0\n",
       "Madrid_weather_id          0\n",
       "Barcelona_weather_id       0\n",
       "Bilbao_pressure            0\n",
       "Seville_weather_id         0\n",
       "Valencia_pressure       2522\n",
       "Seville_temp_max           0\n",
       "Madrid_pressure            0\n",
       "Valencia_temp_max          0\n",
       "Valencia_temp              0\n",
       "Bilbao_weather_id          0\n",
       "Seville_temp               0\n",
       "Valencia_humidity          0\n",
       "Valencia_temp_min          0\n",
       "Barcelona_temp_max         0\n",
       "Madrid_temp_max            0\n",
       "Barcelona_temp             0\n",
       "Bilbao_temp_min            0\n",
       "Bilbao_temp                0\n",
       "Barcelona_temp_min         0\n",
       "Bilbao_temp_max            0\n",
       "Seville_temp_min           0\n",
       "Madrid_temp                0\n",
       "Madrid_temp_min            0\n",
       "load_shortfall_3h       2920\n",
       "dtype: int64"
      ]
     },
     "execution_count": 12,
     "metadata": {},
     "output_type": "execute_result"
    }
   ],
   "source": [
    "# check for nulls in each column (to ensure train and test sets were successfully concatinated)\n",
    "df.isnull().sum()"
   ]
  },
  {
   "cell_type": "markdown",
   "metadata": {},
   "source": [
    "**Processing Data**\n",
    "\n",
    "All columns look okay apart from Valencia_pressure which has several nulls. Since the column is numerical, we will first draw a boxplot to help visualize it's distribution and skewness by displaying the data quartiles and averages.\n",
    "\n",
    "We will also display the mean, mode and median in numerical form."
   ]
  },
  {
   "cell_type": "code",
   "execution_count": 13,
   "metadata": {
    "execution": {
     "iopub.execute_input": "2022-05-11T07:20:28.498116Z",
     "iopub.status.busy": "2022-05-11T07:20:28.497829Z",
     "iopub.status.idle": "2022-05-11T07:20:28.714632Z",
     "shell.execute_reply": "2022-05-11T07:20:28.713742Z",
     "shell.execute_reply.started": "2022-05-11T07:20:28.498087Z"
    }
   },
   "outputs": [
    {
     "name": "stderr",
     "output_type": "stream",
     "text": [
      "C:\\Users\\CHIBUIKEM EFUGHA\\anaconda3\\lib\\site-packages\\seaborn\\_decorators.py:36: FutureWarning: Pass the following variable as a keyword arg: x. From version 0.12, the only valid positional argument will be `data`, and passing other arguments without an explicit keyword will result in an error or misinterpretation.\n",
      "  warnings.warn(\n"
     ]
    },
    {
     "data": {
      "text/plain": [
       "<AxesSubplot:xlabel='Valencia_pressure'>"
      ]
     },
     "execution_count": 13,
     "metadata": {},
     "output_type": "execute_result"
    },
    {
     "data": {
      "image/png": "[encoded data removed]",
      "text/plain": [
       "<Figure size 432x288 with 1 Axes>"
      ]
     },
     "metadata": {
      "needs_background": "light"
     },
     "output_type": "display_data"
    }
   ],
   "source": [
    "# draw a boxplot for Valencia_pressure\n",
    "sns.boxplot(df['Valencia_pressure'])"
   ]
  },
  {
   "cell_type": "code",
   "execution_count": 14,
   "metadata": {
    "execution": {
     "iopub.execute_input": "2022-05-11T07:20:53.838701Z",
     "iopub.status.busy": "2022-05-11T07:20:53.838316Z",
     "iopub.status.idle": "2022-05-11T07:20:53.853497Z",
     "shell.execute_reply": "2022-05-11T07:20:53.852151Z",
     "shell.execute_reply.started": "2022-05-11T07:20:53.838646Z"
    }
   },
   "outputs": [
    {
     "name": "stdout",
     "output_type": "stream",
     "text": [
      "Mode\n",
      "0    1018.0\n",
      "dtype: float64\n",
      "Mean\n",
      "1012.3466870428985\n",
      "Median\n",
      "1015.0\n"
     ]
    }
   ],
   "source": [
    "# display the mean, mode and median of Valencia_pressure\n",
    "print('Mode') \n",
    "print(df['Valencia_pressure'].mode())\n",
    "print('Mean') \n",
    "print(df['Valencia_pressure'].mean())\n",
    "print('Median') \n",
    "print(df['Valencia_pressure'].median())"
   ]
  },
  {
   "cell_type": "markdown",
   "metadata": {},
   "source": [
    "Checking skewness"
   ]
  },
  {
   "cell_type": "code",
   "execution_count": 15,
   "metadata": {
    "execution": {
     "iopub.execute_input": "2022-05-11T07:21:09.385561Z",
     "iopub.status.busy": "2022-05-11T07:21:09.385251Z",
     "iopub.status.idle": "2022-05-11T07:21:09.736084Z",
     "shell.execute_reply": "2022-05-11T07:21:09.73511Z",
     "shell.execute_reply.started": "2022-05-11T07:21:09.385528Z"
    }
   },
   "outputs": [
    {
     "name": "stderr",
     "output_type": "stream",
     "text": [
      "C:\\Users\\CHIBUIKEM EFUGHA\\anaconda3\\lib\\site-packages\\seaborn\\distributions.py:2619: FutureWarning: `distplot` is a deprecated function and will be removed in a future version. Please adapt your code to use either `displot` (a figure-level function with similar flexibility) or `histplot` (an axes-level function for histograms).\n",
      "  warnings.warn(msg, FutureWarning)\n"
     ]
    },
    {
     "data": {
      "text/plain": [
       "<AxesSubplot:xlabel='Valencia_pressure', ylabel='Density'>"
      ]
     },
     "execution_count": 15,
     "metadata": {},
     "output_type": "execute_result"
    },
    {
     "data": {
      "image/png": "[encoded data removed]",
      "text/plain": [
       "<Figure size 432x288 with 1 Axes>"
      ]
     },
     "metadata": {
      "needs_background": "light"
     },
     "output_type": "display_data"
    }
   ],
   "source": [
    "sns.distplot(df['Valencia_pressure'])"
   ]
  },
  {
   "cell_type": "markdown",
   "metadata": {},
   "source": [
    "Mean, mode and median seem to be almost similar. For the purpose of this exercise, we will use the mode to impute the missing column data. this is because the data is skewed, which eliminates the use of mean, and we are dealing with pressure which seems to often repeat itself. \n",
    "\n",
    "To make sure we do not loose our original dataset in cases of mistakes,  we will use a copy of the data frame."
   ]
  },
  {
   "cell_type": "code",
   "execution_count": 16,
   "metadata": {
    "execution": {
     "iopub.execute_input": "2022-05-11T07:22:29.662566Z",
     "iopub.status.busy": "2022-05-11T07:22:29.66223Z",
     "iopub.status.idle": "2022-05-11T07:22:29.669964Z",
     "shell.execute_reply": "2022-05-11T07:22:29.668974Z",
     "shell.execute_reply.started": "2022-05-11T07:22:29.662529Z"
    }
   },
   "outputs": [],
   "source": [
    "# create a copy of the dataset\n",
    "df_copy = df.copy()\n",
    "# fill all nulls in Valencia_pressure column with the column mode\n",
    "df_copy['Valencia_pressure'] = df_copy['Valencia_pressure'].fillna(df_copy['Valencia_pressure'].mode()[0])"
   ]
  },
  {
   "cell_type": "code",
   "execution_count": 17,
   "metadata": {
    "execution": {
     "iopub.execute_input": "2022-05-11T07:23:06.060264Z",
     "iopub.status.busy": "2022-05-11T07:23:06.059988Z",
     "iopub.status.idle": "2022-05-11T07:23:06.078513Z",
     "shell.execute_reply": "2022-05-11T07:23:06.077415Z",
     "shell.execute_reply.started": "2022-05-11T07:23:06.060235Z"
    }
   },
   "outputs": [
    {
     "data": {
      "text/plain": [
       "Unnamed: 0                 0\n",
       "time                       0\n",
       "Madrid_wind_speed          0\n",
       "Valencia_wind_deg          0\n",
       "Bilbao_rain_1h             0\n",
       "Valencia_wind_speed        0\n",
       "Seville_humidity           0\n",
       "Madrid_humidity            0\n",
       "Bilbao_clouds_all          0\n",
       "Bilbao_wind_speed          0\n",
       "Seville_clouds_all         0\n",
       "Bilbao_wind_deg            0\n",
       "Barcelona_wind_speed       0\n",
       "Barcelona_wind_deg         0\n",
       "Madrid_clouds_all          0\n",
       "Seville_wind_speed         0\n",
       "Barcelona_rain_1h          0\n",
       "Seville_pressure           0\n",
       "Seville_rain_1h            0\n",
       "Bilbao_snow_3h             0\n",
       "Barcelona_pressure         0\n",
       "Seville_rain_3h            0\n",
       "Madrid_rain_1h             0\n",
       "Barcelona_rain_3h          0\n",
       "Valencia_snow_3h           0\n",
       "Madrid_weather_id          0\n",
       "Barcelona_weather_id       0\n",
       "Bilbao_pressure            0\n",
       "Seville_weather_id         0\n",
       "Valencia_pressure          0\n",
       "Seville_temp_max           0\n",
       "Madrid_pressure            0\n",
       "Valencia_temp_max          0\n",
       "Valencia_temp              0\n",
       "Bilbao_weather_id          0\n",
       "Seville_temp               0\n",
       "Valencia_humidity          0\n",
       "Valencia_temp_min          0\n",
       "Barcelona_temp_max         0\n",
       "Madrid_temp_max            0\n",
       "Barcelona_temp             0\n",
       "Bilbao_temp_min            0\n",
       "Bilbao_temp                0\n",
       "Barcelona_temp_min         0\n",
       "Bilbao_temp_max            0\n",
       "Seville_temp_min           0\n",
       "Madrid_temp                0\n",
       "Madrid_temp_min            0\n",
       "load_shortfall_3h       2920\n",
       "dtype: int64"
      ]
     },
     "execution_count": 17,
     "metadata": {},
     "output_type": "execute_result"
    }
   ],
   "source": [
    "# check for nulls in each column again to ensure the impute was successful \n",
    "df_copy.isnull().sum()"
   ]
  },
  {
   "cell_type": "markdown",
   "metadata": {},
   "source": [
    "**Data Frame Types**\n",
    "\n",
    "\n",
    "We need to check that all our columns are numerics (float or integer) for our regression model(s). "
   ]
  },
  {
   "cell_type": "code",
   "execution_count": 18,
   "metadata": {
    "execution": {
     "iopub.execute_input": "2022-05-11T07:23:34.037767Z",
     "iopub.status.busy": "2022-05-11T07:23:34.03685Z",
     "iopub.status.idle": "2022-05-11T07:23:34.048035Z",
     "shell.execute_reply": "2022-05-11T07:23:34.046653Z",
     "shell.execute_reply.started": "2022-05-11T07:23:34.037715Z"
    }
   },
   "outputs": [
    {
     "data": {
      "text/plain": [
       "Unnamed: 0                int64\n",
       "time                     object\n",
       "Madrid_wind_speed       float64\n",
       "Valencia_wind_deg        object\n",
       "Bilbao_rain_1h          float64\n",
       "Valencia_wind_speed     float64\n",
       "Seville_humidity        float64\n",
       "Madrid_humidity         float64\n",
       "Bilbao_clouds_all       float64\n",
       "Bilbao_wind_speed       float64\n",
       "Seville_clouds_all      float64\n",
       "Bilbao_wind_deg         float64\n",
       "Barcelona_wind_speed    float64\n",
       "Barcelona_wind_deg      float64\n",
       "Madrid_clouds_all       float64\n",
       "Seville_wind_speed      float64\n",
       "Barcelona_rain_1h       float64\n",
       "Seville_pressure         object\n",
       "Seville_rain_1h         float64\n",
       "Bilbao_snow_3h          float64\n",
       "Barcelona_pressure      float64\n",
       "Seville_rain_3h         float64\n",
       "Madrid_rain_1h          float64\n",
       "Barcelona_rain_3h       float64\n",
       "Valencia_snow_3h        float64\n",
       "Madrid_weather_id       float64\n",
       "Barcelona_weather_id    float64\n",
       "Bilbao_pressure         float64\n",
       "Seville_weather_id      float64\n",
       "Valencia_pressure       float64\n",
       "Seville_temp_max        float64\n",
       "Madrid_pressure         float64\n",
       "Valencia_temp_max       float64\n",
       "Valencia_temp           float64\n",
       "Bilbao_weather_id       float64\n",
       "Seville_temp            float64\n",
       "Valencia_humidity       float64\n",
       "Valencia_temp_min       float64\n",
       "Barcelona_temp_max      float64\n",
       "Madrid_temp_max         float64\n",
       "Barcelona_temp          float64\n",
       "Bilbao_temp_min         float64\n",
       "Bilbao_temp             float64\n",
       "Barcelona_temp_min      float64\n",
       "Bilbao_temp_max         float64\n",
       "Seville_temp_min        float64\n",
       "Madrid_temp             float64\n",
       "Madrid_temp_min         float64\n",
       "load_shortfall_3h       float64\n",
       "dtype: object"
      ]
     },
     "execution_count": 18,
     "metadata": {},
     "output_type": "execute_result"
    }
   ],
   "source": [
    "df_copy.dtypes"
   ]
  },
  {
   "cell_type": "markdown",
   "metadata": {},
   "source": [
    "We need to fix the three columns that are of type object, i.e. time, Valencia_wind_deg and Seville_pressure columns.  We could either drop, transform or encode these columns. Let's take a closer look at each column and decide which action is best. "
   ]
  },
  {
   "cell_type": "code",
   "execution_count": 19,
   "metadata": {
    "execution": {
     "iopub.execute_input": "2022-05-11T07:23:55.78513Z",
     "iopub.status.busy": "2022-05-11T07:23:55.784701Z",
     "iopub.status.idle": "2022-05-11T07:23:55.800927Z",
     "shell.execute_reply": "2022-05-11T07:23:55.799813Z",
     "shell.execute_reply.started": "2022-05-11T07:23:55.785085Z"
    }
   },
   "outputs": [
    {
     "data": {
      "text/plain": [
       "0       2015-01-01 03:00:00\n",
       "1       2015-01-01 06:00:00\n",
       "2       2015-01-01 09:00:00\n",
       "3       2015-01-01 12:00:00\n",
       "4       2015-01-01 15:00:00\n",
       "               ...         \n",
       "2915    2018-12-31 09:00:00\n",
       "2916    2018-12-31 12:00:00\n",
       "2917    2018-12-31 15:00:00\n",
       "2918    2018-12-31 18:00:00\n",
       "2919    2018-12-31 21:00:00\n",
       "Name: time, Length: 11683, dtype: object"
      ]
     },
     "execution_count": 19,
     "metadata": {},
     "output_type": "execute_result"
    }
   ],
   "source": [
    "# print out the time column\n",
    "df_copy['time']"
   ]
  },
  {
   "cell_type": "markdown",
   "metadata": {},
   "source": [
    "The column has date and time which cannot be interpreted by a regression model. We therefore need to transform it into format which can be understood by models. "
   ]
  },
  {
   "cell_type": "code",
   "execution_count": 20,
   "metadata": {
    "execution": {
     "iopub.execute_input": "2022-05-11T07:24:18.443625Z",
     "iopub.status.busy": "2022-05-11T07:24:18.443081Z",
     "iopub.status.idle": "2022-05-11T07:24:18.457074Z",
     "shell.execute_reply": "2022-05-11T07:24:18.456215Z",
     "shell.execute_reply.started": "2022-05-11T07:24:18.44357Z"
    }
   },
   "outputs": [],
   "source": [
    "df['time'] = pd.to_datetime(df.time, format='%Y-%m-%d %H:%M:%S')\n",
    "# transform time column into datetime using pandas\n",
    "df_copy['time'] = pd.to_datetime(df_copy['time'], errors='coerce')"
   ]
  },
  {
   "cell_type": "code",
   "execution_count": 21,
   "metadata": {
    "execution": {
     "iopub.execute_input": "2022-05-11T07:24:24.376528Z",
     "iopub.status.busy": "2022-05-11T07:24:24.375731Z",
     "iopub.status.idle": "2022-05-11T07:24:24.384272Z",
     "shell.execute_reply": "2022-05-11T07:24:24.383581Z",
     "shell.execute_reply.started": "2022-05-11T07:24:24.376473Z"
    }
   },
   "outputs": [
    {
     "data": {
      "text/plain": [
       "0      2015-01-01 03:00:00\n",
       "1      2015-01-01 06:00:00\n",
       "2      2015-01-01 09:00:00\n",
       "3      2015-01-01 12:00:00\n",
       "4      2015-01-01 15:00:00\n",
       "               ...        \n",
       "2915   2018-12-31 09:00:00\n",
       "2916   2018-12-31 12:00:00\n",
       "2917   2018-12-31 15:00:00\n",
       "2918   2018-12-31 18:00:00\n",
       "2919   2018-12-31 21:00:00\n",
       "Name: time, Length: 11683, dtype: datetime64[ns]"
      ]
     },
     "execution_count": 21,
     "metadata": {},
     "output_type": "execute_result"
    }
   ],
   "source": [
    "# print out the time column again. note that the dtype has changed\n",
    "df_copy['time']"
   ]
  },
  {
   "cell_type": "markdown",
   "metadata": {},
   "source": [
    "Datetime can be understood by some models but not all. We therfore need to transform the time column further so as to accomodate all models. We do this by spliting datetime into day, month, year, hour, minute and second columns. [Link](https://www.analyticsvidhya.com/blog/2020/05/datetime-variables-python-pandas/)"
   ]
  },
  {
   "cell_type": "code",
   "execution_count": 22,
   "metadata": {
    "execution": {
     "iopub.execute_input": "2022-05-11T07:25:00.602952Z",
     "iopub.status.busy": "2022-05-11T07:25:00.602436Z",
     "iopub.status.idle": "2022-05-11T07:25:00.625198Z",
     "shell.execute_reply": "2022-05-11T07:25:00.624172Z",
     "shell.execute_reply.started": "2022-05-11T07:25:00.602917Z"
    }
   },
   "outputs": [],
   "source": [
    "# day\n",
    "df_copy['Day'] = df['time'].dt.day\n",
    "# month\n",
    "df_copy['Month'] = df['time'].dt.month\n",
    "# year\n",
    "df_copy['Year'] = df['time'].dt.year\n",
    "# hour\n",
    "df_copy['Hour'] = df['time'].dt.hour\n",
    "# minute\n",
    "df_copy['Minute'] = df['time'].dt.minute\n",
    "# second\n",
    "df_copy['Second'] = df['time'].dt.second"
   ]
  },
  {
   "cell_type": "code",
   "execution_count": 23,
   "metadata": {
    "execution": {
     "iopub.execute_input": "2022-05-11T07:25:12.121085Z",
     "iopub.status.busy": "2022-05-11T07:25:12.120428Z",
     "iopub.status.idle": "2022-05-11T07:25:12.129793Z",
     "shell.execute_reply": "2022-05-11T07:25:12.128572Z",
     "shell.execute_reply.started": "2022-05-11T07:25:12.121043Z"
    }
   },
   "outputs": [
    {
     "data": {
      "text/plain": [
       "0        1\n",
       "1        1\n",
       "2        1\n",
       "3        1\n",
       "4        1\n",
       "        ..\n",
       "2915    31\n",
       "2916    31\n",
       "2917    31\n",
       "2918    31\n",
       "2919    31\n",
       "Name: Day, Length: 11683, dtype: int64"
      ]
     },
     "execution_count": 23,
     "metadata": {},
     "output_type": "execute_result"
    }
   ],
   "source": [
    "# print out the day column to ensure it is numeric\n",
    "df_copy['Day']"
   ]
  },
  {
   "cell_type": "code",
   "execution_count": 24,
   "metadata": {
    "execution": {
     "iopub.execute_input": "2022-05-11T07:25:19.823841Z",
     "iopub.status.busy": "2022-05-11T07:25:19.823508Z",
     "iopub.status.idle": "2022-05-11T07:25:19.832709Z",
     "shell.execute_reply": "2022-05-11T07:25:19.831979Z",
     "shell.execute_reply.started": "2022-05-11T07:25:19.823798Z"
    }
   },
   "outputs": [
    {
     "data": {
      "text/plain": [
       "0        1\n",
       "1        1\n",
       "2        1\n",
       "3        1\n",
       "4        1\n",
       "        ..\n",
       "2915    12\n",
       "2916    12\n",
       "2917    12\n",
       "2918    12\n",
       "2919    12\n",
       "Name: Month, Length: 11683, dtype: int64"
      ]
     },
     "execution_count": 24,
     "metadata": {},
     "output_type": "execute_result"
    }
   ],
   "source": [
    "# print out the month column to ensure it is numeric\n",
    "df_copy['Month']"
   ]
  },
  {
   "cell_type": "code",
   "execution_count": 25,
   "metadata": {
    "execution": {
     "iopub.execute_input": "2022-05-11T07:25:23.384346Z",
     "iopub.status.busy": "2022-05-11T07:25:23.383602Z",
     "iopub.status.idle": "2022-05-11T07:25:23.399518Z",
     "shell.execute_reply": "2022-05-11T07:25:23.397749Z",
     "shell.execute_reply.started": "2022-05-11T07:25:23.384294Z"
    }
   },
   "outputs": [
    {
     "data": {
      "text/plain": [
       "0       2015\n",
       "1       2015\n",
       "2       2015\n",
       "3       2015\n",
       "4       2015\n",
       "        ... \n",
       "2915    2018\n",
       "2916    2018\n",
       "2917    2018\n",
       "2918    2018\n",
       "2919    2018\n",
       "Name: Year, Length: 11683, dtype: int64"
      ]
     },
     "execution_count": 25,
     "metadata": {},
     "output_type": "execute_result"
    }
   ],
   "source": [
    "# print out the year column to ensure it is numeric\n",
    "df_copy['Year']"
   ]
  },
  {
   "cell_type": "code",
   "execution_count": 26,
   "metadata": {
    "execution": {
     "iopub.execute_input": "2022-05-11T07:25:29.837152Z",
     "iopub.status.busy": "2022-05-11T07:25:29.836824Z",
     "iopub.status.idle": "2022-05-11T07:25:29.847355Z",
     "shell.execute_reply": "2022-05-11T07:25:29.846555Z",
     "shell.execute_reply.started": "2022-05-11T07:25:29.837119Z"
    }
   },
   "outputs": [
    {
     "data": {
      "text/plain": [
       "0        3\n",
       "1        6\n",
       "2        9\n",
       "3       12\n",
       "4       15\n",
       "        ..\n",
       "2915     9\n",
       "2916    12\n",
       "2917    15\n",
       "2918    18\n",
       "2919    21\n",
       "Name: Hour, Length: 11683, dtype: int64"
      ]
     },
     "execution_count": 26,
     "metadata": {},
     "output_type": "execute_result"
    }
   ],
   "source": [
    "# print out the hour column to ensure it is numeric\n",
    "df_copy['Hour']"
   ]
  },
  {
   "cell_type": "code",
   "execution_count": 27,
   "metadata": {
    "execution": {
     "iopub.execute_input": "2022-05-11T07:25:32.583581Z",
     "iopub.status.busy": "2022-05-11T07:25:32.582759Z",
     "iopub.status.idle": "2022-05-11T07:25:32.59315Z",
     "shell.execute_reply": "2022-05-11T07:25:32.592064Z",
     "shell.execute_reply.started": "2022-05-11T07:25:32.583547Z"
    }
   },
   "outputs": [
    {
     "data": {
      "text/plain": [
       "0       0\n",
       "1       0\n",
       "2       0\n",
       "3       0\n",
       "4       0\n",
       "       ..\n",
       "2915    0\n",
       "2916    0\n",
       "2917    0\n",
       "2918    0\n",
       "2919    0\n",
       "Name: Minute, Length: 11683, dtype: int64"
      ]
     },
     "execution_count": 27,
     "metadata": {},
     "output_type": "execute_result"
    }
   ],
   "source": [
    "# print out the minute column to ensure it is numeric\n",
    "df_copy['Minute']"
   ]
  },
  {
   "cell_type": "code",
   "execution_count": 28,
   "metadata": {
    "execution": {
     "iopub.execute_input": "2022-05-11T07:25:38.954622Z",
     "iopub.status.busy": "2022-05-11T07:25:38.953953Z",
     "iopub.status.idle": "2022-05-11T07:25:38.963733Z",
     "shell.execute_reply": "2022-05-11T07:25:38.962698Z",
     "shell.execute_reply.started": "2022-05-11T07:25:38.954567Z"
    }
   },
   "outputs": [
    {
     "data": {
      "text/plain": [
       "0       0\n",
       "1       0\n",
       "2       0\n",
       "3       0\n",
       "4       0\n",
       "       ..\n",
       "2915    0\n",
       "2916    0\n",
       "2917    0\n",
       "2918    0\n",
       "2919    0\n",
       "Name: Second, Length: 11683, dtype: int64"
      ]
     },
     "execution_count": 28,
     "metadata": {},
     "output_type": "execute_result"
    }
   ],
   "source": [
    "# print out the second column to ensure it is numeric\n",
    "df_copy['Second'] "
   ]
  },
  {
   "cell_type": "code",
   "execution_count": 29,
   "metadata": {
    "execution": {
     "iopub.execute_input": "2022-05-11T07:26:07.964025Z",
     "iopub.status.busy": "2022-05-11T07:26:07.963137Z",
     "iopub.status.idle": "2022-05-11T07:26:07.973232Z",
     "shell.execute_reply": "2022-05-11T07:26:07.972081Z",
     "shell.execute_reply.started": "2022-05-11T07:26:07.963982Z"
    }
   },
   "outputs": [
    {
     "data": {
      "text/plain": [
       "0        level_5\n",
       "1       level_10\n",
       "2        level_9\n",
       "3        level_8\n",
       "4        level_7\n",
       "          ...   \n",
       "2915     level_9\n",
       "2916     level_8\n",
       "2917     level_6\n",
       "2918     level_6\n",
       "2919    level_10\n",
       "Name: Valencia_wind_deg, Length: 11683, dtype: object"
      ]
     },
     "execution_count": 29,
     "metadata": {},
     "output_type": "execute_result"
    }
   ],
   "source": [
    "# print out the Valencia_wind_deg column \n",
    "df_copy['Valencia_wind_deg']"
   ]
  },
  {
   "cell_type": "markdown",
   "metadata": {},
   "source": [
    "We will transform this column by extracting the number from the column and leaving out the 'level_' section so as to create a numeric. "
   ]
  },
  {
   "cell_type": "code",
   "execution_count": 30,
   "metadata": {
    "execution": {
     "iopub.execute_input": "2022-05-11T07:27:10.359619Z",
     "iopub.status.busy": "2022-05-11T07:27:10.358363Z",
     "iopub.status.idle": "2022-05-11T07:27:10.388459Z",
     "shell.execute_reply": "2022-05-11T07:27:10.387415Z",
     "shell.execute_reply.started": "2022-05-11T07:27:10.359558Z"
    }
   },
   "outputs": [],
   "source": [
    "# extract a number from an object. this will return an object. \n",
    "# use pd.to_numeric() function to transform the results into a numeric\n",
    "df_copy['Valencia_wind_deg'] = df_copy['Valencia_wind_deg'].str.extract('(\\d+)')\n",
    "df_copy['Valencia_wind_deg'] = pd.to_numeric(df_copy['Valencia_wind_deg'])"
   ]
  },
  {
   "cell_type": "code",
   "execution_count": 31,
   "metadata": {
    "execution": {
     "iopub.execute_input": "2022-05-11T07:27:35.21932Z",
     "iopub.status.busy": "2022-05-11T07:27:35.218648Z",
     "iopub.status.idle": "2022-05-11T07:27:35.228959Z",
     "shell.execute_reply": "2022-05-11T07:27:35.227831Z",
     "shell.execute_reply.started": "2022-05-11T07:27:35.219274Z"
    }
   },
   "outputs": [
    {
     "data": {
      "text/plain": [
       "0        5\n",
       "1       10\n",
       "2        9\n",
       "3        8\n",
       "4        7\n",
       "        ..\n",
       "2915     9\n",
       "2916     8\n",
       "2917     6\n",
       "2918     6\n",
       "2919    10\n",
       "Name: Valencia_wind_deg, Length: 11683, dtype: int64"
      ]
     },
     "execution_count": 31,
     "metadata": {},
     "output_type": "execute_result"
    }
   ],
   "source": [
    "# print out the Valencia_wind_deg column again to ensure \n",
    "#the extraction and transformationwas successful\n",
    "df_copy['Valencia_wind_deg']"
   ]
  },
  {
   "cell_type": "code",
   "execution_count": 32,
   "metadata": {
    "execution": {
     "iopub.execute_input": "2022-05-11T07:27:45.755301Z",
     "iopub.status.busy": "2022-05-11T07:27:45.755014Z",
     "iopub.status.idle": "2022-05-11T07:27:45.764081Z",
     "shell.execute_reply": "2022-05-11T07:27:45.763244Z",
     "shell.execute_reply.started": "2022-05-11T07:27:45.755269Z"
    }
   },
   "outputs": [
    {
     "data": {
      "text/plain": [
       "0       sp25\n",
       "1       sp25\n",
       "2       sp25\n",
       "3       sp25\n",
       "4       sp25\n",
       "        ... \n",
       "2915    sp24\n",
       "2916    sp24\n",
       "2917    sp23\n",
       "2918    sp23\n",
       "2919    sp23\n",
       "Name: Seville_pressure, Length: 11683, dtype: object"
      ]
     },
     "execution_count": 32,
     "metadata": {},
     "output_type": "execute_result"
    }
   ],
   "source": [
    "# print out the Seville_pressure column \n",
    "df_copy['Seville_pressure']"
   ]
  },
  {
   "cell_type": "code",
   "execution_count": 33,
   "metadata": {
    "execution": {
     "iopub.execute_input": "2022-05-11T07:27:54.592203Z",
     "iopub.status.busy": "2022-05-11T07:27:54.59103Z",
     "iopub.status.idle": "2022-05-11T07:27:54.641463Z",
     "shell.execute_reply": "2022-05-11T07:27:54.640383Z",
     "shell.execute_reply.started": "2022-05-11T07:27:54.592142Z"
    }
   },
   "outputs": [],
   "source": [
    "# we will also extract the number from the column and convert the resulting object into a numeric\n",
    "df_copy['Seville_pressure'] = df_copy['Seville_pressure'].str.extract('(\\d+)')\n",
    "df_copy['Seville_pressure'] = pd.to_numeric(df_copy['Seville_pressure'])"
   ]
  },
  {
   "cell_type": "code",
   "execution_count": 34,
   "metadata": {
    "execution": {
     "iopub.execute_input": "2022-05-11T07:28:00.287365Z",
     "iopub.status.busy": "2022-05-11T07:28:00.286998Z",
     "iopub.status.idle": "2022-05-11T07:28:00.296224Z",
     "shell.execute_reply": "2022-05-11T07:28:00.294776Z",
     "shell.execute_reply.started": "2022-05-11T07:28:00.287325Z"
    }
   },
   "outputs": [
    {
     "data": {
      "text/plain": [
       "0       25\n",
       "1       25\n",
       "2       25\n",
       "3       25\n",
       "4       25\n",
       "        ..\n",
       "2915    24\n",
       "2916    24\n",
       "2917    23\n",
       "2918    23\n",
       "2919    23\n",
       "Name: Seville_pressure, Length: 11683, dtype: int64"
      ]
     },
     "execution_count": 34,
     "metadata": {},
     "output_type": "execute_result"
    }
   ],
   "source": [
    "# print out the Seville_pressure column again to ensure \n",
    "#the extraction and transformationwas successful\n",
    "df_copy['Seville_pressure']"
   ]
  },
  {
   "cell_type": "markdown",
   "metadata": {},
   "source": [
    "**Dropping Noise**\n",
    "\n",
    "Let's take a look at the columns we currently have."
   ]
  },
  {
   "cell_type": "code",
   "execution_count": 35,
   "metadata": {},
   "outputs": [
    {
     "data": {
      "text/plain": [
       "(11683, 55)"
      ]
     },
     "execution_count": 35,
     "metadata": {},
     "output_type": "execute_result"
    }
   ],
   "source": [
    "# viewing the number of columns available\n",
    "df_copy.shape"
   ]
  },
  {
   "cell_type": "code",
   "execution_count": 36,
   "metadata": {
    "execution": {
     "iopub.execute_input": "2022-05-11T07:28:17.027837Z",
     "iopub.status.busy": "2022-05-11T07:28:17.027058Z",
     "iopub.status.idle": "2022-05-11T07:28:17.03425Z",
     "shell.execute_reply": "2022-05-11T07:28:17.0333Z",
     "shell.execute_reply.started": "2022-05-11T07:28:17.027799Z"
    }
   },
   "outputs": [
    {
     "data": {
      "text/plain": [
       "Index(['Unnamed: 0', 'time', 'Madrid_wind_speed', 'Valencia_wind_deg',\n",
       "       'Bilbao_rain_1h', 'Valencia_wind_speed', 'Seville_humidity',\n",
       "       'Madrid_humidity', 'Bilbao_clouds_all', 'Bilbao_wind_speed',\n",
       "       'Seville_clouds_all', 'Bilbao_wind_deg', 'Barcelona_wind_speed',\n",
       "       'Barcelona_wind_deg', 'Madrid_clouds_all', 'Seville_wind_speed',\n",
       "       'Barcelona_rain_1h', 'Seville_pressure', 'Seville_rain_1h',\n",
       "       'Bilbao_snow_3h', 'Barcelona_pressure', 'Seville_rain_3h',\n",
       "       'Madrid_rain_1h', 'Barcelona_rain_3h', 'Valencia_snow_3h',\n",
       "       'Madrid_weather_id', 'Barcelona_weather_id', 'Bilbao_pressure',\n",
       "       'Seville_weather_id', 'Valencia_pressure', 'Seville_temp_max',\n",
       "       'Madrid_pressure', 'Valencia_temp_max', 'Valencia_temp',\n",
       "       'Bilbao_weather_id', 'Seville_temp', 'Valencia_humidity',\n",
       "       'Valencia_temp_min', 'Barcelona_temp_max', 'Madrid_temp_max',\n",
       "       'Barcelona_temp', 'Bilbao_temp_min', 'Bilbao_temp',\n",
       "       'Barcelona_temp_min', 'Bilbao_temp_max', 'Seville_temp_min',\n",
       "       'Madrid_temp', 'Madrid_temp_min', 'load_shortfall_3h', 'Day', 'Month',\n",
       "       'Year', 'Hour', 'Minute', 'Second'],\n",
       "      dtype='object')"
      ]
     },
     "execution_count": 36,
     "metadata": {},
     "output_type": "execute_result"
    }
   ],
   "source": [
    "# print out list of column names\n",
    "df_copy.columns"
   ]
  },
  {
   "cell_type": "markdown",
   "metadata": {},
   "source": [
    "We need to drop the unecessary columns (noise). Looking at the available columns, we will notice that *'Unnamed: 0'* and *'time'* are not needed for our modeling purposes. This is because *'Unnamed: 0'* is an indexing column and *'time'*  has already been split into more model friendly columns"
   ]
  },
  {
   "cell_type": "code",
   "execution_count": 37,
   "metadata": {
    "execution": {
     "iopub.execute_input": "2022-05-11T07:28:59.738736Z",
     "iopub.status.busy": "2022-05-11T07:28:59.738364Z",
     "iopub.status.idle": "2022-05-11T07:28:59.759228Z",
     "shell.execute_reply": "2022-05-11T07:28:59.758325Z",
     "shell.execute_reply.started": "2022-05-11T07:28:59.738697Z"
    }
   },
   "outputs": [],
   "source": [
    "# dropping noise\n",
    "df_copy = df_copy.drop(['Unnamed: 0','time'], axis = 1)"
   ]
  },
  {
   "cell_type": "code",
   "execution_count": 38,
   "metadata": {},
   "outputs": [
    {
     "data": {
      "text/plain": [
       "(11683, 53)"
      ]
     },
     "execution_count": 38,
     "metadata": {},
     "output_type": "execute_result"
    }
   ],
   "source": [
    "# confirming that the number of columns reduced.\n",
    "df_copy.shape"
   ]
  },
  {
   "cell_type": "code",
   "execution_count": 39,
   "metadata": {
    "execution": {
     "iopub.execute_input": "2022-05-11T07:29:02.687147Z",
     "iopub.status.busy": "2022-05-11T07:29:02.686859Z",
     "iopub.status.idle": "2022-05-11T07:29:02.69539Z",
     "shell.execute_reply": "2022-05-11T07:29:02.694233Z",
     "shell.execute_reply.started": "2022-05-11T07:29:02.687119Z"
    }
   },
   "outputs": [
    {
     "data": {
      "text/plain": [
       "Index(['Madrid_wind_speed', 'Valencia_wind_deg', 'Bilbao_rain_1h',\n",
       "       'Valencia_wind_speed', 'Seville_humidity', 'Madrid_humidity',\n",
       "       'Bilbao_clouds_all', 'Bilbao_wind_speed', 'Seville_clouds_all',\n",
       "       'Bilbao_wind_deg', 'Barcelona_wind_speed', 'Barcelona_wind_deg',\n",
       "       'Madrid_clouds_all', 'Seville_wind_speed', 'Barcelona_rain_1h',\n",
       "       'Seville_pressure', 'Seville_rain_1h', 'Bilbao_snow_3h',\n",
       "       'Barcelona_pressure', 'Seville_rain_3h', 'Madrid_rain_1h',\n",
       "       'Barcelona_rain_3h', 'Valencia_snow_3h', 'Madrid_weather_id',\n",
       "       'Barcelona_weather_id', 'Bilbao_pressure', 'Seville_weather_id',\n",
       "       'Valencia_pressure', 'Seville_temp_max', 'Madrid_pressure',\n",
       "       'Valencia_temp_max', 'Valencia_temp', 'Bilbao_weather_id',\n",
       "       'Seville_temp', 'Valencia_humidity', 'Valencia_temp_min',\n",
       "       'Barcelona_temp_max', 'Madrid_temp_max', 'Barcelona_temp',\n",
       "       'Bilbao_temp_min', 'Bilbao_temp', 'Barcelona_temp_min',\n",
       "       'Bilbao_temp_max', 'Seville_temp_min', 'Madrid_temp', 'Madrid_temp_min',\n",
       "       'load_shortfall_3h', 'Day', 'Month', 'Year', 'Hour', 'Minute',\n",
       "       'Second'],\n",
       "      dtype='object')"
      ]
     },
     "execution_count": 39,
     "metadata": {},
     "output_type": "execute_result"
    }
   ],
   "source": [
    "# print out list of column names again to ensure the two columns have been dropped\n",
    "df_copy.columns"
   ]
  },
  {
   "cell_type": "markdown",
   "metadata": {},
   "source": [
    "Data has been preprocessed"
   ]
  },
  {
   "cell_type": "markdown",
   "metadata": {},
   "source": [
    "Importing all the necessary libraries for the model training."
   ]
  },
  {
   "cell_type": "code",
   "execution_count": 40,
   "metadata": {},
   "outputs": [],
   "source": [
    "import pandas as pd\n",
    "import numpy as np\n",
    "from sklearn import svm\n",
    "from sklearn.neural_network import MLPClassifier\n",
    "from sklearn.ensemble import RandomForestClassifier\n",
    "from sklearn.svm import SVC\n",
    "from sklearn.metrics import confusion_matrix, classification_report\n",
    "from sklearn.preprocessing import StandardScaler, LabelEncoder\n",
    "from sklearn.model_selection import train_test_split\n",
    "from sklearn.linear_model import LinearRegression"
   ]
  },
  {
   "cell_type": "code",
   "execution_count": 41,
   "metadata": {},
   "outputs": [],
   "source": [
    "\n",
    "from sklearn.metrics import r2_score\n",
    "from sklearn.metrics import mean_squared_error\n",
    "from sklearn.linear_model import *\n",
    "from sklearn import *\n",
    "\n",
    "from tqdm import tqdm\n",
    "import math\n",
    "import random\n",
    "from scipy import stats"
   ]
  },
  {
   "cell_type": "code",
   "execution_count": 42,
   "metadata": {},
   "outputs": [],
   "source": [
    "x = df_copy[:len(df_train)].drop(['load_shortfall_3h'],axis = 1)\n",
    "y = df_copy[:len(df_train)].load_shortfall_3h"
   ]
  },
  {
   "cell_type": "code",
   "execution_count": 43,
   "metadata": {},
   "outputs": [],
   "source": [
    "x_train, x_test, y_train, y_test = train_test_split(x,y, test_size = 0.2, random_state = 1)"
   ]
  },
  {
   "cell_type": "code",
   "execution_count": 44,
   "metadata": {},
   "outputs": [],
   "source": [
    "#applying scaler\n",
    "sc = StandardScaler()\n",
    "x_train = sc.fit_transform(x_train)\n",
    "x_test = sc.transform(x_test)"
   ]
  },
  {
   "cell_type": "code",
   "execution_count": 45,
   "metadata": {},
   "outputs": [],
   "source": [
    "Lr = LinearRegression()\n",
    "Lr.fit(x_train,y_train)\n",
    "pred_Lr = Lr.predict(x_test)"
   ]
  },
  {
   "cell_type": "code",
   "execution_count": 46,
   "metadata": {},
   "outputs": [],
   "source": [
    "def rmse(y_test, y_predict):\n",
    "    return np.sqrt(mean_squared_error(y_test, y_predict))"
   ]
  },
  {
   "cell_type": "code",
   "execution_count": 47,
   "metadata": {},
   "outputs": [
    {
     "data": {
      "text/plain": [
       "4687.5020934674985"
      ]
     },
     "execution_count": 47,
     "metadata": {},
     "output_type": "execute_result"
    }
   ],
   "source": [
    "rmse(y_test, pred_Lr)"
   ]
  },
  {
   "cell_type": "code",
   "execution_count": 48,
   "metadata": {},
   "outputs": [
    {
     "data": {
      "text/plain": [
       "0.177710836635547"
      ]
     },
     "execution_count": 48,
     "metadata": {},
     "output_type": "execute_result"
    }
   ],
   "source": [
    "r2_score(y_test, pred_Lr)"
   ]
  },
  {
   "cell_type": "code",
   "execution_count": null,
   "metadata": {},
   "outputs": [],
   "source": []
  }
 ],
 "metadata": {
  "kernelspec": {
   "display_name": "Python 3 (ipykernel)",
   "language": "python",
   "name": "python3"
  },
  "language_info": {
   "codemirror_mode": {
    "name": "ipython",
    "version": 3
   },
   "file_extension": ".py",
   "mimetype": "text/x-python",
   "name": "python",
   "nbconvert_exporter": "python",
   "pygments_lexer": "ipython3",
   "version": "3.9.7"
  }
 },
 "nbformat": 4,
 "nbformat_minor": 4
}
